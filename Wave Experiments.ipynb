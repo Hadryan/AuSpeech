{
 "cells": [
  {
   "cell_type": "code",
   "execution_count": 62,
   "metadata": {},
   "outputs": [],
   "source": [
    "import os\n",
    "from wav2vec import WavDecoder, SVGFormatter"
   ]
  },
  {
   "cell_type": "code",
   "execution_count": 64,
   "metadata": {},
   "outputs": [],
   "source": [
    "PATH = \"MELD.Raw/train/train_splits/\""
   ]
  },
  {
   "cell_type": "markdown",
   "metadata": {},
   "source": [
    "### Convert MP4 to WAV"
   ]
  },
  {
   "cell_type": "code",
   "execution_count": null,
   "metadata": {},
   "outputs": [],
   "source": []
  },
  {
   "cell_type": "code",
   "execution_count": null,
   "metadata": {},
   "outputs": [],
   "source": []
  },
  {
   "cell_type": "code",
   "execution_count": 107,
   "metadata": {},
   "outputs": [
    {
     "name": "stdout",
     "output_type": "stream",
     "text": [
      "0 completed\n",
      "500 completed\n",
      "1000 completed\n",
      "1500 completed\n",
      "2000 completed\n",
      "2500 completed\n",
      "3000 completed\n",
      "3500 completed\n",
      "4000 completed\n",
      "4500 completed\n",
      "5000 completed\n",
      "5500 completed\n",
      "6000 completed\n",
      "6500 completed\n",
      "7000 completed\n",
      "7500 completed\n",
      "8000 completed\n",
      "8500 completed\n",
      "9000 completed\n",
      "9500 completed\n"
     ]
    }
   ],
   "source": [
    "for i, file in enumerate(os.listdir(PATH)):\n",
    "    if os.path.isfile(os.path.join(PATH, file)):\n",
    "        old_path = os.path.join(PATH, file)\n",
    "        new_path = os.path.join(PATH, \"wav\", file.split(\".\")[0] + \".wav\")\n",
    "        os.system(\"ffmpeg -i {} -ac 2 -ar 44100 {} 2> /dev/null\".format(old_path, new_path))\n",
    "        if i % 500 == 0:\n",
    "            print(\"{} completed\".format(i))"
   ]
  },
  {
   "cell_type": "code",
   "execution_count": 108,
   "metadata": {},
   "outputs": [],
   "source": [
    "f = [file.split(\".\")[0] for file in os.listdir(PATH)]\n",
    "f2 = [file.split(\".\")[0] for file in os.listdir(os.path.join(PATH, \"wav\"))]"
   ]
  },
  {
   "cell_type": "code",
   "execution_count": 109,
   "metadata": {},
   "outputs": [
    {
     "data": {
      "text/plain": [
       "{'chunks', 'dia125_utt3', 'wav'}"
      ]
     },
     "execution_count": 109,
     "metadata": {},
     "output_type": "execute_result"
    }
   ],
   "source": [
    "set(f).difference(set(f2))"
   ]
  },
  {
   "cell_type": "markdown",
   "metadata": {},
   "source": [
    "### Convert WAV files to list of frequencies"
   ]
  },
  {
   "cell_type": "code",
   "execution_count": 19,
   "metadata": {},
   "outputs": [],
   "source": [
    "wd = WavDecoder('MELD.Raw/train/train_splits/wav/dia0_utt0.wav')"
   ]
  },
  {
   "cell_type": "code",
   "execution_count": 6,
   "metadata": {},
   "outputs": [],
   "source": [
    "csv = CSVFormatter(wd)"
   ]
  },
  {
   "cell_type": "code",
   "execution_count": 35,
   "metadata": {},
   "outputs": [],
   "source": [
    "svg = SVGFormatter(wd)"
   ]
  },
  {
   "cell_type": "code",
   "execution_count": 38,
   "metadata": {},
   "outputs": [],
   "source": [
    "with open(\"test.svg\", \"w\") as fp:\n",
    "    fp.write(str(svg))"
   ]
  },
  {
   "cell_type": "code",
   "execution_count": 20,
   "metadata": {},
   "outputs": [],
   "source": [
    "frames = []\n",
    "for f in wd:\n",
    "    frames.append(f)"
   ]
  },
  {
   "cell_type": "code",
   "execution_count": 39,
   "metadata": {},
   "outputs": [
    {
     "data": {
      "text/plain": [
       "272384"
      ]
     },
     "execution_count": 39,
     "metadata": {},
     "output_type": "execute_result"
    }
   ],
   "source": [
    "len(frames[0][0])"
   ]
  },
  {
   "cell_type": "code",
   "execution_count": 40,
   "metadata": {},
   "outputs": [
    {
     "data": {
      "text/plain": [
       "272384"
      ]
     },
     "execution_count": 40,
     "metadata": {},
     "output_type": "execute_result"
    }
   ],
   "source": [
    "len(frames[0][1])"
   ]
  },
  {
   "cell_type": "code",
   "execution_count": 99,
   "metadata": {},
   "outputs": [],
   "source": [
    "import numpy as np\n",
    "x = np.fromfile(open('MELD.Raw/train/train_splits/wav/dia0_utt0.wav.wav'),np.int16)[24:]"
   ]
  },
  {
   "cell_type": "code",
   "execution_count": 79,
   "metadata": {},
   "outputs": [
    {
     "data": {
      "text/plain": [
       "array([21321, 21574,    14,     0, 24908], dtype=int16)"
      ]
     },
     "execution_count": 79,
     "metadata": {},
     "output_type": "execute_result"
    }
   ],
   "source": [
    "x[:5]"
   ]
  },
  {
   "cell_type": "code",
   "execution_count": 110,
   "metadata": {},
   "outputs": [],
   "source": [
    "wd = WavDecoder('MELD.Raw/train/train_splits/wav/dia50_utt0.wav')"
   ]
  },
  {
   "cell_type": "code",
   "execution_count": 111,
   "metadata": {},
   "outputs": [],
   "source": [
    "frames = []\n",
    "with wd as data:\n",
    "    for f in wd:\n",
    "        frames.append(f)"
   ]
  },
  {
   "cell_type": "code",
   "execution_count": 45,
   "metadata": {},
   "outputs": [
    {
     "data": {
      "text/plain": [
       "Point(x=1.0, y=-1.999969482421875)"
      ]
     },
     "execution_count": 45,
     "metadata": {},
     "output_type": "execute_result"
    }
   ],
   "source": [
    "frames[0][0][0]"
   ]
  },
  {
   "cell_type": "code",
   "execution_count": null,
   "metadata": {},
   "outputs": [
    {
     "name": "stdout",
     "output_type": "stream",
     "text": [
      "0 done\n",
      "100 done\n",
      "200 done\n",
      "300 done\n",
      "400 done\n",
      "500 done\n",
      "600 done\n",
      "700 done\n",
      "800 done\n",
      "900 done\n",
      "1000 done\n",
      "1100 done\n",
      "1200 done\n",
      "1300 done\n",
      "1400 done\n"
     ]
    }
   ],
   "source": [
    "master_list = {}\n",
    "for i, file in enumerate(os.listdir(\"MELD.Raw/train/train_splits/wav\")):\n",
    "    wd = WavDecoder(os.path.join('MELD.Raw/train/train_splits/wav/', file))\n",
    "    frames = []\n",
    "    for f in wd:\n",
    "        frames.append(f)\n",
    "    ys = [p.y for p in frames[0][0]]\n",
    "    master_list[file.split(\".\")[0]] = ys\n",
    "    if i % 100 == 0:\n",
    "        print(\"{} done\".format(i))"
   ]
  },
  {
   "cell_type": "code",
   "execution_count": null,
   "metadata": {},
   "outputs": [],
   "source": [
    "import json\n",
    "json.dump(master_list, open(\"raw_signal_embeddings.json\",\"w\"))"
   ]
  }
 ],
 "metadata": {
  "kernelspec": {
   "display_name": "Python 3",
   "language": "python",
   "name": "python3"
  },
  "language_info": {
   "codemirror_mode": {
    "name": "ipython",
    "version": 3
   },
   "file_extension": ".py",
   "mimetype": "text/x-python",
   "name": "python",
   "nbconvert_exporter": "python",
   "pygments_lexer": "ipython3",
   "version": "3.6.2"
  }
 },
 "nbformat": 4,
 "nbformat_minor": 4
}
