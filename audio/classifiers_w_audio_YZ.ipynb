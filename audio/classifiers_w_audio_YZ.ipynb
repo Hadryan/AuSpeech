{
 "cells": [
  {
   "cell_type": "markdown",
   "metadata": {},
   "source": [
    "# Classification with text and audio features\n",
    "Updates: \n",
    "* 03/11 - reorganize the code and rename some variables, \n",
    "  change `X` to `x_text`, `X_train` to `x_txt_train`, `X_test` to `x_txt_test`, `Y` to `y_text`\n",
    "* 03/18 - try NN\n",
    "  see the 2 code blocks under the section \"convert features and labels\" if you're trying to get x and y for NN.\n"
   ]
  },
  {
   "cell_type": "code",
   "execution_count": 192,
   "metadata": {},
   "outputs": [],
   "source": [
    "import librosa\n",
    "import soundfile\n",
    "import os, glob, pickle\n",
    "import numpy as np\n",
    "import pandas as pd\n",
    "\n",
    "from scipy.sparse import coo_matrix, hstack\n",
    "\n",
    "from sklearn.model_selection import train_test_split\n",
    "from sklearn.neural_network import MLPClassifier\n",
    "from sklearn.metrics import accuracy_score, classification_report\n",
    "\n",
    "from sklearn.utils import class_weight\n",
    "from sklearn.linear_model import LogisticRegression\n",
    "from sklearn.feature_extraction.text import CountVectorizer, TfidfTransformer\n",
    "from sklearn.naive_bayes import MultinomialNB\n",
    "\n",
    "from sklearn.model_selection import GridSearchCV\n",
    "\n",
    "import pickle\n",
    "\n",
    "## ref: https://data-flair.training/blogs/python-mini-project-speech-emotion-recognition/\n",
    "#DataFlair - Extract features (mfcc, chroma, mel) from a sound file\n",
    "def extract_feature(file_name, is_mfcc, is_chroma, is_mel):\n",
    "    \n",
    "    X, sample_rate = librosa.load(file_name, sr=None, mono=True)\n",
    "    \n",
    "    if is_chroma:\n",
    "        stft=np.abs(librosa.stft(X))\n",
    "    result=np.array([])\n",
    "    if is_mfcc:\n",
    "        mfccs=np.mean(librosa.feature.mfcc(y=X, sr=sample_rate, n_mfcc=40).T, axis=0)\n",
    "        result=np.hstack((result, mfccs))\n",
    "    if is_chroma:\n",
    "        chroma=np.mean(librosa.feature.chroma_stft(S=stft, sr=sample_rate).T,axis=0)\n",
    "        result=np.hstack((result, chroma))\n",
    "    if is_mel:\n",
    "        mel=np.mean(librosa.feature.melspectrogram(X, sr=sample_rate).T,axis=0)\n",
    "        result=np.hstack((result, mel))\n",
    "    return result\n",
    "\n",
    "\n",
    "#DataFlair - Load the data and extract features for each sound file\n",
    "def load_data(test_size=0.2):\n",
    "    x = []\n",
    "    audio_list = sorted(os.listdir(train_dir))\n",
    "    # gen = (x for x in audio_list)\n",
    "    \n",
    "    gen = (u for u in train_df[['Dialogue_ID', 'Utterance_ID']].values)\n",
    "    for dia_utt in gen:\n",
    "        dia_id = dia_utt[0]\n",
    "        utt_id = dia_utt[1]\n",
    "        file_name = f\"dia{dia_id}_utt{utt_id}.wav\"\n",
    "        \n",
    "        feature=extract_feature(train_dir + file_name, is_mfcc=True, is_chroma=True, is_mel=False)\n",
    "        x.append(feature)\n",
    "    \n",
    "    labels_1d = np.reshape(labels_matrix, max_dia * max_utt)\n",
    "    labels_1d = labels_1d[~np.equal(labels_1d, 99)]\n",
    "    y = list(labels_1d)\n",
    "    \n",
    "    return x, y\n",
    "\n",
    "# for file_name in gen:\n",
    "#     # file_name=os.path.basename(file) ## in the form of dia*_utt*.wav\n",
    "#     print(file_name)\n",
    "#     ## get ids for dialogue \n",
    "#     temp = file_name.split(\"_\")\n",
    "#     dia_id = int(temp[0][3:])\n",
    "#     utt_id = int(temp[1].split(\".\")[0][3:])\n",
    "\n",
    "#     # emotion=labels_matrix[dia_id, utt_id]\n",
    "#     # if emotion not in emotions:\n",
    "#     #     continue\n",
    "#     feature=extract_feature(train_dir + file_name, is_mfcc=True, is_chroma=True, is_mel=True)\n",
    "#     x_matrix[dia_id, utt_id] = feature"
   ]
  },
  {
   "cell_type": "code",
   "execution_count": 2,
   "metadata": {},
   "outputs": [],
   "source": [
    "max_dia = 1039\n",
    "max_utt = 24\n",
    "is_reload = False ## please set it to False if you are using features saved in pickle file \n",
    "test_size = 0.25\n",
    "total = 9988"
   ]
  },
  {
   "cell_type": "markdown",
   "metadata": {},
   "source": [
    "## Extract audio features"
   ]
  },
  {
   "cell_type": "code",
   "execution_count": 3,
   "metadata": {},
   "outputs": [],
   "source": [
    "train_dir = \"../data/train/\"\n",
    "emotions = ['neutral', 'surprise', 'fear', 'sadness', 'joy', 'disgust', 'anger']\n",
    "emo2int = dict(zip(emotions, range(len(emotions))))\n",
    "emo2int['empty'] = 99\n",
    "\n",
    "train_df = pd.read_csv(\"../data/train_sent_emo.csv\")\n",
    "## dia125_utt_3 not working\n",
    "remove_index = train_df[(train_df['Dialogue_ID'] == 125) & (train_df['Utterance_ID'] == 3)].index\n",
    "train_df = train_df.drop(index=remove_index)\n",
    "\n",
    "label_pivot = pd.pivot(data=train_df, columns=\"Utterance_ID\", index=\"Dialogue_ID\", values=\"Emotion\").fillna(\"empty\")\n",
    "label_pivot.loc[60] = [\"empty\"] * label_pivot.shape[1] ## for some reasons, there is no dialogue 60.\n",
    "label_pivot = label_pivot.sort_index()\n",
    "label_pivot = label_pivot.applymap(lambda x: emo2int[x])\n",
    "labels_matrix = label_pivot.values"
   ]
  },
  {
   "cell_type": "code",
   "execution_count": 4,
   "metadata": {},
   "outputs": [
    {
     "data": {
      "text/html": [
       "<div>\n",
       "<style scoped>\n",
       "    .dataframe tbody tr th:only-of-type {\n",
       "        vertical-align: middle;\n",
       "    }\n",
       "\n",
       "    .dataframe tbody tr th {\n",
       "        vertical-align: top;\n",
       "    }\n",
       "\n",
       "    .dataframe thead th {\n",
       "        text-align: right;\n",
       "    }\n",
       "</style>\n",
       "<table border=\"1\" class=\"dataframe\">\n",
       "  <thead>\n",
       "    <tr style=\"text-align: right;\">\n",
       "      <th></th>\n",
       "      <th>Sr No.</th>\n",
       "      <th>Utterance</th>\n",
       "      <th>Speaker</th>\n",
       "      <th>Emotion</th>\n",
       "      <th>Sentiment</th>\n",
       "      <th>Dialogue_ID</th>\n",
       "      <th>Utterance_ID</th>\n",
       "      <th>Season</th>\n",
       "      <th>Episode</th>\n",
       "      <th>StartTime</th>\n",
       "      <th>EndTime</th>\n",
       "    </tr>\n",
       "  </thead>\n",
       "  <tbody>\n",
       "    <tr>\n",
       "      <th>1163</th>\n",
       "      <td>1225</td>\n",
       "      <td>Hey, if mommy can have a wife, daddy can have ...</td>\n",
       "      <td>Ross</td>\n",
       "      <td>neutral</td>\n",
       "      <td>neutral</td>\n",
       "      <td>125</td>\n",
       "      <td>1</td>\n",
       "      <td>4</td>\n",
       "      <td>18</td>\n",
       "      <td>00:02:35,613</td>\n",
       "      <td>00:02:38,323</td>\n",
       "    </tr>\n",
       "    <tr>\n",
       "      <th>1164</th>\n",
       "      <td>1226</td>\n",
       "      <td>Ohh, its time to go.</td>\n",
       "      <td>Emily</td>\n",
       "      <td>neutral</td>\n",
       "      <td>neutral</td>\n",
       "      <td>125</td>\n",
       "      <td>2</td>\n",
       "      <td>4</td>\n",
       "      <td>18</td>\n",
       "      <td>00:02:40,869</td>\n",
       "      <td>00:02:42,119</td>\n",
       "    </tr>\n",
       "    <tr>\n",
       "      <th>1166</th>\n",
       "      <td>1228</td>\n",
       "      <td>Huh, what can we do in 17 minutes?</td>\n",
       "      <td>Ross</td>\n",
       "      <td>neutral</td>\n",
       "      <td>neutral</td>\n",
       "      <td>125</td>\n",
       "      <td>4</td>\n",
       "      <td>4</td>\n",
       "      <td>18</td>\n",
       "      <td>00:02:48,209</td>\n",
       "      <td>00:02:51,295</td>\n",
       "    </tr>\n",
       "  </tbody>\n",
       "</table>\n",
       "</div>"
      ],
      "text/plain": [
       "      Sr No.                                          Utterance Speaker  \\\n",
       "1163    1225  Hey, if mommy can have a wife, daddy can have ...    Ross   \n",
       "1164    1226                              Ohh, its time to go.   Emily   \n",
       "1166    1228                 Huh, what can we do in 17 minutes?    Ross   \n",
       "\n",
       "      Emotion Sentiment  Dialogue_ID  Utterance_ID  Season  Episode  \\\n",
       "1163  neutral   neutral          125             1       4       18   \n",
       "1164  neutral   neutral          125             2       4       18   \n",
       "1166  neutral   neutral          125             4       4       18   \n",
       "\n",
       "         StartTime       EndTime  \n",
       "1163  00:02:35,613  00:02:38,323  \n",
       "1164  00:02:40,869  00:02:42,119  \n",
       "1166  00:02:48,209  00:02:51,295  "
      ]
     },
     "execution_count": 4,
     "metadata": {},
     "output_type": "execute_result"
    }
   ],
   "source": [
    "train_df.iloc[1163:1166]"
   ]
  },
  {
   "cell_type": "code",
   "execution_count": 195,
   "metadata": {},
   "outputs": [],
   "source": [
    "#DataFlair - Split the dataset\n",
    "is_reload = True\n",
    "if is_reload:\n",
    "    x_audio, y = load_data(test_size=test_size)\n",
    "    with open(\"../data/train_audio_nomel.pickle\", 'wb') as pickle_out:\n",
    "        pickle.dump(x_audio, pickle_out)\n",
    "    with open(\"../data/train_labels_nomel.pickle\", 'wb') as pickle_out:\n",
    "        pickle.dump(y, pickle_out)\n",
    "else:\n",
    "    with open(\"../data/train_audio.pickle\", 'rb') as pickle_in:\n",
    "        x_audio = pickle.load(pickle_in)\n",
    "    with open(\"../data/train_labels.pickle\", 'rb') as pickle_in:\n",
    "        y = pickle.load(pickle_in)\n",
    "## x_audio was named as x before"
   ]
  },
  {
   "cell_type": "markdown",
   "metadata": {},
   "source": [
    "## Try some classifiers"
   ]
  },
  {
   "cell_type": "code",
   "execution_count": 6,
   "metadata": {},
   "outputs": [],
   "source": [
    "## Multi-layer Perceptron with only audio\n",
    "x_au_train,x_test,y_train,y_test = train_test_split(np.array(x_audio), y, test_size=test_size, random_state=9)\n",
    "model=MLPClassifier(alpha=0.01, batch_size=256, epsilon=1e-08, hidden_layer_sizes=(300,), learning_rate='adaptive', max_iter=500)\n",
    "model.fit(x_au_train,y_train)\n",
    "y_pred=model.predict(x_test)"
   ]
  },
  {
   "cell_type": "code",
   "execution_count": 7,
   "metadata": {},
   "outputs": [
    {
     "name": "stdout",
     "output_type": "stream",
     "text": [
      "              precision    recall  f1-score   support\n",
      "\n",
      "           0       0.48      0.79      0.60      1152\n",
      "           1       0.16      0.04      0.06       308\n",
      "           2       0.18      0.03      0.05        62\n",
      "           3       0.15      0.08      0.10       185\n",
      "           4       0.21      0.15      0.17       439\n",
      "           5       0.01      0.02      0.01        64\n",
      "           6       0.29      0.08      0.12       287\n",
      "\n",
      "    accuracy                           0.41      2497\n",
      "   macro avg       0.21      0.17      0.16      2497\n",
      "weighted avg       0.33      0.41      0.34      2497\n",
      "\n"
     ]
    }
   ],
   "source": [
    "print(classification_report(y_test, y_pred))"
   ]
  },
  {
   "cell_type": "code",
   "execution_count": 64,
   "metadata": {},
   "outputs": [
    {
     "name": "stdout",
     "output_type": "stream",
     "text": [
      "              precision    recall  f1-score   support\n",
      "\n",
      "       anger       0.25      0.08      0.12       257\n",
      "     disgust       0.00      0.00      0.00        65\n",
      "        fear       0.17      0.01      0.03        71\n",
      "         joy       0.23      0.22      0.23       441\n",
      "     neutral       0.51      0.81      0.62      1189\n",
      "     sadness       0.18      0.01      0.02       167\n",
      "    surprise       0.22      0.06      0.09       307\n",
      "\n",
      "    accuracy                           0.44      2497\n",
      "   macro avg       0.22      0.17      0.16      2497\n",
      "weighted avg       0.35      0.44      0.36      2497\n",
      "\n"
     ]
    }
   ],
   "source": [
    "print(classification_report(y_test, y_pred))"
   ]
  },
  {
   "cell_type": "markdown",
   "metadata": {},
   "source": [
    "## Extract text features \n",
    "(code from EmotionBaseline.ipynb)"
   ]
  },
  {
   "cell_type": "code",
   "execution_count": 6,
   "metadata": {},
   "outputs": [],
   "source": [
    "def cleaning(element):\n",
    "    final_list = []\n",
    "    \"\"\" Clean up text. Tokenize, lowercase, and remove punctuation and stopwords \"\"\"\n",
    "    #print(\"Running cleaner\")\n",
    "    # Remove punctuation, symbols (#) and stopwords\n",
    "    element = str(element).lower()\n",
    "    new_string = ''\n",
    "    for char in element:\n",
    "        if char not in punctuation_list:\n",
    "            new_string += char\n",
    "    all_wrds = new_string.split(\" \")\n",
    "    for word in all_wrds:\n",
    "        if word not in stop_words_list:\n",
    "            final_list.append(word)\n",
    "    final_string = ' '.join(final_list)\n",
    "    return final_string\n",
    "\n",
    "def tokenize(str_arg):\n",
    "    words = str_arg.split()\n",
    "    return words"
   ]
  },
  {
   "cell_type": "code",
   "execution_count": 78,
   "metadata": {},
   "outputs": [],
   "source": [
    "# !python -m spacy download en"
   ]
  },
  {
   "cell_type": "code",
   "execution_count": 7,
   "metadata": {},
   "outputs": [],
   "source": [
    "import spacy\n",
    "import string\n",
    "\n",
    "nlp = spacy.load('en')\n",
    "stop_words_list = list(spacy.lang.en.STOP_WORDS)\n",
    "punctuation_list = list(string.punctuation)\n",
    "punctuation_list.extend('\\r')\n",
    "punctuation_list.extend('\\n')\n",
    "punctuation_list.extend(['0', '1', '2', '3', '4', '5', '6', '7', '8', '9'])"
   ]
  },
  {
   "cell_type": "code",
   "execution_count": 8,
   "metadata": {},
   "outputs": [
    {
     "data": {
      "text/html": [
       "<div>\n",
       "<style scoped>\n",
       "    .dataframe tbody tr th:only-of-type {\n",
       "        vertical-align: middle;\n",
       "    }\n",
       "\n",
       "    .dataframe tbody tr th {\n",
       "        vertical-align: top;\n",
       "    }\n",
       "\n",
       "    .dataframe thead th {\n",
       "        text-align: right;\n",
       "    }\n",
       "</style>\n",
       "<table border=\"1\" class=\"dataframe\">\n",
       "  <thead>\n",
       "    <tr style=\"text-align: right;\">\n",
       "      <th></th>\n",
       "      <th>Sr No.</th>\n",
       "      <th>Utterance</th>\n",
       "      <th>Speaker</th>\n",
       "      <th>Emotion</th>\n",
       "      <th>Sentiment</th>\n",
       "      <th>Dialogue_ID</th>\n",
       "      <th>Utterance_ID</th>\n",
       "      <th>Season</th>\n",
       "      <th>Episode</th>\n",
       "      <th>StartTime</th>\n",
       "      <th>EndTime</th>\n",
       "      <th>cleaned_Utterance</th>\n",
       "      <th>tokens</th>\n",
       "    </tr>\n",
       "  </thead>\n",
       "  <tbody>\n",
       "    <tr>\n",
       "      <th>1163</th>\n",
       "      <td>1225</td>\n",
       "      <td>Hey, if mommy can have a wife, daddy can have ...</td>\n",
       "      <td>Ross</td>\n",
       "      <td>neutral</td>\n",
       "      <td>neutral</td>\n",
       "      <td>125</td>\n",
       "      <td>1</td>\n",
       "      <td>4</td>\n",
       "      <td>18</td>\n",
       "      <td>00:02:35,613</td>\n",
       "      <td>00:02:38,323</td>\n",
       "      <td>hey mommy wife daddy bra</td>\n",
       "      <td>[hey, mommy, wife, daddy, bra]</td>\n",
       "    </tr>\n",
       "    <tr>\n",
       "      <th>1164</th>\n",
       "      <td>1226</td>\n",
       "      <td>Ohh, its time to go.</td>\n",
       "      <td>Emily</td>\n",
       "      <td>neutral</td>\n",
       "      <td>neutral</td>\n",
       "      <td>125</td>\n",
       "      <td>2</td>\n",
       "      <td>4</td>\n",
       "      <td>18</td>\n",
       "      <td>00:02:40,869</td>\n",
       "      <td>00:02:42,119</td>\n",
       "      <td>ohh its time</td>\n",
       "      <td>[ohh, its, time]</td>\n",
       "    </tr>\n",
       "    <tr>\n",
       "      <th>1165</th>\n",
       "      <td>1228</td>\n",
       "      <td>Huh, what can we do in 17 minutes?</td>\n",
       "      <td>Ross</td>\n",
       "      <td>neutral</td>\n",
       "      <td>neutral</td>\n",
       "      <td>125</td>\n",
       "      <td>4</td>\n",
       "      <td>4</td>\n",
       "      <td>18</td>\n",
       "      <td>00:02:48,209</td>\n",
       "      <td>00:02:51,295</td>\n",
       "      <td>huh  minutes</td>\n",
       "      <td>[huh, minutes]</td>\n",
       "    </tr>\n",
       "  </tbody>\n",
       "</table>\n",
       "</div>"
      ],
      "text/plain": [
       "      Sr No.                                          Utterance Speaker  \\\n",
       "1163    1225  Hey, if mommy can have a wife, daddy can have ...    Ross   \n",
       "1164    1226                              Ohh, its time to go.   Emily   \n",
       "1165    1228                 Huh, what can we do in 17 minutes?    Ross   \n",
       "\n",
       "      Emotion Sentiment  Dialogue_ID  Utterance_ID  Season  Episode  \\\n",
       "1163  neutral   neutral          125             1       4       18   \n",
       "1164  neutral   neutral          125             2       4       18   \n",
       "1165  neutral   neutral          125             4       4       18   \n",
       "\n",
       "         StartTime       EndTime         cleaned_Utterance  \\\n",
       "1163  00:02:35,613  00:02:38,323  hey mommy wife daddy bra   \n",
       "1164  00:02:40,869  00:02:42,119             ohh its time   \n",
       "1165  00:02:48,209  00:02:51,295              huh  minutes   \n",
       "\n",
       "                              tokens  \n",
       "1163  [hey, mommy, wife, daddy, bra]  \n",
       "1164               [ohh, its, time]  \n",
       "1165                  [huh, minutes]  "
      ]
     },
     "execution_count": 8,
     "metadata": {},
     "output_type": "execute_result"
    }
   ],
   "source": [
    "train_df['cleaned_Utterance'] = train_df['Utterance'].apply(cleaning)\n",
    "train_df['tokens'] = train_df['cleaned_Utterance'].apply(tokenize)\n",
    "\n",
    "train_df.index = range(total)\n",
    "train_df.iloc[1163:1166]"
   ]
  },
  {
   "cell_type": "code",
   "execution_count": 9,
   "metadata": {},
   "outputs": [],
   "source": [
    "cleaned_utt = np.reshape(train_df['cleaned_Utterance'].values, (total,1))"
   ]
  },
  {
   "cell_type": "code",
   "execution_count": 10,
   "metadata": {},
   "outputs": [
    {
     "data": {
      "text/plain": [
       "[1, 0, 0, 5, 5, 0, 0, 1, 0, 4]"
      ]
     },
     "execution_count": 10,
     "metadata": {},
     "output_type": "execute_result"
    }
   ],
   "source": [
    "y[-10:]"
   ]
  },
  {
   "cell_type": "code",
   "execution_count": 11,
   "metadata": {},
   "outputs": [
    {
     "data": {
      "text/plain": [
       "9978    surprise\n",
       "9979     neutral\n",
       "9980     neutral\n",
       "9981     disgust\n",
       "9982     disgust\n",
       "9983     neutral\n",
       "9984     neutral\n",
       "9985    surprise\n",
       "9986     neutral\n",
       "9987         joy\n",
       "Name: Emotion, dtype: object"
      ]
     },
     "execution_count": 11,
     "metadata": {},
     "output_type": "execute_result"
    }
   ],
   "source": [
    "train_df['Emotion'][-10:]"
   ]
  },
  {
   "cell_type": "code",
   "execution_count": 10,
   "metadata": {},
   "outputs": [],
   "source": [
    "x_text = train_df['cleaned_Utterance'] # it was named as X\n",
    "y_text = train_df['Emotion'] # was named as Y\n",
    "x_txt_train, x_txt_test, y_txt_train, y_txt_test = train_test_split(x_text, y_text, test_size = test_size, random_state = 42)"
   ]
  },
  {
   "cell_type": "code",
   "execution_count": 11,
   "metadata": {},
   "outputs": [
    {
     "data": {
      "text/plain": [
       "[9988]"
      ]
     },
     "execution_count": 11,
     "metadata": {},
     "output_type": "execute_result"
    }
   ],
   "source": [
    "## IMPORTANT there's no index 1165 before, run this to chech if you fixed the indices\n",
    "[i for i in range(total + 1) if i not in y_text.index]"
   ]
  },
  {
   "cell_type": "code",
   "execution_count": 196,
   "metadata": {},
   "outputs": [],
   "source": [
    "# train_index = [i if i < 1165 else i - 1 for i in x_txt_train.index ]\n",
    "# aud_train = np.array(x)[train_index]\n",
    "# test_index = [i if i < 1165 else i - 1 for i in x_txt_test.index ]\n",
    "# aud_test = np.array(x)[test_index]\n",
    "\n",
    "aud_train = np.array(x_audio)[x_txt_train.index]\n",
    "aud_test = np.array(x_audio)[x_txt_test.index]\n"
   ]
  },
  {
   "cell_type": "code",
   "execution_count": 36,
   "metadata": {},
   "outputs": [
    {
     "data": {
      "text/plain": [
       "2022     neutral\n",
       "9873         joy\n",
       "2542    surprise\n",
       "2034        fear\n",
       "2732        fear\n",
       "8653     neutral\n",
       "7349    surprise\n",
       "1219     neutral\n",
       "6292     neutral\n",
       "4149         joy\n",
       "Name: Emotion, dtype: object"
      ]
     },
     "execution_count": 36,
     "metadata": {},
     "output_type": "execute_result"
    }
   ],
   "source": [
    "## check whether they are aligned\n",
    "train_df.loc[x_txt_train.index[:10]]['Emotion']"
   ]
  },
  {
   "cell_type": "code",
   "execution_count": 38,
   "metadata": {},
   "outputs": [
    {
     "data": {
      "text/plain": [
       "2022     neutral\n",
       "9873         joy\n",
       "2542    surprise\n",
       "2034        fear\n",
       "2732        fear\n",
       "8653     neutral\n",
       "7349    surprise\n",
       "1219     neutral\n",
       "6292     neutral\n",
       "4149         joy\n",
       "Name: Emotion, dtype: object"
      ]
     },
     "execution_count": 38,
     "metadata": {},
     "output_type": "execute_result"
    }
   ],
   "source": [
    "y_txt_train[:10]"
   ]
  },
  {
   "cell_type": "code",
   "execution_count": 40,
   "metadata": {},
   "outputs": [
    {
     "data": {
      "text/plain": [
       "1160     neutral\n",
       "1161         joy\n",
       "1162         joy\n",
       "1163     neutral\n",
       "1164     neutral\n",
       "1165     neutral\n",
       "1166     neutral\n",
       "1167     neutral\n",
       "1168     neutral\n",
       "1169    surprise\n",
       "Name: Emotion, dtype: object"
      ]
     },
     "execution_count": 40,
     "metadata": {},
     "output_type": "execute_result"
    }
   ],
   "source": [
    "train_df.loc[x_text[1160:1170].index]['Emotion']"
   ]
  },
  {
   "cell_type": "code",
   "execution_count": 43,
   "metadata": {},
   "outputs": [
    {
     "data": {
      "text/plain": [
       "1160     neutral\n",
       "1161         joy\n",
       "1162         joy\n",
       "1163     neutral\n",
       "1164     neutral\n",
       "1165     neutral\n",
       "1166     neutral\n",
       "1167     neutral\n",
       "1168     neutral\n",
       "1169    surprise\n",
       "Name: Emotion, dtype: object"
      ]
     },
     "execution_count": 43,
     "metadata": {},
     "output_type": "execute_result"
    }
   ],
   "source": [
    "y_text[1160:1170]"
   ]
  },
  {
   "cell_type": "code",
   "execution_count": 87,
   "metadata": {},
   "outputs": [],
   "source": [
    "# class_weights = class_weight.compute_class_weight('balanced',np.unique(Y_train),Y_train)"
   ]
  },
  {
   "cell_type": "code",
   "execution_count": 13,
   "metadata": {},
   "outputs": [],
   "source": [
    "count_vect = CountVectorizer()\n",
    "x_txt_train_counts = count_vect.fit_transform(x_txt_train)\n",
    "x_txt_test_counts = count_vect.transform(x_txt_test)"
   ]
  },
  {
   "cell_type": "code",
   "execution_count": 16,
   "metadata": {},
   "outputs": [
    {
     "data": {
      "text/plain": [
       "(7491, 4657)"
      ]
     },
     "execution_count": 16,
     "metadata": {},
     "output_type": "execute_result"
    }
   ],
   "source": [
    "x_txt_train_counts.shape"
   ]
  },
  {
   "cell_type": "code",
   "execution_count": 17,
   "metadata": {},
   "outputs": [
    {
     "data": {
      "text/plain": [
       "(7491, 180)"
      ]
     },
     "execution_count": 17,
     "metadata": {},
     "output_type": "execute_result"
    }
   ],
   "source": [
    "aud_train.shape"
   ]
  },
  {
   "cell_type": "code",
   "execution_count": 22,
   "metadata": {},
   "outputs": [
    {
     "data": {
      "text/plain": [
       "<1x10 sparse matrix of type '<class 'numpy.int64'>'\n",
       "\twith 0 stored elements in Compressed Sparse Row format>"
      ]
     },
     "execution_count": 22,
     "metadata": {},
     "output_type": "execute_result"
    }
   ],
   "source": [
    "x_txt_train_counts[0, :10]"
   ]
  },
  {
   "cell_type": "code",
   "execution_count": 18,
   "metadata": {},
   "outputs": [],
   "source": []
  },
  {
   "cell_type": "code",
   "execution_count": 197,
   "metadata": {},
   "outputs": [],
   "source": [
    "x_mix_train = hstack((x_txt_train_counts, aud_train))\n",
    "x_mix_test = hstack((x_txt_test_counts, aud_test))\n"
   ]
  },
  {
   "cell_type": "code",
   "execution_count": 52,
   "metadata": {},
   "outputs": [
    {
     "name": "stdout",
     "output_type": "stream",
     "text": [
      "              precision    recall  f1-score   support\n",
      "\n",
      "       anger       0.24      0.29      0.26       312\n",
      "     disgust       0.06      0.35      0.10        65\n",
      "        fear       0.02      0.12      0.04        57\n",
      "         joy       0.24      0.17      0.20       422\n",
      "     neutral       0.58      0.22      0.32      1152\n",
      "     sadness       0.11      0.28      0.15       160\n",
      "    surprise       0.21      0.17      0.19       329\n",
      "\n",
      "    accuracy                           0.22      2497\n",
      "   macro avg       0.21      0.23      0.18      2497\n",
      "weighted avg       0.37      0.22      0.25      2497\n",
      "\n"
     ]
    },
    {
     "name": "stderr",
     "output_type": "stream",
     "text": [
      "/anaconda3/lib/python3.7/site-packages/sklearn/linear_model/_logistic.py:940: ConvergenceWarning: lbfgs failed to converge (status=1):\n",
      "STOP: TOTAL NO. of ITERATIONS REACHED LIMIT.\n",
      "\n",
      "Increase the number of iterations (max_iter) or scale the data as shown in:\n",
      "    https://scikit-learn.org/stable/modules/preprocessing.html\n",
      "Please also refer to the documentation for alternative solver options:\n",
      "    https://scikit-learn.org/stable/modules/linear_model.html#logistic-regression\n",
      "  extra_warning_msg=_LOGISTIC_SOLVER_CONVERGENCE_MSG)\n"
     ]
    }
   ],
   "source": [
    "log_clf_wgt = LogisticRegression(class_weight='balanced').fit(x_mix_train, y_txt_train)\n",
    "\n",
    "y_log_pred = log_clf_wgt.predict(x_mix_test)\n",
    "accuracy = accuracy_score(np.array(y_txt_test), y_log_pred)\n",
    "# Combined report with all above metrics\n",
    "print(classification_report(y_txt_test, y_log_pred))"
   ]
  },
  {
   "cell_type": "markdown",
   "metadata": {},
   "source": [
    "## Logistic with Grid Search"
   ]
  },
  {
   "cell_type": "code",
   "execution_count": 71,
   "metadata": {},
   "outputs": [
    {
     "name": "stdout",
     "output_type": "stream",
     "text": [
      "Fitting 5 folds for each of 32 candidates, totalling 160 fits\n"
     ]
    },
    {
     "name": "stderr",
     "output_type": "stream",
     "text": [
      "[Parallel(n_jobs=-1)]: Using backend LokyBackend with 4 concurrent workers.\n",
      "[Parallel(n_jobs=-1)]: Done  33 tasks      | elapsed:  9.0min\n",
      "[Parallel(n_jobs=-1)]: Done 160 out of 160 | elapsed: 51.6min finished\n"
     ]
    }
   ],
   "source": [
    "param_grid = {'penalty' : ['l1', 'l2'],\n",
    "    'class_weight': ['balanced', None],\n",
    "    'C' : [0.5, 0.8, 0.9, 1, 1.2, 1.5, 2, 5],\n",
    "    'solver' : ['liblinear']}\n",
    "\n",
    "# Create grid search object\n",
    "logit = LogisticRegression(random_state=1)\n",
    "log_clf = GridSearchCV(logit, param_grid = param_grid, cv = 5, verbose=2, n_jobs=-1)\n",
    "\n",
    "# Fit on data\n",
    "grid_cv =log_clf.fit(x_mix_train, y_txt_train)"
   ]
  },
  {
   "cell_type": "code",
   "execution_count": 81,
   "metadata": {},
   "outputs": [
    {
     "data": {
      "text/plain": [
       "{'C': 0.8, 'class_weight': 'balanced', 'penalty': 'l2', 'solver': 'liblinear'}"
      ]
     },
     "execution_count": 81,
     "metadata": {},
     "output_type": "execute_result"
    }
   ],
   "source": [
    "results = pd.DataFrame(grid_cv.cv_results_).sort_values(['rank_test_score'])\n",
    "results.head(6)\n",
    "# best score may lie between C=[0.1, 10], l1 or l2, need deeper search\n",
    "best_wgt_params = results[results['param_class_weight'] == \"balanced\"].head(1)['params'].values[0]\n",
    "best_wgt_params"
   ]
  },
  {
   "cell_type": "code",
   "execution_count": 190,
   "metadata": {},
   "outputs": [
    {
     "name": "stdout",
     "output_type": "stream",
     "text": [
      "              precision    recall  f1-score   support\n",
      "\n",
      "       anger       0.26      0.20      0.22       312\n",
      "     disgust       0.14      0.18      0.16        65\n",
      "        fear       0.08      0.14      0.10        57\n",
      "         joy       0.39      0.35      0.37       422\n",
      "     neutral       0.57      0.63      0.60      1152\n",
      "     sadness       0.18      0.18      0.18       160\n",
      "    surprise       0.42      0.35      0.38       329\n",
      "\n",
      "    accuracy                           0.44      2497\n",
      "   macro avg       0.29      0.29      0.29      2497\n",
      "weighted avg       0.43      0.44      0.43      2497\n",
      "\n"
     ]
    }
   ],
   "source": [
    "best_wgt_params = {'C': 0.8, 'class_weight': 'balanced', 'penalty': 'l2', 'solver': 'liblinear'}\n",
    "base_logit_wgt = LogisticRegression(random_state=1, **best_wgt_params)\n",
    "base_logit_wgt.fit(x_txt_train_counts, y_txt_train)\n",
    "base_logit_wgt_pred = base_logit_wgt.predict(x_txt_test_counts)\n",
    "print(classification_report(y_txt_test, base_logit_wgt_pred))"
   ]
  },
  {
   "cell_type": "code",
   "execution_count": 198,
   "metadata": {},
   "outputs": [
    {
     "name": "stdout",
     "output_type": "stream",
     "text": [
      "              precision    recall  f1-score   support\n",
      "\n",
      "       anger       0.27      0.27      0.27       312\n",
      "     disgust       0.11      0.15      0.13        65\n",
      "        fear       0.08      0.16      0.11        57\n",
      "         joy       0.42      0.33      0.37       422\n",
      "     neutral       0.61      0.63      0.62      1152\n",
      "     sadness       0.21      0.21      0.21       160\n",
      "    surprise       0.39      0.37      0.38       329\n",
      "\n",
      "    accuracy                           0.45      2497\n",
      "   macro avg       0.30      0.30      0.30      2497\n",
      "weighted avg       0.46      0.45      0.45      2497\n",
      "\n"
     ]
    }
   ],
   "source": [
    "best_logit_wgt = LogisticRegression(random_state=1, **best_wgt_params)\n",
    "best_logit_wgt.fit(x_mix_train, y_txt_train)\n",
    "best_logit_wgt_pred = best_logit_wgt.predict(x_mix_test)\n",
    "print(classification_report(y_txt_test, best_logit_wgt_pred))"
   ]
  },
  {
   "cell_type": "code",
   "execution_count": 86,
   "metadata": {},
   "outputs": [
    {
     "data": {
      "text/plain": [
       "LogisticRegression(C=0.5, class_weight=None, dual=False, fit_intercept=True,\n",
       "                   intercept_scaling=1, l1_ratio=None, max_iter=100,\n",
       "                   multi_class='auto', n_jobs=None, penalty='l1',\n",
       "                   random_state=1, solver='liblinear', tol=0.0001, verbose=0,\n",
       "                   warm_start=False)"
      ]
     },
     "execution_count": 86,
     "metadata": {},
     "output_type": "execute_result"
    }
   ],
   "source": [
    "best_logit = LogisticRegression(random_state=1, **grid_cv.best_params_)\n",
    "best_logit.fit(x_mix_train, y_txt_train)\n",
    "best_logit_unwgt = best_logit.predict(x_mix_test)\n",
    "best_logit"
   ]
  },
  {
   "cell_type": "code",
   "execution_count": 90,
   "metadata": {},
   "outputs": [
    {
     "name": "stdout",
     "output_type": "stream",
     "text": [
      "              precision    recall  f1-score   support\n",
      "\n",
      "       anger       0.37      0.14      0.20       312\n",
      "     disgust       0.50      0.02      0.03        65\n",
      "        fear       0.17      0.02      0.03        57\n",
      "         joy       0.46      0.21      0.29       422\n",
      "     neutral       0.52      0.92      0.66      1152\n",
      "     sadness       0.32      0.07      0.12       160\n",
      "    surprise       0.65      0.19      0.29       329\n",
      "\n",
      "    accuracy                           0.51      2497\n",
      "   macro avg       0.43      0.22      0.23      2497\n",
      "weighted avg       0.49      0.51      0.43      2497\n",
      "\n"
     ]
    }
   ],
   "source": [
    "print(classification_report(y_txt_test, best_logit_unwgt))"
   ]
  },
  {
   "cell_type": "code",
   "execution_count": 85,
   "metadata": {},
   "outputs": [
    {
     "data": {
      "text/plain": [
       "array(['neutral', 'neutral', 'neutral', ..., 'neutral', 'neutral',\n",
       "       'neutral'], dtype=object)"
      ]
     },
     "execution_count": 85,
     "metadata": {},
     "output_type": "execute_result"
    }
   ],
   "source": [
    "best_logit_wgt"
   ]
  },
  {
   "cell_type": "code",
   "execution_count": 77,
   "metadata": {},
   "outputs": [
    {
     "name": "stdout",
     "output_type": "stream",
     "text": [
      "              precision    recall  f1-score   support\n",
      "\n",
      "       anger       0.37      0.14      0.20       312\n",
      "     disgust       0.50      0.02      0.03        65\n",
      "        fear       0.17      0.02      0.03        57\n",
      "         joy       0.46      0.21      0.29       422\n",
      "     neutral       0.52      0.92      0.66      1152\n",
      "     sadness       0.32      0.07      0.12       160\n",
      "    surprise       0.65      0.19      0.29       329\n",
      "\n",
      "    accuracy                           0.51      2497\n",
      "   macro avg       0.43      0.22      0.23      2497\n",
      "weighted avg       0.49      0.51      0.43      2497\n",
      "\n"
     ]
    }
   ],
   "source": [
    "print(classification_report(y_txt_test, best_logit_unwgt))"
   ]
  },
  {
   "cell_type": "code",
   "execution_count": 68,
   "metadata": {},
   "outputs": [
    {
     "name": "stdout",
     "output_type": "stream",
     "text": [
      "              precision    recall  f1-score   support\n",
      "\n",
      "       anger       0.39      0.18      0.25       312\n",
      "     disgust       0.20      0.02      0.03        65\n",
      "        fear       0.18      0.04      0.06        57\n",
      "         joy       0.43      0.23      0.30       422\n",
      "     neutral       0.53      0.89      0.66      1152\n",
      "     sadness       0.29      0.09      0.13       160\n",
      "    surprise       0.53      0.22      0.32       329\n",
      "\n",
      "    accuracy                           0.51      2497\n",
      "   macro avg       0.36      0.24      0.25      2497\n",
      "weighted avg       0.46      0.51      0.44      2497\n",
      "\n"
     ]
    }
   ],
   "source": [
    "print(classification_report(y_txt_test, best_logit_unwgt))"
   ]
  },
  {
   "cell_type": "code",
   "execution_count": 99,
   "metadata": {
    "collapsed": true,
    "jupyter": {
     "outputs_hidden": true
    }
   },
   "outputs": [
    {
     "name": "stdout",
     "output_type": "stream",
     "text": [
      "              precision    recall  f1-score   support\n",
      "\n",
      "           0       0.63      0.33      0.43       453\n",
      "           1       0.30      0.54      0.38       133\n",
      "           2       0.07      0.24      0.11        21\n",
      "           3       0.17      0.20      0.19        71\n",
      "           4       0.39      0.40      0.40       177\n",
      "           5       0.07      0.16      0.10        25\n",
      "           6       0.20      0.23      0.22       119\n",
      "\n",
      "    accuracy                           0.34       999\n",
      "   macro avg       0.26      0.30      0.26       999\n",
      "weighted avg       0.43      0.34      0.36       999\n",
      "\n"
     ]
    }
   ],
   "source": [
    "model2=MLPClassifier(alpha=0.01, batch_size=256, epsilon=1e-08, hidden_layer_sizes=(300,), learning_rate='adaptive', max_iter=500)\n",
    "model2.fit(x_txt_train_mix, Y_train)\n",
    "y_pred=model2.predict(x_txt_test_mix)\n"
   ]
  },
  {
   "cell_type": "code",
   "execution_count": 100,
   "metadata": {},
   "outputs": [
    {
     "name": "stdout",
     "output_type": "stream",
     "text": [
      "              precision    recall  f1-score   support\n",
      "\n",
      "           0       0.55      0.45      0.49       453\n",
      "           1       0.32      0.37      0.34       133\n",
      "           2       0.04      0.05      0.04        21\n",
      "           3       0.14      0.07      0.09        71\n",
      "           4       0.25      0.45      0.32       177\n",
      "           5       0.08      0.04      0.05        25\n",
      "           6       0.18      0.13      0.15       119\n",
      "\n",
      "    accuracy                           0.35       999\n",
      "   macro avg       0.22      0.22      0.21       999\n",
      "weighted avg       0.37      0.35      0.35       999\n",
      "\n"
     ]
    }
   ],
   "source": [
    "print(classification_report(Y_test, y_pred))"
   ]
  },
  {
   "cell_type": "code",
   "execution_count": 101,
   "metadata": {},
   "outputs": [
    {
     "name": "stdout",
     "output_type": "stream",
     "text": [
      "              precision    recall  f1-score   support\n",
      "\n",
      "           0       0.55      0.20      0.29      1152\n",
      "           1       0.13      0.12      0.12       308\n",
      "           2       0.04      0.18      0.07        62\n",
      "           3       0.11      0.25      0.15       185\n",
      "           4       0.26      0.20      0.23       439\n",
      "           5       0.04      0.27      0.07        64\n",
      "           6       0.24      0.31      0.27       287\n",
      "\n",
      "    accuracy                           0.21      2497\n",
      "   macro avg       0.20      0.22      0.17      2497\n",
      "weighted avg       0.35      0.21      0.24      2497\n",
      "\n"
     ]
    },
    {
     "name": "stderr",
     "output_type": "stream",
     "text": [
      "/anaconda3/lib/python3.7/site-packages/sklearn/linear_model/_logistic.py:940: ConvergenceWarning: lbfgs failed to converge (status=1):\n",
      "STOP: TOTAL NO. of ITERATIONS REACHED LIMIT.\n",
      "\n",
      "Increase the number of iterations (max_iter) or scale the data as shown in:\n",
      "    https://scikit-learn.org/stable/modules/preprocessing.html\n",
      "Please also refer to the documentation for alternative solver options:\n",
      "    https://scikit-learn.org/stable/modules/linear_model.html#logistic-regression\n",
      "  extra_warning_msg=_LOGISTIC_SOLVER_CONVERGENCE_MSG)\n"
     ]
    }
   ],
   "source": [
    "## using logistic on only audio data\n",
    "log_clf_wgt2 = LogisticRegression(class_weight='balanced').fit(x_train, y_train)\n",
    "y_pred_log2 = log_clf_wgt2.predict(x_test)\n",
    "print(classification_report(y_test, y_pred_log2))"
   ]
  },
  {
   "cell_type": "code",
   "execution_count": 26,
   "metadata": {},
   "outputs": [],
   "source": [
    "sample_rate = 44100\n",
    "this_audio = train_dir + \"dia39_utt16.wav\"\n",
    "X, sr = librosa.load(this_audio, sr=None, mono=True)"
   ]
  },
  {
   "cell_type": "code",
   "execution_count": 27,
   "metadata": {},
   "outputs": [
    {
     "data": {
      "text/plain": [
       "(1025, 833)"
      ]
     },
     "execution_count": 27,
     "metadata": {},
     "output_type": "execute_result"
    }
   ],
   "source": [
    "stft=np.abs(librosa.stft(X))\n",
    "stft.shape"
   ]
  },
  {
   "cell_type": "code",
   "execution_count": 28,
   "metadata": {},
   "outputs": [],
   "source": [
    "result=np.array([])\n",
    "mfccs=np.mean(librosa.feature.mfcc(y=X, sr=sr, n_mfcc=40).T, axis=0)\n",
    "result=np.hstack((result, mfccs))"
   ]
  },
  {
   "cell_type": "markdown",
   "metadata": {},
   "source": [
    "## Emotion classification using a Simple NN"
   ]
  },
  {
   "cell_type": "code",
   "execution_count": 15,
   "metadata": {},
   "outputs": [
    {
     "name": "stderr",
     "output_type": "stream",
     "text": [
      "Using TensorFlow backend.\n"
     ]
    }
   ],
   "source": [
    "from keras import models, layers"
   ]
  },
  {
   "cell_type": "markdown",
   "metadata": {},
   "source": [
    "### convert features and lables"
   ]
  },
  {
   "cell_type": "code",
   "execution_count": 23,
   "metadata": {},
   "outputs": [],
   "source": [
    "def convert_y(y_labels, num_class=2):\n",
    "    \"\"\"convert a list of labels to one-hot encoding for neural network\"\"\"\n",
    "    if num_class > 2:\n",
    "        encodings = np.zeros((len(y_labels), num_class))\n",
    "    else:\n",
    "        raise ValueError(\"Number of class should be greater than 2, num_class =\", num_class)\n",
    "    for i, this_y in enumerate(y_labels):\n",
    "        encodings[i, this_y] = 1\n",
    "    return encodings"
   ]
  },
  {
   "cell_type": "code",
   "execution_count": 207,
   "metadata": {},
   "outputs": [],
   "source": [
    "x_arr_train = x_mix_train.toarray()\n",
    "x_arr_test = x_mix_test.toarray()\n",
    "\n",
    "y_num_train = np.array(y)[y_txt_train.index]\n",
    "y_num_test = np.array(y)[y_txt_test.index]\n",
    "y_1hot_train = convert_y(y_num_train, 7)\n",
    "y_1hot_test = convert_y(y_num_test, 7)\n",
    "\n",
    "input_shape = x_mix_train.shape[1]"
   ]
  },
  {
   "cell_type": "code",
   "execution_count": 70,
   "metadata": {},
   "outputs": [],
   "source": [
    "simple_nn = models.Sequential()\n",
    "simple_nn.add(layers.Dense(32, activation='relu', input_shape=(input_shape, )))\n",
    "simple_nn.add(layers.Dense(16, activation='relu'))\n",
    "simple_nn.add(layers.Dense(7, activation='softmax'))\n",
    "simple_nn.compile(loss='categorical_crossentropy', optimizer='adam', metrics=['accuracy'])"
   ]
  },
  {
   "cell_type": "code",
   "execution_count": 33,
   "metadata": {},
   "outputs": [
    {
     "name": "stdout",
     "output_type": "stream",
     "text": [
      "Model: \"sequential_3\"\n",
      "_________________________________________________________________\n",
      "Layer (type)                 Output Shape              Param #   \n",
      "=================================================================\n",
      "dense_4 (Dense)              (None, 32)                154816    \n",
      "_________________________________________________________________\n",
      "dense_5 (Dense)              (None, 16)                528       \n",
      "_________________________________________________________________\n",
      "dense_6 (Dense)              (None, 7)                 119       \n",
      "=================================================================\n",
      "Total params: 155,463\n",
      "Trainable params: 155,463\n",
      "Non-trainable params: 0\n",
      "_________________________________________________________________\n"
     ]
    }
   ],
   "source": [
    "simple_nn.summary()"
   ]
  },
  {
   "cell_type": "code",
   "execution_count": 36,
   "metadata": {},
   "outputs": [
    {
     "data": {
      "text/plain": [
       "array([[0.00000000e+00, 0.00000000e+00, 0.00000000e+00, ...,\n",
       "        1.74471360e-09, 1.72682491e-09, 1.69412095e-09],\n",
       "       [0.00000000e+00, 0.00000000e+00, 0.00000000e+00, ...,\n",
       "        3.46812584e-07, 3.42379650e-07, 3.40634188e-07],\n",
       "       [0.00000000e+00, 0.00000000e+00, 0.00000000e+00, ...,\n",
       "        1.26655038e-07, 1.24367318e-07, 1.23367855e-07],\n",
       "       ...,\n",
       "       [0.00000000e+00, 0.00000000e+00, 0.00000000e+00, ...,\n",
       "        5.23652277e-09, 5.20029309e-09, 5.06713382e-09],\n",
       "       [0.00000000e+00, 0.00000000e+00, 0.00000000e+00, ...,\n",
       "        1.38951861e-09, 1.39165923e-09, 1.40881651e-09],\n",
       "       [0.00000000e+00, 0.00000000e+00, 0.00000000e+00, ...,\n",
       "        8.01268953e-08, 7.71062858e-08, 7.68958301e-08]])"
      ]
     },
     "execution_count": 36,
     "metadata": {},
     "output_type": "execute_result"
    }
   ],
   "source": [
    "x_mix_test.toarray()"
   ]
  },
  {
   "cell_type": "code",
   "execution_count": 58,
   "metadata": {
    "collapsed": true,
    "jupyter": {
     "outputs_hidden": true
    }
   },
   "outputs": [
    {
     "name": "stdout",
     "output_type": "stream",
     "text": [
      "Epoch 1/25\n",
      "7491/7491 [==============================] - 1s 159us/step - loss: 0.6053 - accuracy: 0.7975\n",
      "Epoch 2/25\n",
      "7491/7491 [==============================] - 1s 114us/step - loss: 0.5869 - accuracy: 0.8023\n",
      "Epoch 3/25\n",
      "7491/7491 [==============================] - 1s 119us/step - loss: 0.5911 - accuracy: 0.7992\n",
      "Epoch 4/25\n",
      "7491/7491 [==============================] - 1s 119us/step - loss: 0.6449 - accuracy: 0.7817\n",
      "Epoch 5/25\n",
      "7491/7491 [==============================] - 1s 114us/step - loss: 0.6033 - accuracy: 0.7915\n",
      "Epoch 6/25\n",
      "7491/7491 [==============================] - 1s 119us/step - loss: 0.5929 - accuracy: 0.8034\n",
      "Epoch 7/25\n",
      "7491/7491 [==============================] - 1s 132us/step - loss: 0.5959 - accuracy: 0.7987\n",
      "Epoch 8/25\n",
      "7491/7491 [==============================] - 1s 116us/step - loss: 0.5811 - accuracy: 0.8024\n",
      "Epoch 9/25\n",
      "7491/7491 [==============================] - 1s 132us/step - loss: 0.5764 - accuracy: 0.8035\n",
      "Epoch 10/25\n",
      "7491/7491 [==============================] - 1s 132us/step - loss: 0.5587 - accuracy: 0.8116\n",
      "Epoch 11/25\n",
      "7491/7491 [==============================] - 1s 119us/step - loss: 0.5647 - accuracy: 0.8042\n",
      "Epoch 12/25\n",
      "7491/7491 [==============================] - 1s 124us/step - loss: 0.5656 - accuracy: 0.8072\n",
      "Epoch 13/25\n",
      "7491/7491 [==============================] - 1s 129us/step - loss: 0.5499 - accuracy: 0.8150\n",
      "Epoch 14/25\n",
      "7491/7491 [==============================] - 1s 126us/step - loss: 0.5410 - accuracy: 0.8168\n",
      "Epoch 15/25\n",
      "7491/7491 [==============================] - 1s 119us/step - loss: 0.5673 - accuracy: 0.8056\n",
      "Epoch 16/25\n",
      "7491/7491 [==============================] - 1s 119us/step - loss: 0.5548 - accuracy: 0.8106\n",
      "Epoch 17/25\n",
      "7491/7491 [==============================] - 1s 130us/step - loss: 0.5443 - accuracy: 0.8159\n",
      "Epoch 18/25\n",
      "7491/7491 [==============================] - 1s 140us/step - loss: 0.5521 - accuracy: 0.8063\n",
      "Epoch 19/25\n",
      "7491/7491 [==============================] - 1s 127us/step - loss: 0.5505 - accuracy: 0.8108\n",
      "Epoch 20/25\n",
      "7491/7491 [==============================] - 1s 125us/step - loss: 0.5341 - accuracy: 0.8195\n",
      "Epoch 21/25\n",
      "7491/7491 [==============================] - 1s 123us/step - loss: 0.5359 - accuracy: 0.8199\n",
      "Epoch 22/25\n",
      "7491/7491 [==============================] - 1s 138us/step - loss: 0.5245 - accuracy: 0.8217\n",
      "Epoch 23/25\n",
      "7491/7491 [==============================] - 1s 142us/step - loss: 0.5336 - accuracy: 0.8163\n",
      "Epoch 24/25\n",
      "7491/7491 [==============================] - 1s 124us/step - loss: 0.5247 - accuracy: 0.8199\n",
      "Epoch 25/25\n",
      "7491/7491 [==============================] - 1s 145us/step - loss: 0.5173 - accuracy: 0.8221\n"
     ]
    }
   ],
   "source": [
    "history = simple_nn.fit(x_arr_train, y_1hot_train, epochs=25, batch_size=128, verbose=0)\n",
    "y_nn_predict = simple_nn.predict(x_arr_test)"
   ]
  },
  {
   "cell_type": "code",
   "execution_count": 65,
   "metadata": {},
   "outputs": [],
   "source": [
    "int2emo = {v: k for k,v in emo2int.items()}"
   ]
  },
  {
   "cell_type": "code",
   "execution_count": 68,
   "metadata": {},
   "outputs": [
    {
     "name": "stdout",
     "output_type": "stream",
     "text": [
      "              precision    recall  f1-score   support\n",
      "\n",
      "     neutral       0.56      0.63      0.59      1152\n",
      "    surprise       0.39      0.22      0.28       329\n",
      "        fear       0.06      0.04      0.05        57\n",
      "     sadness       0.14      0.11      0.12       160\n",
      "         joy       0.32      0.41      0.36       422\n",
      "     disgust       0.11      0.11      0.11        65\n",
      "       anger       0.29      0.24      0.26       312\n",
      "\n",
      "    accuracy                           0.43      2497\n",
      "   macro avg       0.27      0.25      0.25      2497\n",
      "weighted avg       0.41      0.43      0.42      2497\n",
      "\n"
     ]
    }
   ],
   "source": [
    "print(classification_report(np.argmax(y_1hot_test, axis=1), np.argmax(y_nn_predict, axis=1), target_names=emotions))"
   ]
  },
  {
   "cell_type": "code",
   "execution_count": 62,
   "metadata": {},
   "outputs": [
    {
     "data": {
      "text/plain": [
       "array([3, 0, 3, ..., 4, 3, 0])"
      ]
     },
     "execution_count": 62,
     "metadata": {},
     "output_type": "execute_result"
    }
   ],
   "source": [
    "np.argmax(y_1hot_test, axis=1)"
   ]
  },
  {
   "cell_type": "code",
   "execution_count": 61,
   "metadata": {},
   "outputs": [
    {
     "data": {
      "text/plain": [
       "array([0, 4, 0, ..., 4, 0, 4])"
      ]
     },
     "execution_count": 61,
     "metadata": {},
     "output_type": "execute_result"
    }
   ],
   "source": [
    "np.argmax(y_nn_predict, axis=1)"
   ]
  },
  {
   "cell_type": "code",
   "execution_count": 51,
   "metadata": {},
   "outputs": [
    {
     "data": {
      "image/png": "[encoded data removed]",
      "text/plain": [
       "<Figure size 432x288 with 1 Axes>"
      ]
     },
     "metadata": {
      "needs_background": "light"
     },
     "output_type": "display_data"
    }
   ],
   "source": [
    "import matplotlib.pyplot as plt\n",
    "\n",
    "loss = history.history['loss']\n",
    "val_loss = history.history['val_loss']\n",
    "\n",
    "epochs = range(1, len(loss) + 1)\n",
    "\n",
    "# \"bo\" is for \"blue dot\"\n",
    "plt.plot(epochs, loss, 'bo', label='Training loss')\n",
    "# b is for \"solid blue line\"\n",
    "plt.plot(epochs, val_loss, 'b', label='Validation loss')\n",
    "plt.title('Training and validation loss')\n",
    "plt.xlabel('Epochs')\n",
    "plt.ylabel('Loss')\n",
    "plt.legend()\n",
    "\n",
    "plt.show()"
   ]
  },
  {
   "cell_type": "code",
   "execution_count": 53,
   "metadata": {},
   "outputs": [
    {
     "data": {
      "text/plain": [
       "range(1, 26)"
      ]
     },
     "execution_count": 53,
     "metadata": {},
     "output_type": "execute_result"
    }
   ],
   "source": [
    "epochs"
   ]
  },
  {
   "cell_type": "code",
   "execution_count": 54,
   "metadata": {},
   "outputs": [
    {
     "data": {
      "image/png": "[encoded data removed]",
      "text/plain": [
       "<Figure size 432x288 with 1 Axes>"
      ]
     },
     "metadata": {
      "needs_background": "light"
     },
     "output_type": "display_data"
    }
   ],
   "source": [
    "plt.clf()   # clear figure\n",
    "acc = history.history['accuracy']\n",
    "val_acc = history.history['val_accuracy']\n",
    "\n",
    "plt.plot(epochs, acc, 'bo', label='Training acc')\n",
    "plt.plot(epochs, val_acc, 'b', label='Validation acc')\n",
    "plt.title('Training and validation accuracy')\n",
    "plt.xlabel('Epochs')\n",
    "plt.ylabel('Loss')\n",
    "plt.legend()\n",
    "\n",
    "plt.show()"
   ]
  },
  {
   "cell_type": "markdown",
   "metadata": {},
   "source": [
    "## MLP with regularization"
   ]
  },
  {
   "cell_type": "code",
   "execution_count": 88,
   "metadata": {},
   "outputs": [],
   "source": [
    "from keras.constraints import unit_norm, min_max_norm\n",
    "from keras.callbacks import EarlyStopping"
   ]
  },
  {
   "cell_type": "code",
   "execution_count": 209,
   "metadata": {},
   "outputs": [],
   "source": [
    "nn_model2 = models.Sequential()\n",
    "nn_model2.add(layers.Dense(32, activation='tanh', input_shape=(input_shape, ), kernel_constraint=min_max_norm(-3, 3), bias_constraint=unit_norm()))\n",
    "nn_model2.add(layers.Dropout(0.2))\n",
    "nn_model2.add(layers.Dense(16, activation='tanh'))\n",
    "nn_model2.add(layers.Dropout(0.2))\n",
    "nn_model2.add(layers.Dense(7, activation='softmax'))\n",
    "nn_model2.compile(loss='categorical_crossentropy', optimizer='adam', metrics=['categorical_accuracy'])"
   ]
  },
  {
   "cell_type": "code",
   "execution_count": 213,
   "metadata": {},
   "outputs": [
    {
     "name": "stdout",
     "output_type": "stream",
     "text": [
      "Epoch 00002: early stopping\n"
     ]
    }
   ],
   "source": [
    "es = EarlyStopping(monitor='val_categorical_accuracy', mode='max', verbose=1)\n",
    "\n",
    "history2 = nn_model2.fit(x_arr_train, y_1hot_train, epochs=15, batch_size=128, validation_split=0.15, verbose=0, callbacks=[es]) #\n"
   ]
  },
  {
   "cell_type": "code",
   "execution_count": 211,
   "metadata": {},
   "outputs": [
    {
     "data": {
      "image/png": "[encoded data removed]",
      "text/plain": [
       "<Figure size 432x288 with 1 Axes>"
      ]
     },
     "metadata": {
      "needs_background": "light"
     },
     "output_type": "display_data"
    }
   ],
   "source": [
    "loss = history2.history['loss']\n",
    "val_loss = history2.history['val_loss']\n",
    "\n",
    "epochs = range(1, len(loss) + 1)\n",
    "\n",
    "# \"bo\" is for \"blue dot\"\n",
    "plt.plot(epochs, loss, 'bo', label='Training loss')\n",
    "# b is for \"solid blue line\"\n",
    "plt.plot(epochs, val_loss, 'b', label='Validation loss')\n",
    "plt.title('Training and validation loss')\n",
    "plt.xlabel('Epochs')\n",
    "plt.ylabel('Loss')\n",
    "plt.legend()\n",
    "\n",
    "plt.show()"
   ]
  },
  {
   "cell_type": "code",
   "execution_count": 141,
   "metadata": {},
   "outputs": [
    {
     "data": {
      "image/png": "[encoded data removed]",
      "text/plain": [
       "<Figure size 432x288 with 1 Axes>"
      ]
     },
     "metadata": {
      "needs_background": "light"
     },
     "output_type": "display_data"
    }
   ],
   "source": [
    "acc = history2.history['categorical_accuracy']\n",
    "val_acc = history2.history['val_categorical_accuracy']\n",
    "\n",
    "plt.plot(epochs, acc, 'bo', label='Training acc')\n",
    "plt.plot(epochs, val_acc, 'b', label='Validation acc')\n",
    "plt.title('Training and validation accuracy')\n",
    "plt.xlabel('Epochs')\n",
    "plt.ylabel('Loss')\n",
    "plt.legend()\n",
    "\n",
    "plt.show()"
   ]
  },
  {
   "cell_type": "code",
   "execution_count": 214,
   "metadata": {},
   "outputs": [
    {
     "name": "stdout",
     "output_type": "stream",
     "text": [
      "              precision    recall  f1-score   support\n",
      "\n",
      "     neutral       0.46      1.00      0.63      1152\n",
      "    surprise       0.00      0.00      0.00       329\n",
      "        fear       0.00      0.00      0.00        57\n",
      "     sadness       0.00      0.00      0.00       160\n",
      "         joy       0.00      0.00      0.00       422\n",
      "     disgust       0.00      0.00      0.00        65\n",
      "       anger       0.00      0.00      0.00       312\n",
      "\n",
      "    accuracy                           0.46      2497\n",
      "   macro avg       0.07      0.14      0.09      2497\n",
      "weighted avg       0.21      0.46      0.29      2497\n",
      "\n"
     ]
    }
   ],
   "source": [
    "y_nn_predict2 = nn_model2.predict(x_arr_test)\n",
    "print(classification_report(np.argmax(y_1hot_test, axis=1), np.argmax(y_nn_predict2, axis=1), target_names=emotions))"
   ]
  },
  {
   "cell_type": "markdown",
   "metadata": {},
   "source": [
    "## Sentiment"
   ]
  },
  {
   "cell_type": "code",
   "execution_count": 145,
   "metadata": {},
   "outputs": [],
   "source": [
    "sentiments = ['negative', 'neutral', 'positive']\n",
    "sent2int = {\n",
    "    'negative': 0,\n",
    "    'neutral': 1,\n",
    "    'positive': 2\n",
    "}\n",
    "int2sent = {v: k for k, v in sent2int.items()}"
   ]
  },
  {
   "cell_type": "code",
   "execution_count": 146,
   "metadata": {},
   "outputs": [
    {
     "data": {
      "text/plain": [
       "{0: 'negative', 1: 'neutral', 2: 'positive'}"
      ]
     },
     "execution_count": 146,
     "metadata": {},
     "output_type": "execute_result"
    }
   ],
   "source": [
    "int2sent"
   ]
  },
  {
   "cell_type": "code",
   "execution_count": 149,
   "metadata": {},
   "outputs": [],
   "source": [
    "train_df['sentiment_int'] = train_df['Sentiment'].apply(lambda x: sent2int[x])"
   ]
  },
  {
   "cell_type": "code",
   "execution_count": 153,
   "metadata": {},
   "outputs": [
    {
     "data": {
      "text/plain": [
       "array([1, 2, 0, ..., 1, 0, 0])"
      ]
     },
     "execution_count": 153,
     "metadata": {},
     "output_type": "execute_result"
    }
   ],
   "source": [
    "train_df['sentiment_int'].values[y_txt_train.index]"
   ]
  },
  {
   "cell_type": "code",
   "execution_count": 152,
   "metadata": {},
   "outputs": [
    {
     "data": {
      "text/plain": [
       "2022     neutral\n",
       "9873         joy\n",
       "2542    surprise\n",
       "2034        fear\n",
       "2732        fear\n",
       "          ...   \n",
       "5734         joy\n",
       "5191     neutral\n",
       "5390     neutral\n",
       "860        anger\n",
       "7270       anger\n",
       "Name: Emotion, Length: 7491, dtype: object"
      ]
     },
     "execution_count": 152,
     "metadata": {},
     "output_type": "execute_result"
    }
   ],
   "source": [
    "y_txt_train"
   ]
  },
  {
   "cell_type": "code",
   "execution_count": 154,
   "metadata": {},
   "outputs": [],
   "source": [
    "y_sent_train = train_df['sentiment_int'].values[y_txt_train.index]\n",
    "y_sent_test = train_df['sentiment_int'].values[y_txt_test.index]"
   ]
  },
  {
   "cell_type": "code",
   "execution_count": 158,
   "metadata": {},
   "outputs": [
    {
     "data": {
      "text/plain": [
       "array([0, 1, 2])"
      ]
     },
     "execution_count": 158,
     "metadata": {},
     "output_type": "execute_result"
    }
   ],
   "source": [
    "np.unique(y_sent_train)"
   ]
  },
  {
   "cell_type": "code",
   "execution_count": 178,
   "metadata": {},
   "outputs": [
    {
     "name": "stdout",
     "output_type": "stream",
     "text": [
      "Fitting 4 folds for each of 16 candidates, totalling 64 fits\n"
     ]
    },
    {
     "name": "stderr",
     "output_type": "stream",
     "text": [
      "[Parallel(n_jobs=-1)]: Using backend LokyBackend with 4 concurrent workers.\n",
      "[Parallel(n_jobs=-1)]: Done  33 tasks      | elapsed:  4.3min\n",
      "[Parallel(n_jobs=-1)]: Done  64 out of  64 | elapsed: 10.1min finished\n"
     ]
    }
   ],
   "source": [
    "param_grid = {'penalty' : ['l1', 'l2'],\n",
    "    'class_weight': ['balanced'], # , None\n",
    "    'C' : [0.1, 0.5, 0.7, 1, 7, 10, 15, 20],\n",
    "    'solver' : ['liblinear']}\n",
    "\n",
    "# Create grid search object\n",
    "logit = LogisticRegression(random_state=1)\n",
    "grid_cv_sent = GridSearchCV(logit, param_grid = param_grid, cv = 4, verbose=2, n_jobs=-1).fit(x_mix_train, y_sent_train)"
   ]
  },
  {
   "cell_type": "code",
   "execution_count": 179,
   "metadata": {},
   "outputs": [
    {
     "data": {
      "text/html": [
       "<div>\n",
       "<style scoped>\n",
       "    .dataframe tbody tr th:only-of-type {\n",
       "        vertical-align: middle;\n",
       "    }\n",
       "\n",
       "    .dataframe tbody tr th {\n",
       "        vertical-align: top;\n",
       "    }\n",
       "\n",
       "    .dataframe thead th {\n",
       "        text-align: right;\n",
       "    }\n",
       "</style>\n",
       "<table border=\"1\" class=\"dataframe\">\n",
       "  <thead>\n",
       "    <tr style=\"text-align: right;\">\n",
       "      <th></th>\n",
       "      <th>mean_fit_time</th>\n",
       "      <th>std_fit_time</th>\n",
       "      <th>mean_score_time</th>\n",
       "      <th>std_score_time</th>\n",
       "      <th>param_C</th>\n",
       "      <th>param_class_weight</th>\n",
       "      <th>param_penalty</th>\n",
       "      <th>param_solver</th>\n",
       "      <th>params</th>\n",
       "      <th>split0_test_score</th>\n",
       "      <th>split1_test_score</th>\n",
       "      <th>split2_test_score</th>\n",
       "      <th>split3_test_score</th>\n",
       "      <th>mean_test_score</th>\n",
       "      <th>std_test_score</th>\n",
       "      <th>rank_test_score</th>\n",
       "    </tr>\n",
       "  </thead>\n",
       "  <tbody>\n",
       "    <tr>\n",
       "      <th>2</th>\n",
       "      <td>13.429574</td>\n",
       "      <td>3.716243</td>\n",
       "      <td>0.008193</td>\n",
       "      <td>0.003015</td>\n",
       "      <td>0.5</td>\n",
       "      <td>balanced</td>\n",
       "      <td>l1</td>\n",
       "      <td>liblinear</td>\n",
       "      <td>{'C': 0.5, 'class_weight': 'balanced', 'penalt...</td>\n",
       "      <td>0.510411</td>\n",
       "      <td>0.531767</td>\n",
       "      <td>0.556327</td>\n",
       "      <td>0.532585</td>\n",
       "      <td>0.532773</td>\n",
       "      <td>0.016247</td>\n",
       "      <td>1</td>\n",
       "    </tr>\n",
       "    <tr>\n",
       "      <th>6</th>\n",
       "      <td>23.079005</td>\n",
       "      <td>2.335466</td>\n",
       "      <td>0.011178</td>\n",
       "      <td>0.004238</td>\n",
       "      <td>1</td>\n",
       "      <td>balanced</td>\n",
       "      <td>l1</td>\n",
       "      <td>liblinear</td>\n",
       "      <td>{'C': 1, 'class_weight': 'balanced', 'penalty'...</td>\n",
       "      <td>0.514148</td>\n",
       "      <td>0.532301</td>\n",
       "      <td>0.560064</td>\n",
       "      <td>0.519765</td>\n",
       "      <td>0.531570</td>\n",
       "      <td>0.017715</td>\n",
       "      <td>2</td>\n",
       "    </tr>\n",
       "    <tr>\n",
       "      <th>4</th>\n",
       "      <td>16.339657</td>\n",
       "      <td>1.398755</td>\n",
       "      <td>0.005232</td>\n",
       "      <td>0.001057</td>\n",
       "      <td>0.7</td>\n",
       "      <td>balanced</td>\n",
       "      <td>l1</td>\n",
       "      <td>liblinear</td>\n",
       "      <td>{'C': 0.7, 'class_weight': 'balanced', 'penalt...</td>\n",
       "      <td>0.514682</td>\n",
       "      <td>0.532835</td>\n",
       "      <td>0.557928</td>\n",
       "      <td>0.518697</td>\n",
       "      <td>0.531036</td>\n",
       "      <td>0.016927</td>\n",
       "      <td>3</td>\n",
       "    </tr>\n",
       "    <tr>\n",
       "      <th>11</th>\n",
       "      <td>50.828467</td>\n",
       "      <td>1.226927</td>\n",
       "      <td>0.004471</td>\n",
       "      <td>0.000415</td>\n",
       "      <td>10</td>\n",
       "      <td>balanced</td>\n",
       "      <td>l2</td>\n",
       "      <td>liblinear</td>\n",
       "      <td>{'C': 10, 'class_weight': 'balanced', 'penalty...</td>\n",
       "      <td>0.515216</td>\n",
       "      <td>0.533369</td>\n",
       "      <td>0.556327</td>\n",
       "      <td>0.518697</td>\n",
       "      <td>0.530902</td>\n",
       "      <td>0.016183</td>\n",
       "      <td>4</td>\n",
       "    </tr>\n",
       "    <tr>\n",
       "      <th>7</th>\n",
       "      <td>51.828973</td>\n",
       "      <td>1.984817</td>\n",
       "      <td>0.004736</td>\n",
       "      <td>0.000383</td>\n",
       "      <td>1</td>\n",
       "      <td>balanced</td>\n",
       "      <td>l2</td>\n",
       "      <td>liblinear</td>\n",
       "      <td>{'C': 1, 'class_weight': 'balanced', 'penalty'...</td>\n",
       "      <td>0.515216</td>\n",
       "      <td>0.531767</td>\n",
       "      <td>0.553657</td>\n",
       "      <td>0.521368</td>\n",
       "      <td>0.530502</td>\n",
       "      <td>0.014619</td>\n",
       "      <td>5</td>\n",
       "    </tr>\n",
       "    <tr>\n",
       "      <th>13</th>\n",
       "      <td>47.941090</td>\n",
       "      <td>2.707076</td>\n",
       "      <td>0.004719</td>\n",
       "      <td>0.000448</td>\n",
       "      <td>15</td>\n",
       "      <td>balanced</td>\n",
       "      <td>l2</td>\n",
       "      <td>liblinear</td>\n",
       "      <td>{'C': 15, 'class_weight': 'balanced', 'penalty...</td>\n",
       "      <td>0.516284</td>\n",
       "      <td>0.535505</td>\n",
       "      <td>0.554191</td>\n",
       "      <td>0.516026</td>\n",
       "      <td>0.530501</td>\n",
       "      <td>0.015795</td>\n",
       "      <td>6</td>\n",
       "    </tr>\n",
       "    <tr>\n",
       "      <th>9</th>\n",
       "      <td>54.444333</td>\n",
       "      <td>3.042131</td>\n",
       "      <td>0.005599</td>\n",
       "      <td>0.001048</td>\n",
       "      <td>7</td>\n",
       "      <td>balanced</td>\n",
       "      <td>l2</td>\n",
       "      <td>liblinear</td>\n",
       "      <td>{'C': 7, 'class_weight': 'balanced', 'penalty'...</td>\n",
       "      <td>0.515750</td>\n",
       "      <td>0.528564</td>\n",
       "      <td>0.556327</td>\n",
       "      <td>0.517094</td>\n",
       "      <td>0.529434</td>\n",
       "      <td>0.016306</td>\n",
       "      <td>7</td>\n",
       "    </tr>\n",
       "    <tr>\n",
       "      <th>1</th>\n",
       "      <td>20.624824</td>\n",
       "      <td>1.828291</td>\n",
       "      <td>0.004367</td>\n",
       "      <td>0.000168</td>\n",
       "      <td>0.1</td>\n",
       "      <td>balanced</td>\n",
       "      <td>l2</td>\n",
       "      <td>liblinear</td>\n",
       "      <td>{'C': 0.1, 'class_weight': 'balanced', 'penalt...</td>\n",
       "      <td>0.507208</td>\n",
       "      <td>0.524826</td>\n",
       "      <td>0.553123</td>\n",
       "      <td>0.532051</td>\n",
       "      <td>0.529302</td>\n",
       "      <td>0.016456</td>\n",
       "      <td>8</td>\n",
       "    </tr>\n",
       "    <tr>\n",
       "      <th>3</th>\n",
       "      <td>44.650046</td>\n",
       "      <td>3.442787</td>\n",
       "      <td>0.004812</td>\n",
       "      <td>0.000486</td>\n",
       "      <td>0.5</td>\n",
       "      <td>balanced</td>\n",
       "      <td>l2</td>\n",
       "      <td>liblinear</td>\n",
       "      <td>{'C': 0.5, 'class_weight': 'balanced', 'penalt...</td>\n",
       "      <td>0.510411</td>\n",
       "      <td>0.532301</td>\n",
       "      <td>0.557395</td>\n",
       "      <td>0.514957</td>\n",
       "      <td>0.528766</td>\n",
       "      <td>0.018437</td>\n",
       "      <td>9</td>\n",
       "    </tr>\n",
       "    <tr>\n",
       "      <th>5</th>\n",
       "      <td>49.786807</td>\n",
       "      <td>4.478527</td>\n",
       "      <td>0.015125</td>\n",
       "      <td>0.006583</td>\n",
       "      <td>0.7</td>\n",
       "      <td>balanced</td>\n",
       "      <td>l2</td>\n",
       "      <td>liblinear</td>\n",
       "      <td>{'C': 0.7, 'class_weight': 'balanced', 'penalt...</td>\n",
       "      <td>0.513615</td>\n",
       "      <td>0.532301</td>\n",
       "      <td>0.552589</td>\n",
       "      <td>0.515491</td>\n",
       "      <td>0.528499</td>\n",
       "      <td>0.015697</td>\n",
       "      <td>10</td>\n",
       "    </tr>\n",
       "  </tbody>\n",
       "</table>\n",
       "</div>"
      ],
      "text/plain": [
       "    mean_fit_time  std_fit_time  mean_score_time  std_score_time param_C  \\\n",
       "2       13.429574      3.716243         0.008193        0.003015     0.5   \n",
       "6       23.079005      2.335466         0.011178        0.004238       1   \n",
       "4       16.339657      1.398755         0.005232        0.001057     0.7   \n",
       "11      50.828467      1.226927         0.004471        0.000415      10   \n",
       "7       51.828973      1.984817         0.004736        0.000383       1   \n",
       "13      47.941090      2.707076         0.004719        0.000448      15   \n",
       "9       54.444333      3.042131         0.005599        0.001048       7   \n",
       "1       20.624824      1.828291         0.004367        0.000168     0.1   \n",
       "3       44.650046      3.442787         0.004812        0.000486     0.5   \n",
       "5       49.786807      4.478527         0.015125        0.006583     0.7   \n",
       "\n",
       "   param_class_weight param_penalty param_solver  \\\n",
       "2            balanced            l1    liblinear   \n",
       "6            balanced            l1    liblinear   \n",
       "4            balanced            l1    liblinear   \n",
       "11           balanced            l2    liblinear   \n",
       "7            balanced            l2    liblinear   \n",
       "13           balanced            l2    liblinear   \n",
       "9            balanced            l2    liblinear   \n",
       "1            balanced            l2    liblinear   \n",
       "3            balanced            l2    liblinear   \n",
       "5            balanced            l2    liblinear   \n",
       "\n",
       "                                               params  split0_test_score  \\\n",
       "2   {'C': 0.5, 'class_weight': 'balanced', 'penalt...           0.510411   \n",
       "6   {'C': 1, 'class_weight': 'balanced', 'penalty'...           0.514148   \n",
       "4   {'C': 0.7, 'class_weight': 'balanced', 'penalt...           0.514682   \n",
       "11  {'C': 10, 'class_weight': 'balanced', 'penalty...           0.515216   \n",
       "7   {'C': 1, 'class_weight': 'balanced', 'penalty'...           0.515216   \n",
       "13  {'C': 15, 'class_weight': 'balanced', 'penalty...           0.516284   \n",
       "9   {'C': 7, 'class_weight': 'balanced', 'penalty'...           0.515750   \n",
       "1   {'C': 0.1, 'class_weight': 'balanced', 'penalt...           0.507208   \n",
       "3   {'C': 0.5, 'class_weight': 'balanced', 'penalt...           0.510411   \n",
       "5   {'C': 0.7, 'class_weight': 'balanced', 'penalt...           0.513615   \n",
       "\n",
       "    split1_test_score  split2_test_score  split3_test_score  mean_test_score  \\\n",
       "2            0.531767           0.556327           0.532585         0.532773   \n",
       "6            0.532301           0.560064           0.519765         0.531570   \n",
       "4            0.532835           0.557928           0.518697         0.531036   \n",
       "11           0.533369           0.556327           0.518697         0.530902   \n",
       "7            0.531767           0.553657           0.521368         0.530502   \n",
       "13           0.535505           0.554191           0.516026         0.530501   \n",
       "9            0.528564           0.556327           0.517094         0.529434   \n",
       "1            0.524826           0.553123           0.532051         0.529302   \n",
       "3            0.532301           0.557395           0.514957         0.528766   \n",
       "5            0.532301           0.552589           0.515491         0.528499   \n",
       "\n",
       "    std_test_score  rank_test_score  \n",
       "2         0.016247                1  \n",
       "6         0.017715                2  \n",
       "4         0.016927                3  \n",
       "11        0.016183                4  \n",
       "7         0.014619                5  \n",
       "13        0.015795                6  \n",
       "9         0.016306                7  \n",
       "1         0.016456                8  \n",
       "3         0.018437                9  \n",
       "5         0.015697               10  "
      ]
     },
     "execution_count": 179,
     "metadata": {},
     "output_type": "execute_result"
    }
   ],
   "source": [
    "results = pd.DataFrame(grid_cv_sent.cv_results_).sort_values(['rank_test_score'])\n",
    "results.head(10)"
   ]
  },
  {
   "cell_type": "code",
   "execution_count": 180,
   "metadata": {},
   "outputs": [
    {
     "data": {
      "text/plain": [
       "{'C': 0.5, 'class_weight': 'balanced', 'penalty': 'l1', 'solver': 'liblinear'}"
      ]
     },
     "execution_count": 180,
     "metadata": {},
     "output_type": "execute_result"
    }
   ],
   "source": [
    "# best score may lie between C=[0.1, 10], l1 or l2, need deeper search\n",
    "best_sent_wgt_params = results[results['param_class_weight'] == \"balanced\"].head(1)['params'].values[0]\n",
    "best_sent_wgt_params"
   ]
  },
  {
   "cell_type": "code",
   "execution_count": 199,
   "metadata": {},
   "outputs": [],
   "source": [
    "best_sent_logit_wgt = LogisticRegression(random_state=1, **best_sent_wgt_params)\n",
    "best_sent_logit_wgt.fit(x_mix_train, y_sent_train)\n",
    "best_sent_wgt_pred = best_sent_logit_wgt.predict(x_mix_test)\n"
   ]
  },
  {
   "cell_type": "code",
   "execution_count": 200,
   "metadata": {},
   "outputs": [
    {
     "name": "stdout",
     "output_type": "stream",
     "text": [
      "              precision    recall  f1-score   support\n",
      "\n",
      "    negative       0.52      0.48      0.50       779\n",
      "     neutral       0.60      0.71      0.65      1152\n",
      "    positive       0.46      0.33      0.39       566\n",
      "\n",
      "    accuracy                           0.55      2497\n",
      "   macro avg       0.53      0.51      0.51      2497\n",
      "weighted avg       0.54      0.55      0.54      2497\n",
      "\n"
     ]
    }
   ],
   "source": [
    "print(classification_report(y_sent_test, best_sent_wgt_pred, target_names=sentiments))"
   ]
  },
  {
   "cell_type": "markdown",
   "metadata": {},
   "source": [
    "### unweighted"
   ]
  },
  {
   "cell_type": "code",
   "execution_count": 173,
   "metadata": {},
   "outputs": [
    {
     "data": {
      "text/plain": [
       "{'C': 0.5, 'class_weight': None, 'penalty': 'l1', 'solver': 'liblinear'}"
      ]
     },
     "execution_count": 173,
     "metadata": {},
     "output_type": "execute_result"
    }
   ],
   "source": [
    "# best score may lie between C=[0.1, 10], l1 or l2, need deeper search\n",
    "best_sent_unwgt_params = results.head(1)['params'].values[0]\n",
    "best_sent_unwgt_params"
   ]
  },
  {
   "cell_type": "code",
   "execution_count": 174,
   "metadata": {},
   "outputs": [],
   "source": [
    "best_sent_logit_unwgt = LogisticRegression(random_state=1, **best_sent_unwgt_params)\n",
    "best_sent_logit_unwgt.fit(x_mix_train, y_sent_train)\n",
    "best_sent_unwgt_pred = best_sent_logit_unwgt.predict(x_mix_test)"
   ]
  },
  {
   "cell_type": "code",
   "execution_count": 177,
   "metadata": {},
   "outputs": [
    {
     "name": "stdout",
     "output_type": "stream",
     "text": [
      "              precision    recall  f1-score   support\n",
      "\n",
      "    negative       0.55      0.36      0.44       779\n",
      "     neutral       0.55      0.84      0.66      1152\n",
      "    positive       0.51      0.22      0.31       566\n",
      "\n",
      "    accuracy                           0.55      2497\n",
      "   macro avg       0.54      0.47      0.47      2497\n",
      "weighted avg       0.54      0.55      0.51      2497\n",
      "\n"
     ]
    }
   ],
   "source": [
    "print(classification_report(y_sent_test, best_sent_unwgt_pred, target_names=sentiments))"
   ]
  },
  {
   "cell_type": "markdown",
   "metadata": {},
   "source": [
    "## Try to solve the problem of always predicting the neurtral class\n",
    "\n",
    "Changing learning rate helps\n",
    "Added more layers"
   ]
  },
  {
   "cell_type": "code",
   "execution_count": 261,
   "metadata": {},
   "outputs": [],
   "source": [
    "from keras.layers import Dense, Dropout\n",
    "from keras.initializers import RandomUniform\n",
    "from keras.optimizers import Adam"
   ]
  },
  {
   "cell_type": "code",
   "execution_count": 262,
   "metadata": {},
   "outputs": [],
   "source": [
    "nn_model3 = models.Sequential()\n",
    "nn_model3.add(Dense(64, activation='tanh', input_shape=(input_shape, ), kernel_constraint=min_max_norm(-3, 3), bias_constraint=unit_norm(),\\\n",
    "                    kernel_initializer=RandomUniform(minval=-0.1, maxval=+0.1)))\n",
    "nn_model3.add(Dense(32, activation='tanh', kernel_constraint=min_max_norm(-2, 2), bias_constraint=unit_norm()))\n",
    "nn_model3.add(Dense(16, activation='tanh'))\n",
    "nn_model3.add(Dropout(0.2))\n",
    "nn_model3.add(Dense(16, activation='tanh', kernel_constraint=min_max_norm(-3, 3), bias_constraint=unit_norm()))\n",
    "nn_model3.add(Dropout(0.2))\n",
    "nn_model3.add(Dense(7, activation='softmax'))\n",
    "\n",
    "optimizer = Adam(learning_rate=0.00001)\n",
    "nn_model3.compile(loss='categorical_crossentropy', optimizer='adam', metrics=['categorical_accuracy'])"
   ]
  },
  {
   "cell_type": "code",
   "execution_count": 263,
   "metadata": {},
   "outputs": [
    {
     "name": "stdout",
     "output_type": "stream",
     "text": [
      "Epoch 00005: early stopping\n"
     ]
    }
   ],
   "source": [
    "es = EarlyStopping(monitor='val_loss', mode='min', verbose=1)\n",
    "history2 = nn_model3.fit(x_arr_train, y_1hot_train, epochs=15, batch_size=128, validation_split=0.2, verbose=0, callbacks=[es]) \n",
    "\n",
    "\n",
    "# history2 = nn_model3.fit(x_arr_train, y_1hot_train, epochs=15, batch_size=128, validation_split=0.2, verbose=0) #, callbacks=[es]\n"
   ]
  },
  {
   "cell_type": "code",
   "execution_count": 264,
   "metadata": {},
   "outputs": [
    {
     "data": {
      "image/png": "[encoded data removed]",
      "text/plain": [
       "<Figure size 432x288 with 1 Axes>"
      ]
     },
     "metadata": {
      "needs_background": "light"
     },
     "output_type": "display_data"
    }
   ],
   "source": [
    "loss = history2.history['loss']\n",
    "val_loss = history2.history['val_loss']\n",
    "\n",
    "epochs = range(1, len(loss) + 1)\n",
    "\n",
    "# \"bo\" is for \"blue dot\"\n",
    "plt.plot(epochs, loss, 'bo', label='Training loss')\n",
    "# b is for \"solid blue line\"\n",
    "plt.plot(epochs, val_loss, 'b', label='Validation loss')\n",
    "plt.title('Training and validation loss')\n",
    "plt.xlabel('Epochs')\n",
    "plt.ylabel('Loss')\n",
    "plt.legend()\n",
    "\n",
    "plt.show()"
   ]
  },
  {
   "cell_type": "code",
   "execution_count": 257,
   "metadata": {},
   "outputs": [
    {
     "data": {
      "image/png": "[encoded data removed]",
      "text/plain": [
       "<Figure size 432x288 with 1 Axes>"
      ]
     },
     "metadata": {
      "needs_background": "light"
     },
     "output_type": "display_data"
    }
   ],
   "source": [
    "acc = history2.history['categorical_accuracy']\n",
    "val_acc = history2.history['val_categorical_accuracy']\n",
    "\n",
    "plt.plot(epochs, acc, 'bo', label='Training acc')\n",
    "plt.plot(epochs, val_acc, 'b', label='Validation acc')\n",
    "plt.title('Training and validation accuracy')\n",
    "plt.xlabel('Epochs')\n",
    "plt.ylabel('Loss')\n",
    "plt.legend()\n",
    "\n",
    "plt.show()"
   ]
  },
  {
   "cell_type": "code",
   "execution_count": 265,
   "metadata": {},
   "outputs": [
    {
     "name": "stdout",
     "output_type": "stream",
     "text": [
      "              precision    recall  f1-score   support\n",
      "\n",
      "     neutral       0.47      0.99      0.63      1152\n",
      "    surprise       0.00      0.00      0.00       329\n",
      "        fear       0.00      0.00      0.00        57\n",
      "     sadness       0.00      0.00      0.00       160\n",
      "         joy       0.00      0.00      0.00       422\n",
      "     disgust       0.00      0.00      0.00        65\n",
      "       anger       0.35      0.06      0.10       312\n",
      "\n",
      "    accuracy                           0.46      2497\n",
      "   macro avg       0.12      0.15      0.10      2497\n",
      "weighted avg       0.26      0.46      0.30      2497\n",
      "\n"
     ]
    },
    {
     "name": "stderr",
     "output_type": "stream",
     "text": [
      "/anaconda3/lib/python3.7/site-packages/sklearn/metrics/_classification.py:1272: UndefinedMetricWarning: Precision and F-score are ill-defined and being set to 0.0 in labels with no predicted samples. Use `zero_division` parameter to control this behavior.\n",
      "  _warn_prf(average, modifier, msg_start, len(result))\n"
     ]
    }
   ],
   "source": [
    "y_nn_predict3 = nn_model3.predict(x_arr_test)\n",
    "print(classification_report(np.argmax(y_1hot_test, axis=1), np.argmax(y_nn_predict3, axis=1), target_names=emotions))"
   ]
  },
  {
   "cell_type": "code",
   "execution_count": null,
   "metadata": {},
   "outputs": [],
   "source": []
  }
 ],
 "metadata": {
  "kernelspec": {
   "display_name": "Python 3",
   "language": "python",
   "name": "python3"
  },
  "language_info": {
   "codemirror_mode": {
    "name": "ipython",
    "version": 3
   },
   "file_extension": ".py",
   "mimetype": "text/x-python",
   "name": "python",
   "nbconvert_exporter": "python",
   "pygments_lexer": "ipython3",
   "version": "3.7.6"
  }
 },
 "nbformat": 4,
 "nbformat_minor": 4
}
