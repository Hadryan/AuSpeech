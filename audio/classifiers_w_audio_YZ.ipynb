{
 "cells": [
  {
   "cell_type": "markdown",
   "metadata": {},
   "source": [
    "# Classification with text and audio features\n",
    "Updates: \n",
    "* 03/11 - reorganize the code and rename some variables, \n",
    "  change `X` to `x_text`, `X_train` to `x_txt_train`, `X_test` to `x_txt_test`, `Y` to `y_text`\n",
    "* 03/18 - try NN\n",
    "  see the 2 code blocks under the section \"convert features and labels\" if you're trying to get x and y for NN.\n"
   ]
  },
  {
   "cell_type": "code",
   "execution_count": 1,
   "metadata": {},
   "outputs": [
    {
     "name": "stdout",
     "output_type": "stream",
     "text": [
      "/home/zyixian/anaconda3/envs/speech_gen/bin/python\n"
     ]
    }
   ],
   "source": [
    "import sys\n",
    "print(sys.executable)"
   ]
  },
  {
   "cell_type": "code",
   "execution_count": 2,
   "metadata": {},
   "outputs": [
    {
     "name": "stdout",
     "output_type": "stream",
     "text": [
      "\n",
      "     active environment : /home/zyixian/anaconda3/envs/speech_gen\n",
      "    active env location : /home/zyixian/anaconda3/envs/speech_gen\n",
      "            shell level : 1\n",
      "       user config file : /home/zyixian/.condarc\n",
      " populated config files : \n",
      "          conda version : 4.7.10\n",
      "    conda-build version : 3.18.8\n",
      "         python version : 3.7.3.final.0\n",
      "       virtual packages : \n",
      "       base environment : /sw/arcts/centos7/python3.7-anaconda/2019.07  (read only)\n",
      "           channel URLs : https://repo.anaconda.com/pkgs/main/linux-64\n",
      "                          https://repo.anaconda.com/pkgs/main/noarch\n",
      "                          https://repo.anaconda.com/pkgs/r/linux-64\n",
      "                          https://repo.anaconda.com/pkgs/r/noarch\n",
      "          package cache : /sw/arcts/centos7/python3.7-anaconda/2019.07/pkgs\n",
      "                          /home/zyixian/.conda/pkgs\n",
      "       envs directories : /home/zyixian/.conda/envs\n",
      "                          /sw/arcts/centos7/python3.7-anaconda/2019.07/envs\n",
      "               platform : linux-64\n",
      "             user-agent : conda/4.7.10 requests/2.22.0 CPython/3.7.3 Linux/3.10.0-1062.9.1.el7.x86_64 centos/7.7.1908 glibc/2.17\n",
      "                UID:GID : 114171000:114171000\n",
      "             netrc file : None\n",
      "           offline mode : False\n",
      "\n"
     ]
    }
   ],
   "source": [
    "!conda info"
   ]
  },
  {
   "cell_type": "code",
   "execution_count": 36,
   "metadata": {},
   "outputs": [],
   "source": [
    "import librosa\n",
    "import soundfile\n",
    "import os, glob, pickle\n",
    "import numpy as np\n",
    "import pandas as pd\n",
    "\n",
    "import spacy\n",
    "import string\n",
    "\n",
    "\n",
    "from scipy.sparse import coo_matrix, hstack\n",
    "\n",
    "from sklearn.model_selection import train_test_split\n",
    "from sklearn.neural_network import MLPClassifier\n",
    "from sklearn.metrics import accuracy_score, classification_report\n",
    "\n",
    "from sklearn.utils import class_weight\n",
    "from sklearn.linear_model import LogisticRegression\n",
    "from sklearn.feature_extraction.text import CountVectorizer, TfidfTransformer\n",
    "from sklearn.naive_bayes import MultinomialNB\n",
    "\n",
    "from sklearn.model_selection import GridSearchCV\n",
    "\n",
    "import pickle\n",
    "\n",
    "import imblearn\n",
    "from imblearn.over_sampling import SMOTE, RandomOverSampler\n",
    "from imblearn.under_sampling import RandomUnderSampler, EditedNearestNeighbours\n",
    "\n",
    "from collections import Counter\n",
    "\n",
    "from sklearn.pipeline import Pipeline\n",
    "from imblearn.pipeline import make_pipeline\n",
    "\n",
    "## ref: https://data-flair.training/blogs/python-mini-project-speech-emotion-recognition/\n",
    "#DataFlair - Extract features (mfcc, chroma, mel) from a sound file\n",
    "def extract_feature(file_name, is_mfcc, is_chroma, is_mel):\n",
    "    \n",
    "    X, sample_rate = librosa.load(file_name, sr=None, mono=True)\n",
    "    \n",
    "    if is_chroma:\n",
    "        stft=np.abs(librosa.stft(X))\n",
    "    result=np.array([])\n",
    "    if is_mfcc:\n",
    "        mfccs=np.mean(librosa.feature.mfcc(y=X, sr=sample_rate, n_mfcc=40).T, axis=0)\n",
    "        result=np.hstack((result, mfccs))\n",
    "    if is_chroma:\n",
    "        chroma=np.mean(librosa.feature.chroma_stft(S=stft, sr=sample_rate).T,axis=0)\n",
    "        result=np.hstack((result, chroma))\n",
    "    if is_mel:\n",
    "        mel=np.mean(librosa.feature.melspectrogram(X, sr=sample_rate).T,axis=0)\n",
    "        result=np.hstack((result, mel))\n",
    "    return result\n",
    "\n",
    "\n",
    "#DataFlair - Load the data and extract features for each sound file\n",
    "def load_data(test_size=0.2, is_mfcc=True, is_chroma=True, is_mel=True):\n",
    "    x = []\n",
    "    audio_list = sorted(os.listdir(train_dir))\n",
    "    # gen = (x for x in audio_list)\n",
    "    \n",
    "    gen = (u for u in train_df[['Dialogue_ID', 'Utterance_ID']].values)\n",
    "    for dia_utt in gen:\n",
    "        dia_id = dia_utt[0]\n",
    "        utt_id = dia_utt[1]\n",
    "        file_name = f\"dia{dia_id}_utt{utt_id}.wav\"\n",
    "        \n",
    "        feature=extract_feature(train_dir + file_name, is_mfcc=is_mfcc, is_chroma=is_chroma, is_mel=is_mel)\n",
    "        x.append(feature)\n",
    "    \n",
    "    labels_1d = np.reshape(labels_matrix, max_dia * max_utt)\n",
    "    labels_1d = labels_1d[~np.equal(labels_1d, 99)]\n",
    "    y = list(labels_1d)\n",
    "    \n",
    "    return x, y\n",
    "\n",
    "### text feature generation\n",
    "def cleaning(element):\n",
    "    final_list = []\n",
    "    \"\"\" Clean up text. Tokenize, lowercase, and remove punctuation and stopwords \"\"\"\n",
    "    #print(\"Running cleaner\")\n",
    "    # Remove punctuation, symbols (#) and stopwords\n",
    "    element = str(element).lower()\n",
    "    new_string = ''\n",
    "    for char in element:\n",
    "        if char not in punctuation_list:\n",
    "            new_string += char\n",
    "    all_wrds = new_string.split(\" \")\n",
    "    for word in all_wrds:\n",
    "        if word not in stop_words_list:\n",
    "            final_list.append(word)\n",
    "    final_string = ' '.join(final_list)\n",
    "    return final_string\n",
    "\n",
    "def tokenize(str_arg):\n",
    "    words = str_arg.split()\n",
    "    return words\n",
    "\n"
   ]
  },
  {
   "cell_type": "code",
   "execution_count": 5,
   "metadata": {},
   "outputs": [
    {
     "name": "stderr",
     "output_type": "stream",
     "text": [
      "Using TensorFlow backend.\n"
     ]
    }
   ],
   "source": [
    "import tensorflow as tf\n",
    "from tensorflow import keras\n",
    "from keras import models, layers"
   ]
  },
  {
   "cell_type": "code",
   "execution_count": 6,
   "metadata": {},
   "outputs": [],
   "source": [
    "max_dia = 1039\n",
    "max_utt = 24\n",
    "is_reload = False ## please set it to False if you are using features saved in pickle file \n",
    "test_size = 0.25\n",
    "total = 9988"
   ]
  },
  {
   "cell_type": "code",
   "execution_count": 7,
   "metadata": {},
   "outputs": [],
   "source": [
    "train_dir = \"../data/train/\"\n",
    "emotions = ['neutral', 'surprise', 'fear', 'sadness', 'joy', 'disgust', 'anger']\n",
    "emo2int = dict(zip(emotions, range(len(emotions))))\n",
    "emo2int['empty'] = 99\n",
    "int2emo = {v: k for k,v in emo2int.items()}\n",
    "sentiments = ['negative', 'neutral', 'positive']\n",
    "sent2int = {\n",
    "    'negative': 0,\n",
    "    'neutral': 1,\n",
    "    'positive': 2\n",
    "}\n",
    "int2sent = {v: k for k, v in sent2int.items()}"
   ]
  },
  {
   "cell_type": "markdown",
   "metadata": {},
   "source": [
    "## Extract audio features"
   ]
  },
  {
   "cell_type": "code",
   "execution_count": 8,
   "metadata": {},
   "outputs": [],
   "source": [
    "train_df = pd.read_csv(\"../data/train_sent_emo.csv\")\n",
    "## dia125_utt_3 not working\n",
    "remove_index = train_df[(train_df['Dialogue_ID'] == 125) & (train_df['Utterance_ID'] == 3)].index\n",
    "train_df = train_df.drop(index=remove_index)\n",
    "\n",
    "label_pivot = pd.pivot(data=train_df, columns=\"Utterance_ID\", index=\"Dialogue_ID\", values=\"Emotion\").fillna(\"empty\")\n",
    "label_pivot.loc[60] = [\"empty\"] * label_pivot.shape[1] ## for some reasons, there is no dialogue 60.\n",
    "label_pivot = label_pivot.sort_index()\n",
    "label_pivot = label_pivot.applymap(lambda x: emo2int[x])\n",
    "labels_matrix = label_pivot.values"
   ]
  },
  {
   "cell_type": "code",
   "execution_count": 9,
   "metadata": {},
   "outputs": [],
   "source": [
    "train_df['sentiment_int'] = train_df['Sentiment'].apply(lambda x: sent2int[x])"
   ]
  },
  {
   "cell_type": "code",
   "execution_count": 10,
   "metadata": {},
   "outputs": [
    {
     "data": {
      "text/html": [
       "<div>\n",
       "<style scoped>\n",
       "    .dataframe tbody tr th:only-of-type {\n",
       "        vertical-align: middle;\n",
       "    }\n",
       "\n",
       "    .dataframe tbody tr th {\n",
       "        vertical-align: top;\n",
       "    }\n",
       "\n",
       "    .dataframe thead th {\n",
       "        text-align: right;\n",
       "    }\n",
       "</style>\n",
       "<table border=\"1\" class=\"dataframe\">\n",
       "  <thead>\n",
       "    <tr style=\"text-align: right;\">\n",
       "      <th></th>\n",
       "      <th>Sr No.</th>\n",
       "      <th>Utterance</th>\n",
       "      <th>Speaker</th>\n",
       "      <th>Emotion</th>\n",
       "      <th>Sentiment</th>\n",
       "      <th>Dialogue_ID</th>\n",
       "      <th>Utterance_ID</th>\n",
       "      <th>Season</th>\n",
       "      <th>Episode</th>\n",
       "      <th>StartTime</th>\n",
       "      <th>EndTime</th>\n",
       "      <th>sentiment_int</th>\n",
       "    </tr>\n",
       "  </thead>\n",
       "  <tbody>\n",
       "    <tr>\n",
       "      <th>1163</th>\n",
       "      <td>1225</td>\n",
       "      <td>Hey, if mommy can have a wife, daddy can have ...</td>\n",
       "      <td>Ross</td>\n",
       "      <td>neutral</td>\n",
       "      <td>neutral</td>\n",
       "      <td>125</td>\n",
       "      <td>1</td>\n",
       "      <td>4</td>\n",
       "      <td>18</td>\n",
       "      <td>00:02:35,613</td>\n",
       "      <td>00:02:38,323</td>\n",
       "      <td>1</td>\n",
       "    </tr>\n",
       "    <tr>\n",
       "      <th>1164</th>\n",
       "      <td>1226</td>\n",
       "      <td>Ohh, its time to go.</td>\n",
       "      <td>Emily</td>\n",
       "      <td>neutral</td>\n",
       "      <td>neutral</td>\n",
       "      <td>125</td>\n",
       "      <td>2</td>\n",
       "      <td>4</td>\n",
       "      <td>18</td>\n",
       "      <td>00:02:40,869</td>\n",
       "      <td>00:02:42,119</td>\n",
       "      <td>1</td>\n",
       "    </tr>\n",
       "    <tr>\n",
       "      <th>1166</th>\n",
       "      <td>1228</td>\n",
       "      <td>Huh, what can we do in 17 minutes?</td>\n",
       "      <td>Ross</td>\n",
       "      <td>neutral</td>\n",
       "      <td>neutral</td>\n",
       "      <td>125</td>\n",
       "      <td>4</td>\n",
       "      <td>4</td>\n",
       "      <td>18</td>\n",
       "      <td>00:02:48,209</td>\n",
       "      <td>00:02:51,295</td>\n",
       "      <td>1</td>\n",
       "    </tr>\n",
       "  </tbody>\n",
       "</table>\n",
       "</div>"
      ],
      "text/plain": [
       "      Sr No.                                          Utterance Speaker  \\\n",
       "1163    1225  Hey, if mommy can have a wife, daddy can have ...    Ross   \n",
       "1164    1226                              Ohh, its time to go.   Emily   \n",
       "1166    1228                 Huh, what can we do in 17 minutes?    Ross   \n",
       "\n",
       "      Emotion Sentiment  Dialogue_ID  Utterance_ID  Season  Episode  \\\n",
       "1163  neutral   neutral          125             1       4       18   \n",
       "1164  neutral   neutral          125             2       4       18   \n",
       "1166  neutral   neutral          125             4       4       18   \n",
       "\n",
       "         StartTime       EndTime  sentiment_int  \n",
       "1163  00:02:35,613  00:02:38,323              1  \n",
       "1164  00:02:40,869  00:02:42,119              1  \n",
       "1166  00:02:48,209  00:02:51,295              1  "
      ]
     },
     "execution_count": 10,
     "metadata": {},
     "output_type": "execute_result"
    }
   ],
   "source": [
    "train_df.iloc[1163:1166]"
   ]
  },
  {
   "cell_type": "code",
   "execution_count": 11,
   "metadata": {},
   "outputs": [],
   "source": [
    "#DataFlair - Split the dataset\n",
    "if is_reload:\n",
    "    x_audio, y = load_data(test_size=test_size)\n",
    "    with open(\"../data/train_audio_nomel.pickle\", 'wb') as pickle_out:\n",
    "        pickle.dump(x_audio, pickle_out)\n",
    "    with open(\"../data/train_labels_nomel.pickle\", 'wb') as pickle_out:\n",
    "        pickle.dump(y, pickle_out)\n",
    "else:\n",
    "    with open(\"../data/train_audio.pickle\", 'rb') as pickle_in:\n",
    "        x_audio = pickle.load(pickle_in)\n",
    "    with open(\"../data/train_labels.pickle\", 'rb') as pickle_in:\n",
    "        y = pickle.load(pickle_in)\n",
    "## x_audio was named as x before"
   ]
  },
  {
   "cell_type": "markdown",
   "metadata": {},
   "source": [
    "## Try some classifiers"
   ]
  },
  {
   "cell_type": "code",
   "execution_count": 64,
   "metadata": {},
   "outputs": [],
   "source": [
    "# ## Multi-layer Perceptron with only audio\n",
    "# x_au_train,x_test,y_train,y_test = train_test_split(np.array(x_audio), y, test_size=test_size, random_state=9)\n",
    "# model=MLPClassifier(alpha=0.01, batch_size=256, epsilon=1e-08, hidden_layer_sizes=(300,), learning_rate='adaptive', max_iter=500)\n",
    "# model.fit(x_au_train,y_train)\n",
    "# y_pred=model.predict(x_test)\n",
    "\n",
    "# print(classification_report(y_test, y_pred))\n",
    "\n",
    "# print(classification_report(y_test, y_pred))"
   ]
  },
  {
   "cell_type": "markdown",
   "metadata": {},
   "source": [
    "## Extract text features \n",
    "(code from EmotionBaseline.ipynb)"
   ]
  },
  {
   "cell_type": "code",
   "execution_count": 6,
   "metadata": {
    "collapsed": true,
    "jupyter": {
     "outputs_hidden": true
    }
   },
   "outputs": [
    {
     "name": "stdout",
     "output_type": "stream",
     "text": [
      "Requirement already satisfied: en_core_web_sm==2.2.5 from https://github.com/explosion/spacy-models/releases/download/en_core_web_sm-2.2.5/en_core_web_sm-2.2.5.tar.gz#egg=en_core_web_sm==2.2.5 in /home/zyixian/anaconda3/envs/speech_gen/lib/python3.8/site-packages (2.2.5)\n",
      "Requirement already satisfied: spacy>=2.2.2 in /home/zyixian/anaconda3/envs/speech_gen/lib/python3.8/site-packages (from en_core_web_sm==2.2.5) (2.2.4)\n",
      "Requirement already satisfied: murmurhash<1.1.0,>=0.28.0 in /home/zyixian/anaconda3/envs/speech_gen/lib/python3.8/site-packages (from spacy>=2.2.2->en_core_web_sm==2.2.5) (1.0.2)\n",
      "Requirement already satisfied: catalogue<1.1.0,>=0.0.7 in /home/zyixian/anaconda3/envs/speech_gen/lib/python3.8/site-packages (from spacy>=2.2.2->en_core_web_sm==2.2.5) (1.0.0)\n",
      "Requirement already satisfied: thinc==7.4.0 in /home/zyixian/anaconda3/envs/speech_gen/lib/python3.8/site-packages (from spacy>=2.2.2->en_core_web_sm==2.2.5) (7.4.0)\n",
      "Requirement already satisfied: numpy>=1.15.0 in /home/zyixian/anaconda3/envs/speech_gen/lib/python3.8/site-packages (from spacy>=2.2.2->en_core_web_sm==2.2.5) (1.18.1)\n",
      "Requirement already satisfied: requests<3.0.0,>=2.13.0 in /home/zyixian/anaconda3/envs/speech_gen/lib/python3.8/site-packages (from spacy>=2.2.2->en_core_web_sm==2.2.5) (2.23.0)\n",
      "Requirement already satisfied: blis<0.5.0,>=0.4.0 in /home/zyixian/anaconda3/envs/speech_gen/lib/python3.8/site-packages (from spacy>=2.2.2->en_core_web_sm==2.2.5) (0.4.1)\n",
      "Requirement already satisfied: plac<1.2.0,>=0.9.6 in /home/zyixian/anaconda3/envs/speech_gen/lib/python3.8/site-packages (from spacy>=2.2.2->en_core_web_sm==2.2.5) (1.1.3)\n",
      "Requirement already satisfied: preshed<3.1.0,>=3.0.2 in /home/zyixian/anaconda3/envs/speech_gen/lib/python3.8/site-packages (from spacy>=2.2.2->en_core_web_sm==2.2.5) (3.0.2)\n",
      "Requirement already satisfied: tqdm<5.0.0,>=4.38.0 in /home/zyixian/anaconda3/envs/speech_gen/lib/python3.8/site-packages (from spacy>=2.2.2->en_core_web_sm==2.2.5) (4.43.0)\n",
      "Requirement already satisfied: setuptools in /home/zyixian/anaconda3/envs/speech_gen/lib/python3.8/site-packages (from spacy>=2.2.2->en_core_web_sm==2.2.5) (45.2.0.post20200209)\n",
      "Requirement already satisfied: wasabi<1.1.0,>=0.4.0 in /home/zyixian/anaconda3/envs/speech_gen/lib/python3.8/site-packages (from spacy>=2.2.2->en_core_web_sm==2.2.5) (0.6.0)\n",
      "Requirement already satisfied: cymem<2.1.0,>=2.0.2 in /home/zyixian/anaconda3/envs/speech_gen/lib/python3.8/site-packages (from spacy>=2.2.2->en_core_web_sm==2.2.5) (2.0.3)\n",
      "Requirement already satisfied: srsly<1.1.0,>=1.0.2 in /home/zyixian/anaconda3/envs/speech_gen/lib/python3.8/site-packages (from spacy>=2.2.2->en_core_web_sm==2.2.5) (1.0.2)\n",
      "Requirement already satisfied: idna<3,>=2.5 in /home/zyixian/anaconda3/envs/speech_gen/lib/python3.8/site-packages (from requests<3.0.0,>=2.13.0->spacy>=2.2.2->en_core_web_sm==2.2.5) (2.9)\n",
      "Requirement already satisfied: urllib3!=1.25.0,!=1.25.1,<1.26,>=1.21.1 in /home/zyixian/anaconda3/envs/speech_gen/lib/python3.8/site-packages (from requests<3.0.0,>=2.13.0->spacy>=2.2.2->en_core_web_sm==2.2.5) (1.25.8)\n",
      "Requirement already satisfied: certifi>=2017.4.17 in /home/zyixian/anaconda3/envs/speech_gen/lib/python3.8/site-packages (from requests<3.0.0,>=2.13.0->spacy>=2.2.2->en_core_web_sm==2.2.5) (2019.11.28)\n",
      "Requirement already satisfied: chardet<4,>=3.0.2 in /home/zyixian/anaconda3/envs/speech_gen/lib/python3.8/site-packages (from requests<3.0.0,>=2.13.0->spacy>=2.2.2->en_core_web_sm==2.2.5) (3.0.4)\n",
      "\u001b[38;5;2m✔ Download and installation successful\u001b[0m\n",
      "You can now load the model via spacy.load('en_core_web_sm')\n",
      "\u001b[38;5;2m✔ Linking successful\u001b[0m\n",
      "/home/zyixian/anaconda3/envs/speech_gen/lib/python3.8/site-packages/en_core_web_sm\n",
      "-->\n",
      "/home/zyixian/anaconda3/envs/speech_gen/lib/python3.8/site-packages/spacy/data/en\n",
      "You can now load the model via spacy.load('en')\n"
     ]
    }
   ],
   "source": [
    "# !python -m spacy download en"
   ]
  },
  {
   "cell_type": "code",
   "execution_count": 15,
   "metadata": {},
   "outputs": [],
   "source": [
    "nlp = spacy.load('en')\n",
    "stop_words_list = list(spacy.lang.en.STOP_WORDS)\n",
    "punctuation_list = list(string.punctuation)\n",
    "punctuation_list.extend('\\r')\n",
    "punctuation_list.extend('\\n')\n",
    "punctuation_list.extend(['0', '1', '2', '3', '4', '5', '6', '7', '8', '9'])"
   ]
  },
  {
   "cell_type": "code",
   "execution_count": 16,
   "metadata": {},
   "outputs": [
    {
     "data": {
      "text/html": [
       "<div>\n",
       "<style scoped>\n",
       "    .dataframe tbody tr th:only-of-type {\n",
       "        vertical-align: middle;\n",
       "    }\n",
       "\n",
       "    .dataframe tbody tr th {\n",
       "        vertical-align: top;\n",
       "    }\n",
       "\n",
       "    .dataframe thead th {\n",
       "        text-align: right;\n",
       "    }\n",
       "</style>\n",
       "<table border=\"1\" class=\"dataframe\">\n",
       "  <thead>\n",
       "    <tr style=\"text-align: right;\">\n",
       "      <th></th>\n",
       "      <th>Sr No.</th>\n",
       "      <th>Utterance</th>\n",
       "      <th>Speaker</th>\n",
       "      <th>Emotion</th>\n",
       "      <th>Sentiment</th>\n",
       "      <th>Dialogue_ID</th>\n",
       "      <th>Utterance_ID</th>\n",
       "      <th>Season</th>\n",
       "      <th>Episode</th>\n",
       "      <th>StartTime</th>\n",
       "      <th>EndTime</th>\n",
       "      <th>sentiment_int</th>\n",
       "      <th>cleaned_Utterance</th>\n",
       "      <th>tokens</th>\n",
       "    </tr>\n",
       "  </thead>\n",
       "  <tbody>\n",
       "    <tr>\n",
       "      <th>1163</th>\n",
       "      <td>1225</td>\n",
       "      <td>Hey, if mommy can have a wife, daddy can have ...</td>\n",
       "      <td>Ross</td>\n",
       "      <td>neutral</td>\n",
       "      <td>neutral</td>\n",
       "      <td>125</td>\n",
       "      <td>1</td>\n",
       "      <td>4</td>\n",
       "      <td>18</td>\n",
       "      <td>00:02:35,613</td>\n",
       "      <td>00:02:38,323</td>\n",
       "      <td>1</td>\n",
       "      <td>hey mommy wife daddy bra</td>\n",
       "      <td>[hey, mommy, wife, daddy, bra]</td>\n",
       "    </tr>\n",
       "    <tr>\n",
       "      <th>1164</th>\n",
       "      <td>1226</td>\n",
       "      <td>Ohh, its time to go.</td>\n",
       "      <td>Emily</td>\n",
       "      <td>neutral</td>\n",
       "      <td>neutral</td>\n",
       "      <td>125</td>\n",
       "      <td>2</td>\n",
       "      <td>4</td>\n",
       "      <td>18</td>\n",
       "      <td>00:02:40,869</td>\n",
       "      <td>00:02:42,119</td>\n",
       "      <td>1</td>\n",
       "      <td>ohh its time</td>\n",
       "      <td>[ohh, its, time]</td>\n",
       "    </tr>\n",
       "    <tr>\n",
       "      <th>1165</th>\n",
       "      <td>1228</td>\n",
       "      <td>Huh, what can we do in 17 minutes?</td>\n",
       "      <td>Ross</td>\n",
       "      <td>neutral</td>\n",
       "      <td>neutral</td>\n",
       "      <td>125</td>\n",
       "      <td>4</td>\n",
       "      <td>4</td>\n",
       "      <td>18</td>\n",
       "      <td>00:02:48,209</td>\n",
       "      <td>00:02:51,295</td>\n",
       "      <td>1</td>\n",
       "      <td>huh  minutes</td>\n",
       "      <td>[huh, minutes]</td>\n",
       "    </tr>\n",
       "  </tbody>\n",
       "</table>\n",
       "</div>"
      ],
      "text/plain": [
       "      Sr No.                                          Utterance Speaker  \\\n",
       "1163    1225  Hey, if mommy can have a wife, daddy can have ...    Ross   \n",
       "1164    1226                              Ohh, its time to go.   Emily   \n",
       "1165    1228                 Huh, what can we do in 17 minutes?    Ross   \n",
       "\n",
       "      Emotion Sentiment  Dialogue_ID  Utterance_ID  Season  Episode  \\\n",
       "1163  neutral   neutral          125             1       4       18   \n",
       "1164  neutral   neutral          125             2       4       18   \n",
       "1165  neutral   neutral          125             4       4       18   \n",
       "\n",
       "         StartTime       EndTime  sentiment_int         cleaned_Utterance  \\\n",
       "1163  00:02:35,613  00:02:38,323              1  hey mommy wife daddy bra   \n",
       "1164  00:02:40,869  00:02:42,119              1             ohh its time   \n",
       "1165  00:02:48,209  00:02:51,295              1              huh  minutes   \n",
       "\n",
       "                              tokens  \n",
       "1163  [hey, mommy, wife, daddy, bra]  \n",
       "1164               [ohh, its, time]  \n",
       "1165                  [huh, minutes]  "
      ]
     },
     "execution_count": 16,
     "metadata": {},
     "output_type": "execute_result"
    }
   ],
   "source": [
    "train_df['cleaned_Utterance'] = train_df['Utterance'].apply(cleaning)\n",
    "train_df['tokens'] = train_df['cleaned_Utterance'].apply(tokenize)\n",
    "\n",
    "train_df.index = range(total)\n",
    "train_df.iloc[1163:1166]"
   ]
  },
  {
   "cell_type": "code",
   "execution_count": 12,
   "metadata": {},
   "outputs": [],
   "source": [
    "cleaned_utt = np.reshape(train_df['cleaned_Utterance'].values, (total,1))"
   ]
  },
  {
   "cell_type": "code",
   "execution_count": 13,
   "metadata": {},
   "outputs": [
    {
     "name": "stdout",
     "output_type": "stream",
     "text": [
      "1 surprise\n",
      "0 neutral\n",
      "0 neutral\n",
      "5 disgust\n",
      "5 disgust\n",
      "0 neutral\n",
      "0 neutral\n",
      "1 surprise\n",
      "0 neutral\n",
      "4 joy\n"
     ]
    }
   ],
   "source": [
    "for i in range(-10, 0):\n",
    "    print(y[i], train_df['Emotion'].iloc[i])"
   ]
  },
  {
   "cell_type": "code",
   "execution_count": 17,
   "metadata": {},
   "outputs": [
    {
     "data": {
      "text/plain": [
       "[9988]"
      ]
     },
     "execution_count": 17,
     "metadata": {},
     "output_type": "execute_result"
    }
   ],
   "source": [
    "x_text = train_df['cleaned_Utterance'] # it was named as X\n",
    "y_text = train_df['Emotion'] # was named as Y\n",
    "x_txt_train, x_txt_test, y_txt_train, y_txt_test = train_test_split(x_text, y_text, test_size = test_size, random_state = 42)\n",
    "\n",
    "## IMPORTANT there's no index 1165 before, run this to chech if you fixed the indices\n",
    "[i for i in range(total + 1) if i not in y_text.index]"
   ]
  },
  {
   "cell_type": "code",
   "execution_count": 18,
   "metadata": {},
   "outputs": [],
   "source": [
    "aud_train = np.array(x_audio)[x_txt_train.index]\n",
    "aud_test = np.array(x_audio)[x_txt_test.index]"
   ]
  },
  {
   "cell_type": "code",
   "execution_count": 16,
   "metadata": {},
   "outputs": [
    {
     "name": "stdout",
     "output_type": "stream",
     "text": [
      "neutral neutral\n",
      "joy joy\n",
      "surprise surprise\n",
      "fear fear\n",
      "fear fear\n",
      "neutral neutral\n",
      "surprise surprise\n",
      "neutral neutral\n",
      "neutral neutral\n",
      "joy joy\n"
     ]
    }
   ],
   "source": [
    "## check whether they are aligned\n",
    "for i in range(0, 10):\n",
    "    print(y_txt_train[:10].values[i], train_df.loc[x_txt_train.index[:10]]['Emotion'].values[i])\n"
   ]
  },
  {
   "cell_type": "code",
   "execution_count": 19,
   "metadata": {},
   "outputs": [],
   "source": [
    "count_vect = CountVectorizer()\n",
    "x_txt_train_counts = count_vect.fit_transform(x_txt_train)\n",
    "x_txt_test_counts = count_vect.transform(x_txt_test)\n",
    "\n",
    "# x_txt_train_counts.shape #(7491, 4657)\n",
    "\n",
    "# aud_train.shape #(7491, 180)\n",
    "\n",
    "x_mix_train = hstack((x_txt_train_counts, aud_train))\n",
    "x_mix_test = hstack((x_txt_test_counts, aud_test))"
   ]
  },
  {
   "cell_type": "code",
   "execution_count": 20,
   "metadata": {},
   "outputs": [],
   "source": [
    "## sentiment\n",
    "y_sent_train = train_df['sentiment_int'].values[y_txt_train.index]\n",
    "y_sent_test = train_df['sentiment_int'].values[y_txt_test.index]"
   ]
  },
  {
   "cell_type": "markdown",
   "metadata": {},
   "source": [
    "### convert features and lables"
   ]
  },
  {
   "cell_type": "code",
   "execution_count": 21,
   "metadata": {},
   "outputs": [],
   "source": [
    "def convert_y(y_labels, num_class=2):\n",
    "    \"\"\"convert a list of labels to one-hot encoding for neural network\"\"\"\n",
    "    if num_class > 2:\n",
    "        encodings = np.zeros((len(y_labels), num_class))\n",
    "    else:\n",
    "        raise ValueError(\"Number of class should be greater than 2, num_class =\", num_class)\n",
    "    for i, this_y in enumerate(y_labels):\n",
    "        encodings[i, this_y] = 1\n",
    "    return encodings"
   ]
  },
  {
   "cell_type": "code",
   "execution_count": 22,
   "metadata": {},
   "outputs": [],
   "source": [
    "x_arr_train = x_mix_train.toarray()\n",
    "x_arr_test = x_mix_test.toarray()\n",
    "\n",
    "y_num_train = np.array(y)[y_txt_train.index] ## number labels for emotions\n",
    "y_num_test = np.array(y)[y_txt_test.index]\n",
    "y_1hot_train = convert_y(y_num_train, 7)\n",
    "y_1hot_test = convert_y(y_num_test, 7)\n",
    "\n",
    "input_shape = x_mix_train.shape[1]"
   ]
  },
  {
   "cell_type": "code",
   "execution_count": 21,
   "metadata": {},
   "outputs": [
    {
     "name": "stdout",
     "output_type": "stream",
     "text": [
      "              precision    recall  f1-score   support\n",
      "\n",
      "       anger       0.24      0.29      0.26       312\n",
      "     disgust       0.06      0.35      0.10        65\n",
      "        fear       0.02      0.12      0.04        57\n",
      "         joy       0.24      0.17      0.20       422\n",
      "     neutral       0.58      0.22      0.32      1152\n",
      "     sadness       0.11      0.28      0.15       160\n",
      "    surprise       0.21      0.17      0.19       329\n",
      "\n",
      "    accuracy                           0.22      2497\n",
      "   macro avg       0.21      0.23      0.18      2497\n",
      "weighted avg       0.37      0.22      0.25      2497\n",
      "\n"
     ]
    },
    {
     "name": "stderr",
     "output_type": "stream",
     "text": [
      "/home/zyixian/anaconda3/envs/speech_gen/lib/python3.8/site-packages/sklearn/linear_model/_logistic.py:938: ConvergenceWarning: lbfgs failed to converge (status=1):\n",
      "STOP: TOTAL NO. of ITERATIONS REACHED LIMIT.\n",
      "\n",
      "Increase the number of iterations (max_iter) or scale the data as shown in:\n",
      "    https://scikit-learn.org/stable/modules/preprocessing.html\n",
      "Please also refer to the documentation for alternative solver options:\n",
      "    https://scikit-learn.org/stable/modules/linear_model.html#logistic-regression\n",
      "  n_iter_i = _check_optimize_result(\n"
     ]
    }
   ],
   "source": [
    "log_clf_wgt = LogisticRegression(class_weight='balanced').fit(x_mix_train, y_txt_train)\n",
    "\n",
    "y_log_pred = log_clf_wgt.predict(x_mix_test)\n",
    "accuracy = accuracy_score(np.array(y_txt_test), y_log_pred)\n",
    "# Combined report with all above metrics\n",
    "print(classification_report(y_txt_test, y_log_pred))"
   ]
  },
  {
   "cell_type": "markdown",
   "metadata": {},
   "source": [
    "## Logistic with Grid Search"
   ]
  },
  {
   "cell_type": "code",
   "execution_count": 18,
   "metadata": {},
   "outputs": [
    {
     "name": "stdout",
     "output_type": "stream",
     "text": [
      "Fitting 5 folds for each of 32 candidates, totalling 160 fits\n"
     ]
    },
    {
     "name": "stderr",
     "output_type": "stream",
     "text": [
      "[Parallel(n_jobs=-1)]: Using backend LokyBackend with 36 concurrent workers.\n",
      "[Parallel(n_jobs=-1)]: Done 160 out of 160 | elapsed:  8.0min finished\n"
     ]
    }
   ],
   "source": [
    "param_grid = {'penalty' : ['l1', 'l2'],\n",
    "    'class_weight': ['balanced', None],\n",
    "    'C' : [0.5, 0.8, 0.9, 1, 1.2, 1.5, 2, 5],\n",
    "    'solver' : ['liblinear']}\n",
    "\n",
    "# Create grid search object\n",
    "logit = LogisticRegression(random_state=1)\n",
    "log_clf = GridSearchCV(logit, param_grid = param_grid, cv = 5, verbose=2, n_jobs=-1)\n",
    "\n",
    "# Fit on data\n",
    "grid_cv =log_clf.fit(x_mix_train, y_txt_train)"
   ]
  },
  {
   "cell_type": "code",
   "execution_count": 81,
   "metadata": {},
   "outputs": [
    {
     "data": {
      "text/plain": [
       "{'C': 0.8, 'class_weight': 'balanced', 'penalty': 'l2', 'solver': 'liblinear'}"
      ]
     },
     "execution_count": 81,
     "metadata": {},
     "output_type": "execute_result"
    }
   ],
   "source": [
    "results = pd.DataFrame(grid_cv.cv_results_).sort_values(['rank_test_score'])\n",
    "results.head(6)\n",
    "# best score may lie between C=[0.1, 10], l1 or l2, need deeper search\n",
    "best_wgt_params = results[results['param_class_weight'] == \"balanced\"].head(1)['params'].values[0]\n",
    "best_wgt_params"
   ]
  },
  {
   "cell_type": "code",
   "execution_count": 190,
   "metadata": {},
   "outputs": [
    {
     "name": "stdout",
     "output_type": "stream",
     "text": [
      "              precision    recall  f1-score   support\n",
      "\n",
      "       anger       0.26      0.20      0.22       312\n",
      "     disgust       0.14      0.18      0.16        65\n",
      "        fear       0.08      0.14      0.10        57\n",
      "         joy       0.39      0.35      0.37       422\n",
      "     neutral       0.57      0.63      0.60      1152\n",
      "     sadness       0.18      0.18      0.18       160\n",
      "    surprise       0.42      0.35      0.38       329\n",
      "\n",
      "    accuracy                           0.44      2497\n",
      "   macro avg       0.29      0.29      0.29      2497\n",
      "weighted avg       0.43      0.44      0.43      2497\n",
      "\n"
     ]
    }
   ],
   "source": [
    "best_wgt_params = {'C': 0.8, 'class_weight': 'balanced', 'penalty': 'l2', 'solver': 'liblinear'}\n",
    "base_logit_wgt = LogisticRegression(random_state=1, **best_wgt_params)\n",
    "base_logit_wgt.fit(x_txt_train_counts, y_txt_train)\n",
    "base_logit_wgt_pred = base_logit_wgt.predict(x_txt_test_counts)\n",
    "print(classification_report(y_txt_test, base_logit_wgt_pred))"
   ]
  },
  {
   "cell_type": "code",
   "execution_count": 16,
   "metadata": {},
   "outputs": [
    {
     "ename": "NameError",
     "evalue": "name 'best_wgt_params' is not defined",
     "output_type": "error",
     "traceback": [
      "\u001b[0;31m---------------------------------------------------------------------------\u001b[0m",
      "\u001b[0;31mNameError\u001b[0m                                 Traceback (most recent call last)",
      "\u001b[0;32m<ipython-input-16-c724fe5cf797>\u001b[0m in \u001b[0;36m<module>\u001b[0;34m\u001b[0m\n\u001b[0;32m----> 1\u001b[0;31m \u001b[0mbest_logit_wgt\u001b[0m \u001b[0;34m=\u001b[0m \u001b[0mLogisticRegression\u001b[0m\u001b[0;34m(\u001b[0m\u001b[0mrandom_state\u001b[0m\u001b[0;34m=\u001b[0m\u001b[0;36m1\u001b[0m\u001b[0;34m,\u001b[0m \u001b[0;34m**\u001b[0m\u001b[0mbest_wgt_params\u001b[0m\u001b[0;34m)\u001b[0m\u001b[0;34m\u001b[0m\u001b[0;34m\u001b[0m\u001b[0m\n\u001b[0m\u001b[1;32m      2\u001b[0m \u001b[0mbest_logit_wgt\u001b[0m\u001b[0;34m.\u001b[0m\u001b[0mfit\u001b[0m\u001b[0;34m(\u001b[0m\u001b[0mx_mix_train\u001b[0m\u001b[0;34m,\u001b[0m \u001b[0my_txt_train\u001b[0m\u001b[0;34m)\u001b[0m\u001b[0;34m\u001b[0m\u001b[0;34m\u001b[0m\u001b[0m\n\u001b[1;32m      3\u001b[0m \u001b[0mbest_logit_wgt_pred\u001b[0m \u001b[0;34m=\u001b[0m \u001b[0mbest_logit_wgt\u001b[0m\u001b[0;34m.\u001b[0m\u001b[0mpredict\u001b[0m\u001b[0;34m(\u001b[0m\u001b[0mx_mix_test\u001b[0m\u001b[0;34m)\u001b[0m\u001b[0;34m\u001b[0m\u001b[0;34m\u001b[0m\u001b[0m\n\u001b[1;32m      4\u001b[0m \u001b[0mprint\u001b[0m\u001b[0;34m(\u001b[0m\u001b[0mclassification_report\u001b[0m\u001b[0;34m(\u001b[0m\u001b[0my_txt_test\u001b[0m\u001b[0;34m,\u001b[0m \u001b[0mbest_logit_wgt_pred\u001b[0m\u001b[0;34m)\u001b[0m\u001b[0;34m)\u001b[0m\u001b[0;34m\u001b[0m\u001b[0;34m\u001b[0m\u001b[0m\n",
      "\u001b[0;31mNameError\u001b[0m: name 'best_wgt_params' is not defined"
     ]
    }
   ],
   "source": [
    "best_logit_wgt = LogisticRegression(random_state=1, **best_wgt_params)\n",
    "best_logit_wgt.fit(x_mix_train, y_txt_train)\n",
    "best_logit_wgt_pred = best_logit_wgt.predict(x_mix_test)\n",
    "print(classification_report(y_txt_test, best_logit_wgt_pred))"
   ]
  },
  {
   "cell_type": "code",
   "execution_count": 17,
   "metadata": {},
   "outputs": [
    {
     "ename": "NameError",
     "evalue": "name 'grid_cv' is not defined",
     "output_type": "error",
     "traceback": [
      "\u001b[0;31m---------------------------------------------------------------------------\u001b[0m",
      "\u001b[0;31mNameError\u001b[0m                                 Traceback (most recent call last)",
      "\u001b[0;32m<ipython-input-17-73d92a36f176>\u001b[0m in \u001b[0;36m<module>\u001b[0;34m\u001b[0m\n\u001b[0;32m----> 1\u001b[0;31m \u001b[0mbest_logit\u001b[0m \u001b[0;34m=\u001b[0m \u001b[0mLogisticRegression\u001b[0m\u001b[0;34m(\u001b[0m\u001b[0mrandom_state\u001b[0m\u001b[0;34m=\u001b[0m\u001b[0;36m1\u001b[0m\u001b[0;34m,\u001b[0m \u001b[0;34m**\u001b[0m\u001b[0mgrid_cv\u001b[0m\u001b[0;34m.\u001b[0m\u001b[0mbest_params_\u001b[0m\u001b[0;34m)\u001b[0m\u001b[0;34m\u001b[0m\u001b[0;34m\u001b[0m\u001b[0m\n\u001b[0m\u001b[1;32m      2\u001b[0m \u001b[0mbest_logit\u001b[0m\u001b[0;34m.\u001b[0m\u001b[0mfit\u001b[0m\u001b[0;34m(\u001b[0m\u001b[0mx_mix_train\u001b[0m\u001b[0;34m,\u001b[0m \u001b[0my_txt_train\u001b[0m\u001b[0;34m)\u001b[0m\u001b[0;34m\u001b[0m\u001b[0;34m\u001b[0m\u001b[0m\n\u001b[1;32m      3\u001b[0m \u001b[0mbest_logit_unwgt\u001b[0m \u001b[0;34m=\u001b[0m \u001b[0mbest_logit\u001b[0m\u001b[0;34m.\u001b[0m\u001b[0mpredict\u001b[0m\u001b[0;34m(\u001b[0m\u001b[0mx_mix_test\u001b[0m\u001b[0;34m)\u001b[0m\u001b[0;34m\u001b[0m\u001b[0;34m\u001b[0m\u001b[0m\n\u001b[1;32m      4\u001b[0m \u001b[0mbest_logit\u001b[0m\u001b[0;34m\u001b[0m\u001b[0;34m\u001b[0m\u001b[0m\n",
      "\u001b[0;31mNameError\u001b[0m: name 'grid_cv' is not defined"
     ]
    }
   ],
   "source": [
    "best_logit = LogisticRegression(random_state=1, **grid_cv.best_params_)\n",
    "best_logit.fit(x_mix_train, y_txt_train)\n",
    "best_logit_unwgt = best_logit.predict(x_mix_test)\n",
    "best_logit"
   ]
  },
  {
   "cell_type": "code",
   "execution_count": 90,
   "metadata": {},
   "outputs": [
    {
     "name": "stdout",
     "output_type": "stream",
     "text": [
      "              precision    recall  f1-score   support\n",
      "\n",
      "       anger       0.37      0.14      0.20       312\n",
      "     disgust       0.50      0.02      0.03        65\n",
      "        fear       0.17      0.02      0.03        57\n",
      "         joy       0.46      0.21      0.29       422\n",
      "     neutral       0.52      0.92      0.66      1152\n",
      "     sadness       0.32      0.07      0.12       160\n",
      "    surprise       0.65      0.19      0.29       329\n",
      "\n",
      "    accuracy                           0.51      2497\n",
      "   macro avg       0.43      0.22      0.23      2497\n",
      "weighted avg       0.49      0.51      0.43      2497\n",
      "\n"
     ]
    }
   ],
   "source": [
    "print(classification_report(y_txt_test, best_logit_unwgt))"
   ]
  },
  {
   "cell_type": "code",
   "execution_count": 85,
   "metadata": {},
   "outputs": [
    {
     "data": {
      "text/plain": [
       "array(['neutral', 'neutral', 'neutral', ..., 'neutral', 'neutral',\n",
       "       'neutral'], dtype=object)"
      ]
     },
     "execution_count": 85,
     "metadata": {},
     "output_type": "execute_result"
    }
   ],
   "source": [
    "best_logit_wgt"
   ]
  },
  {
   "cell_type": "code",
   "execution_count": 77,
   "metadata": {},
   "outputs": [
    {
     "name": "stdout",
     "output_type": "stream",
     "text": [
      "              precision    recall  f1-score   support\n",
      "\n",
      "       anger       0.37      0.14      0.20       312\n",
      "     disgust       0.50      0.02      0.03        65\n",
      "        fear       0.17      0.02      0.03        57\n",
      "         joy       0.46      0.21      0.29       422\n",
      "     neutral       0.52      0.92      0.66      1152\n",
      "     sadness       0.32      0.07      0.12       160\n",
      "    surprise       0.65      0.19      0.29       329\n",
      "\n",
      "    accuracy                           0.51      2497\n",
      "   macro avg       0.43      0.22      0.23      2497\n",
      "weighted avg       0.49      0.51      0.43      2497\n",
      "\n"
     ]
    }
   ],
   "source": [
    "print(classification_report(y_txt_test, best_logit_unwgt))"
   ]
  },
  {
   "cell_type": "code",
   "execution_count": 68,
   "metadata": {},
   "outputs": [
    {
     "name": "stdout",
     "output_type": "stream",
     "text": [
      "              precision    recall  f1-score   support\n",
      "\n",
      "       anger       0.39      0.18      0.25       312\n",
      "     disgust       0.20      0.02      0.03        65\n",
      "        fear       0.18      0.04      0.06        57\n",
      "         joy       0.43      0.23      0.30       422\n",
      "     neutral       0.53      0.89      0.66      1152\n",
      "     sadness       0.29      0.09      0.13       160\n",
      "    surprise       0.53      0.22      0.32       329\n",
      "\n",
      "    accuracy                           0.51      2497\n",
      "   macro avg       0.36      0.24      0.25      2497\n",
      "weighted avg       0.46      0.51      0.44      2497\n",
      "\n"
     ]
    }
   ],
   "source": [
    "print(classification_report(y_txt_test, best_logit_unwgt))"
   ]
  },
  {
   "cell_type": "code",
   "execution_count": 99,
   "metadata": {
    "collapsed": true,
    "jupyter": {
     "outputs_hidden": true
    }
   },
   "outputs": [
    {
     "name": "stdout",
     "output_type": "stream",
     "text": [
      "              precision    recall  f1-score   support\n",
      "\n",
      "           0       0.63      0.33      0.43       453\n",
      "           1       0.30      0.54      0.38       133\n",
      "           2       0.07      0.24      0.11        21\n",
      "           3       0.17      0.20      0.19        71\n",
      "           4       0.39      0.40      0.40       177\n",
      "           5       0.07      0.16      0.10        25\n",
      "           6       0.20      0.23      0.22       119\n",
      "\n",
      "    accuracy                           0.34       999\n",
      "   macro avg       0.26      0.30      0.26       999\n",
      "weighted avg       0.43      0.34      0.36       999\n",
      "\n"
     ]
    }
   ],
   "source": [
    "model2=MLPClassifier(alpha=0.01, batch_size=256, epsilon=1e-08, hidden_layer_sizes=(300,), learning_rate='adaptive', max_iter=500)\n",
    "model2.fit(x_txt_train_mix, Y_train)\n",
    "y_pred=model2.predict(x_txt_test_mix)\n"
   ]
  },
  {
   "cell_type": "code",
   "execution_count": 100,
   "metadata": {},
   "outputs": [
    {
     "name": "stdout",
     "output_type": "stream",
     "text": [
      "              precision    recall  f1-score   support\n",
      "\n",
      "           0       0.55      0.45      0.49       453\n",
      "           1       0.32      0.37      0.34       133\n",
      "           2       0.04      0.05      0.04        21\n",
      "           3       0.14      0.07      0.09        71\n",
      "           4       0.25      0.45      0.32       177\n",
      "           5       0.08      0.04      0.05        25\n",
      "           6       0.18      0.13      0.15       119\n",
      "\n",
      "    accuracy                           0.35       999\n",
      "   macro avg       0.22      0.22      0.21       999\n",
      "weighted avg       0.37      0.35      0.35       999\n",
      "\n"
     ]
    }
   ],
   "source": [
    "print(classification_report(Y_test, y_pred))"
   ]
  },
  {
   "cell_type": "code",
   "execution_count": 101,
   "metadata": {},
   "outputs": [
    {
     "name": "stdout",
     "output_type": "stream",
     "text": [
      "              precision    recall  f1-score   support\n",
      "\n",
      "           0       0.55      0.20      0.29      1152\n",
      "           1       0.13      0.12      0.12       308\n",
      "           2       0.04      0.18      0.07        62\n",
      "           3       0.11      0.25      0.15       185\n",
      "           4       0.26      0.20      0.23       439\n",
      "           5       0.04      0.27      0.07        64\n",
      "           6       0.24      0.31      0.27       287\n",
      "\n",
      "    accuracy                           0.21      2497\n",
      "   macro avg       0.20      0.22      0.17      2497\n",
      "weighted avg       0.35      0.21      0.24      2497\n",
      "\n"
     ]
    },
    {
     "name": "stderr",
     "output_type": "stream",
     "text": [
      "/anaconda3/lib/python3.7/site-packages/sklearn/linear_model/_logistic.py:940: ConvergenceWarning: lbfgs failed to converge (status=1):\n",
      "STOP: TOTAL NO. of ITERATIONS REACHED LIMIT.\n",
      "\n",
      "Increase the number of iterations (max_iter) or scale the data as shown in:\n",
      "    https://scikit-learn.org/stable/modules/preprocessing.html\n",
      "Please also refer to the documentation for alternative solver options:\n",
      "    https://scikit-learn.org/stable/modules/linear_model.html#logistic-regression\n",
      "  extra_warning_msg=_LOGISTIC_SOLVER_CONVERGENCE_MSG)\n"
     ]
    }
   ],
   "source": [
    "## using logistic on only audio data\n",
    "log_clf_wgt2 = LogisticRegression(class_weight='balanced').fit(x_train, y_train)\n",
    "y_pred_log2 = log_clf_wgt2.predict(x_test)\n",
    "print(classification_report(y_test, y_pred_log2))"
   ]
  },
  {
   "cell_type": "code",
   "execution_count": 26,
   "metadata": {},
   "outputs": [],
   "source": [
    "sample_rate = 44100\n",
    "this_audio = train_dir + \"dia39_utt16.wav\"\n",
    "X, sr = librosa.load(this_audio, sr=None, mono=True)"
   ]
  },
  {
   "cell_type": "code",
   "execution_count": 27,
   "metadata": {},
   "outputs": [
    {
     "data": {
      "text/plain": [
       "(1025, 833)"
      ]
     },
     "execution_count": 27,
     "metadata": {},
     "output_type": "execute_result"
    }
   ],
   "source": [
    "stft=np.abs(librosa.stft(X))\n",
    "stft.shape"
   ]
  },
  {
   "cell_type": "code",
   "execution_count": 28,
   "metadata": {},
   "outputs": [],
   "source": [
    "result=np.array([])\n",
    "mfccs=np.mean(librosa.feature.mfcc(y=X, sr=sr, n_mfcc=40).T, axis=0)\n",
    "result=np.hstack((result, mfccs))"
   ]
  },
  {
   "cell_type": "markdown",
   "metadata": {},
   "source": [
    "## Emotion classification using a Simple NN"
   ]
  },
  {
   "cell_type": "code",
   "execution_count": 70,
   "metadata": {},
   "outputs": [],
   "source": [
    "simple_nn = models.Sequential()\n",
    "simple_nn.add(layers.Dense(32, activation='relu', input_shape=(input_shape, )))\n",
    "simple_nn.add(layers.Dense(16, activation='relu'))\n",
    "simple_nn.add(layers.Dense(7, activation='softmax'))\n",
    "simple_nn.compile(loss='categorical_crossentropy', optimizer='adam', metrics=['accuracy'])"
   ]
  },
  {
   "cell_type": "code",
   "execution_count": 33,
   "metadata": {},
   "outputs": [
    {
     "name": "stdout",
     "output_type": "stream",
     "text": [
      "Model: \"sequential_3\"\n",
      "_________________________________________________________________\n",
      "Layer (type)                 Output Shape              Param #   \n",
      "=================================================================\n",
      "dense_4 (Dense)              (None, 32)                154816    \n",
      "_________________________________________________________________\n",
      "dense_5 (Dense)              (None, 16)                528       \n",
      "_________________________________________________________________\n",
      "dense_6 (Dense)              (None, 7)                 119       \n",
      "=================================================================\n",
      "Total params: 155,463\n",
      "Trainable params: 155,463\n",
      "Non-trainable params: 0\n",
      "_________________________________________________________________\n"
     ]
    }
   ],
   "source": [
    "simple_nn.summary()"
   ]
  },
  {
   "cell_type": "code",
   "execution_count": 36,
   "metadata": {},
   "outputs": [
    {
     "data": {
      "text/plain": [
       "array([[0.00000000e+00, 0.00000000e+00, 0.00000000e+00, ...,\n",
       "        1.74471360e-09, 1.72682491e-09, 1.69412095e-09],\n",
       "       [0.00000000e+00, 0.00000000e+00, 0.00000000e+00, ...,\n",
       "        3.46812584e-07, 3.42379650e-07, 3.40634188e-07],\n",
       "       [0.00000000e+00, 0.00000000e+00, 0.00000000e+00, ...,\n",
       "        1.26655038e-07, 1.24367318e-07, 1.23367855e-07],\n",
       "       ...,\n",
       "       [0.00000000e+00, 0.00000000e+00, 0.00000000e+00, ...,\n",
       "        5.23652277e-09, 5.20029309e-09, 5.06713382e-09],\n",
       "       [0.00000000e+00, 0.00000000e+00, 0.00000000e+00, ...,\n",
       "        1.38951861e-09, 1.39165923e-09, 1.40881651e-09],\n",
       "       [0.00000000e+00, 0.00000000e+00, 0.00000000e+00, ...,\n",
       "        8.01268953e-08, 7.71062858e-08, 7.68958301e-08]])"
      ]
     },
     "execution_count": 36,
     "metadata": {},
     "output_type": "execute_result"
    }
   ],
   "source": [
    "x_mix_test.toarray()"
   ]
  },
  {
   "cell_type": "code",
   "execution_count": 58,
   "metadata": {
    "collapsed": true,
    "jupyter": {
     "outputs_hidden": true
    }
   },
   "outputs": [
    {
     "name": "stdout",
     "output_type": "stream",
     "text": [
      "Epoch 1/25\n",
      "7491/7491 [==============================] - 1s 159us/step - loss: 0.6053 - accuracy: 0.7975\n",
      "Epoch 2/25\n",
      "7491/7491 [==============================] - 1s 114us/step - loss: 0.5869 - accuracy: 0.8023\n",
      "Epoch 3/25\n",
      "7491/7491 [==============================] - 1s 119us/step - loss: 0.5911 - accuracy: 0.7992\n",
      "Epoch 4/25\n",
      "7491/7491 [==============================] - 1s 119us/step - loss: 0.6449 - accuracy: 0.7817\n",
      "Epoch 5/25\n",
      "7491/7491 [==============================] - 1s 114us/step - loss: 0.6033 - accuracy: 0.7915\n",
      "Epoch 6/25\n",
      "7491/7491 [==============================] - 1s 119us/step - loss: 0.5929 - accuracy: 0.8034\n",
      "Epoch 7/25\n",
      "7491/7491 [==============================] - 1s 132us/step - loss: 0.5959 - accuracy: 0.7987\n",
      "Epoch 8/25\n",
      "7491/7491 [==============================] - 1s 116us/step - loss: 0.5811 - accuracy: 0.8024\n",
      "Epoch 9/25\n",
      "7491/7491 [==============================] - 1s 132us/step - loss: 0.5764 - accuracy: 0.8035\n",
      "Epoch 10/25\n",
      "7491/7491 [==============================] - 1s 132us/step - loss: 0.5587 - accuracy: 0.8116\n",
      "Epoch 11/25\n",
      "7491/7491 [==============================] - 1s 119us/step - loss: 0.5647 - accuracy: 0.8042\n",
      "Epoch 12/25\n",
      "7491/7491 [==============================] - 1s 124us/step - loss: 0.5656 - accuracy: 0.8072\n",
      "Epoch 13/25\n",
      "7491/7491 [==============================] - 1s 129us/step - loss: 0.5499 - accuracy: 0.8150\n",
      "Epoch 14/25\n",
      "7491/7491 [==============================] - 1s 126us/step - loss: 0.5410 - accuracy: 0.8168\n",
      "Epoch 15/25\n",
      "7491/7491 [==============================] - 1s 119us/step - loss: 0.5673 - accuracy: 0.8056\n",
      "Epoch 16/25\n",
      "7491/7491 [==============================] - 1s 119us/step - loss: 0.5548 - accuracy: 0.8106\n",
      "Epoch 17/25\n",
      "7491/7491 [==============================] - 1s 130us/step - loss: 0.5443 - accuracy: 0.8159\n",
      "Epoch 18/25\n",
      "7491/7491 [==============================] - 1s 140us/step - loss: 0.5521 - accuracy: 0.8063\n",
      "Epoch 19/25\n",
      "7491/7491 [==============================] - 1s 127us/step - loss: 0.5505 - accuracy: 0.8108\n",
      "Epoch 20/25\n",
      "7491/7491 [==============================] - 1s 125us/step - loss: 0.5341 - accuracy: 0.8195\n",
      "Epoch 21/25\n",
      "7491/7491 [==============================] - 1s 123us/step - loss: 0.5359 - accuracy: 0.8199\n",
      "Epoch 22/25\n",
      "7491/7491 [==============================] - 1s 138us/step - loss: 0.5245 - accuracy: 0.8217\n",
      "Epoch 23/25\n",
      "7491/7491 [==============================] - 1s 142us/step - loss: 0.5336 - accuracy: 0.8163\n",
      "Epoch 24/25\n",
      "7491/7491 [==============================] - 1s 124us/step - loss: 0.5247 - accuracy: 0.8199\n",
      "Epoch 25/25\n",
      "7491/7491 [==============================] - 1s 145us/step - loss: 0.5173 - accuracy: 0.8221\n"
     ]
    }
   ],
   "source": [
    "history = simple_nn.fit(x_arr_train, y_1hot_train, epochs=25, batch_size=128, verbose=0)\n",
    "y_nn_predict = simple_nn.predict(x_arr_test)"
   ]
  },
  {
   "cell_type": "code",
   "execution_count": 65,
   "metadata": {},
   "outputs": [],
   "source": []
  },
  {
   "cell_type": "code",
   "execution_count": 68,
   "metadata": {},
   "outputs": [
    {
     "name": "stdout",
     "output_type": "stream",
     "text": [
      "              precision    recall  f1-score   support\n",
      "\n",
      "     neutral       0.56      0.63      0.59      1152\n",
      "    surprise       0.39      0.22      0.28       329\n",
      "        fear       0.06      0.04      0.05        57\n",
      "     sadness       0.14      0.11      0.12       160\n",
      "         joy       0.32      0.41      0.36       422\n",
      "     disgust       0.11      0.11      0.11        65\n",
      "       anger       0.29      0.24      0.26       312\n",
      "\n",
      "    accuracy                           0.43      2497\n",
      "   macro avg       0.27      0.25      0.25      2497\n",
      "weighted avg       0.41      0.43      0.42      2497\n",
      "\n"
     ]
    }
   ],
   "source": [
    "print(classification_report(np.argmax(y_1hot_test, axis=1), np.argmax(y_nn_predict, axis=1), target_names=emotions))"
   ]
  },
  {
   "cell_type": "code",
   "execution_count": 62,
   "metadata": {},
   "outputs": [
    {
     "data": {
      "text/plain": [
       "array([3, 0, 3, ..., 4, 3, 0])"
      ]
     },
     "execution_count": 62,
     "metadata": {},
     "output_type": "execute_result"
    }
   ],
   "source": [
    "np.argmax(y_1hot_test, axis=1)"
   ]
  },
  {
   "cell_type": "code",
   "execution_count": 61,
   "metadata": {},
   "outputs": [
    {
     "data": {
      "text/plain": [
       "array([0, 4, 0, ..., 4, 0, 4])"
      ]
     },
     "execution_count": 61,
     "metadata": {},
     "output_type": "execute_result"
    }
   ],
   "source": [
    "np.argmax(y_nn_predict, axis=1)"
   ]
  },
  {
   "cell_type": "code",
   "execution_count": 51,
   "metadata": {},
   "outputs": [
    {
     "data": {
      "image/png": "[encoded data removed]",
      "text/plain": [
       "<Figure size 432x288 with 1 Axes>"
      ]
     },
     "metadata": {
      "needs_background": "light"
     },
     "output_type": "display_data"
    }
   ],
   "source": [
    "import matplotlib.pyplot as plt\n",
    "\n",
    "loss = history.history['loss']\n",
    "val_loss = history.history['val_loss']\n",
    "\n",
    "epochs = range(1, len(loss) + 1)\n",
    "\n",
    "# \"bo\" is for \"blue dot\"\n",
    "plt.plot(epochs, loss, 'bo', label='Training loss')\n",
    "# b is for \"solid blue line\"\n",
    "plt.plot(epochs, val_loss, 'b', label='Validation loss')\n",
    "plt.title('Training and validation loss')\n",
    "plt.xlabel('Epochs')\n",
    "plt.ylabel('Loss')\n",
    "plt.legend()\n",
    "\n",
    "plt.show()"
   ]
  },
  {
   "cell_type": "code",
   "execution_count": 53,
   "metadata": {},
   "outputs": [
    {
     "data": {
      "text/plain": [
       "range(1, 26)"
      ]
     },
     "execution_count": 53,
     "metadata": {},
     "output_type": "execute_result"
    }
   ],
   "source": [
    "epochs"
   ]
  },
  {
   "cell_type": "code",
   "execution_count": 54,
   "metadata": {},
   "outputs": [
    {
     "data": {
      "image/png": "[encoded data removed]",
      "text/plain": [
       "<Figure size 432x288 with 1 Axes>"
      ]
     },
     "metadata": {
      "needs_background": "light"
     },
     "output_type": "display_data"
    }
   ],
   "source": [
    "plt.clf()   # clear figure\n",
    "acc = history.history['accuracy']\n",
    "val_acc = history.history['val_accuracy']\n",
    "\n",
    "plt.plot(epochs, acc, 'bo', label='Training acc')\n",
    "plt.plot(epochs, val_acc, 'b', label='Validation acc')\n",
    "plt.title('Training and validation accuracy')\n",
    "plt.xlabel('Epochs')\n",
    "plt.ylabel('Loss')\n",
    "plt.legend()\n",
    "\n",
    "plt.show()"
   ]
  },
  {
   "cell_type": "markdown",
   "metadata": {},
   "source": [
    "## MLP with regularization"
   ]
  },
  {
   "cell_type": "code",
   "execution_count": 88,
   "metadata": {},
   "outputs": [],
   "source": [
    "from keras.constraints import unit_norm, min_max_norm\n",
    "from keras.callbacks import EarlyStopping"
   ]
  },
  {
   "cell_type": "code",
   "execution_count": 209,
   "metadata": {},
   "outputs": [],
   "source": [
    "nn_model2 = models.Sequential()\n",
    "nn_model2.add(layers.Dense(32, activation='tanh', input_shape=(input_shape, ), kernel_constraint=min_max_norm(-3, 3), bias_constraint=unit_norm()))\n",
    "nn_model2.add(layers.Dropout(0.2))\n",
    "nn_model2.add(layers.Dense(16, activation='tanh'))\n",
    "nn_model2.add(layers.Dropout(0.2))\n",
    "nn_model2.add(layers.Dense(7, activation='softmax'))\n",
    "nn_model2.compile(loss='categorical_crossentropy', optimizer='adam', metrics=['categorical_accuracy'])"
   ]
  },
  {
   "cell_type": "code",
   "execution_count": 213,
   "metadata": {},
   "outputs": [
    {
     "name": "stdout",
     "output_type": "stream",
     "text": [
      "Epoch 00002: early stopping\n"
     ]
    }
   ],
   "source": [
    "es = EarlyStopping(monitor='val_categorical_accuracy', mode='max', verbose=1)\n",
    "\n",
    "history2 = nn_model2.fit(x_arr_train, y_1hot_train, epochs=15, batch_size=128, validation_split=0.15, verbose=0, callbacks=[es]) #\n"
   ]
  },
  {
   "cell_type": "code",
   "execution_count": 211,
   "metadata": {},
   "outputs": [
    {
     "data": {
      "image/png": "[encoded data removed]",
      "text/plain": [
       "<Figure size 432x288 with 1 Axes>"
      ]
     },
     "metadata": {
      "needs_background": "light"
     },
     "output_type": "display_data"
    }
   ],
   "source": [
    "loss = history2.history['loss']\n",
    "val_loss = history2.history['val_loss']\n",
    "\n",
    "epochs = range(1, len(loss) + 1)\n",
    "\n",
    "# \"bo\" is for \"blue dot\"\n",
    "plt.plot(epochs, loss, 'bo', label='Training loss')\n",
    "# b is for \"solid blue line\"\n",
    "plt.plot(epochs, val_loss, 'b', label='Validation loss')\n",
    "plt.title('Training and validation loss')\n",
    "plt.xlabel('Epochs')\n",
    "plt.ylabel('Loss')\n",
    "plt.legend()\n",
    "\n",
    "plt.show()"
   ]
  },
  {
   "cell_type": "code",
   "execution_count": 141,
   "metadata": {},
   "outputs": [
    {
     "data": {
      "image/png": "[encoded data removed]",
      "text/plain": [
       "<Figure size 432x288 with 1 Axes>"
      ]
     },
     "metadata": {
      "needs_background": "light"
     },
     "output_type": "display_data"
    }
   ],
   "source": [
    "acc = history2.history['categorical_accuracy']\n",
    "val_acc = history2.history['val_categorical_accuracy']\n",
    "\n",
    "plt.plot(epochs, acc, 'bo', label='Training acc')\n",
    "plt.plot(epochs, val_acc, 'b', label='Validation acc')\n",
    "plt.title('Training and validation accuracy')\n",
    "plt.xlabel('Epochs')\n",
    "plt.ylabel('Loss')\n",
    "plt.legend()\n",
    "\n",
    "plt.show()"
   ]
  },
  {
   "cell_type": "code",
   "execution_count": 214,
   "metadata": {},
   "outputs": [
    {
     "name": "stdout",
     "output_type": "stream",
     "text": [
      "              precision    recall  f1-score   support\n",
      "\n",
      "     neutral       0.46      1.00      0.63      1152\n",
      "    surprise       0.00      0.00      0.00       329\n",
      "        fear       0.00      0.00      0.00        57\n",
      "     sadness       0.00      0.00      0.00       160\n",
      "         joy       0.00      0.00      0.00       422\n",
      "     disgust       0.00      0.00      0.00        65\n",
      "       anger       0.00      0.00      0.00       312\n",
      "\n",
      "    accuracy                           0.46      2497\n",
      "   macro avg       0.07      0.14      0.09      2497\n",
      "weighted avg       0.21      0.46      0.29      2497\n",
      "\n"
     ]
    }
   ],
   "source": [
    "y_nn_predict2 = nn_model2.predict(x_arr_test)\n",
    "print(classification_report(np.argmax(y_1hot_test, axis=1), np.argmax(y_nn_predict2, axis=1), target_names=emotions))"
   ]
  },
  {
   "cell_type": "markdown",
   "metadata": {},
   "source": [
    "## Sentiment"
   ]
  },
  {
   "cell_type": "code",
   "execution_count": 158,
   "metadata": {},
   "outputs": [
    {
     "data": {
      "text/plain": [
       "array([0, 1, 2])"
      ]
     },
     "execution_count": 158,
     "metadata": {},
     "output_type": "execute_result"
    }
   ],
   "source": [
    "np.unique(y_sent_train)"
   ]
  },
  {
   "cell_type": "code",
   "execution_count": 178,
   "metadata": {},
   "outputs": [
    {
     "name": "stdout",
     "output_type": "stream",
     "text": [
      "Fitting 4 folds for each of 16 candidates, totalling 64 fits\n"
     ]
    },
    {
     "name": "stderr",
     "output_type": "stream",
     "text": [
      "[Parallel(n_jobs=-1)]: Using backend LokyBackend with 4 concurrent workers.\n",
      "[Parallel(n_jobs=-1)]: Done  33 tasks      | elapsed:  4.3min\n",
      "[Parallel(n_jobs=-1)]: Done  64 out of  64 | elapsed: 10.1min finished\n"
     ]
    }
   ],
   "source": [
    "param_grid = {'penalty' : ['l1', 'l2'],\n",
    "    'class_weight': ['balanced'], # , None\n",
    "    'C' : [0.1, 0.5, 0.7, 1, 7, 10, 15, 20],\n",
    "    'solver' : ['liblinear']}\n",
    "\n",
    "# Create grid search object\n",
    "logit = LogisticRegression(random_state=1)\n",
    "grid_cv_sent = GridSearchCV(logit, param_grid = param_grid, cv = 4, verbose=2, n_jobs=-1).fit(x_mix_train, y_sent_train)"
   ]
  },
  {
   "cell_type": "code",
   "execution_count": 179,
   "metadata": {},
   "outputs": [
    {
     "data": {
      "text/html": [
       "<div>\n",
       "<style scoped>\n",
       "    .dataframe tbody tr th:only-of-type {\n",
       "        vertical-align: middle;\n",
       "    }\n",
       "\n",
       "    .dataframe tbody tr th {\n",
       "        vertical-align: top;\n",
       "    }\n",
       "\n",
       "    .dataframe thead th {\n",
       "        text-align: right;\n",
       "    }\n",
       "</style>\n",
       "<table border=\"1\" class=\"dataframe\">\n",
       "  <thead>\n",
       "    <tr style=\"text-align: right;\">\n",
       "      <th></th>\n",
       "      <th>mean_fit_time</th>\n",
       "      <th>std_fit_time</th>\n",
       "      <th>mean_score_time</th>\n",
       "      <th>std_score_time</th>\n",
       "      <th>param_C</th>\n",
       "      <th>param_class_weight</th>\n",
       "      <th>param_penalty</th>\n",
       "      <th>param_solver</th>\n",
       "      <th>params</th>\n",
       "      <th>split0_test_score</th>\n",
       "      <th>split1_test_score</th>\n",
       "      <th>split2_test_score</th>\n",
       "      <th>split3_test_score</th>\n",
       "      <th>mean_test_score</th>\n",
       "      <th>std_test_score</th>\n",
       "      <th>rank_test_score</th>\n",
       "    </tr>\n",
       "  </thead>\n",
       "  <tbody>\n",
       "    <tr>\n",
       "      <th>2</th>\n",
       "      <td>13.429574</td>\n",
       "      <td>3.716243</td>\n",
       "      <td>0.008193</td>\n",
       "      <td>0.003015</td>\n",
       "      <td>0.5</td>\n",
       "      <td>balanced</td>\n",
       "      <td>l1</td>\n",
       "      <td>liblinear</td>\n",
       "      <td>{'C': 0.5, 'class_weight': 'balanced', 'penalt...</td>\n",
       "      <td>0.510411</td>\n",
       "      <td>0.531767</td>\n",
       "      <td>0.556327</td>\n",
       "      <td>0.532585</td>\n",
       "      <td>0.532773</td>\n",
       "      <td>0.016247</td>\n",
       "      <td>1</td>\n",
       "    </tr>\n",
       "    <tr>\n",
       "      <th>6</th>\n",
       "      <td>23.079005</td>\n",
       "      <td>2.335466</td>\n",
       "      <td>0.011178</td>\n",
       "      <td>0.004238</td>\n",
       "      <td>1</td>\n",
       "      <td>balanced</td>\n",
       "      <td>l1</td>\n",
       "      <td>liblinear</td>\n",
       "      <td>{'C': 1, 'class_weight': 'balanced', 'penalty'...</td>\n",
       "      <td>0.514148</td>\n",
       "      <td>0.532301</td>\n",
       "      <td>0.560064</td>\n",
       "      <td>0.519765</td>\n",
       "      <td>0.531570</td>\n",
       "      <td>0.017715</td>\n",
       "      <td>2</td>\n",
       "    </tr>\n",
       "    <tr>\n",
       "      <th>4</th>\n",
       "      <td>16.339657</td>\n",
       "      <td>1.398755</td>\n",
       "      <td>0.005232</td>\n",
       "      <td>0.001057</td>\n",
       "      <td>0.7</td>\n",
       "      <td>balanced</td>\n",
       "      <td>l1</td>\n",
       "      <td>liblinear</td>\n",
       "      <td>{'C': 0.7, 'class_weight': 'balanced', 'penalt...</td>\n",
       "      <td>0.514682</td>\n",
       "      <td>0.532835</td>\n",
       "      <td>0.557928</td>\n",
       "      <td>0.518697</td>\n",
       "      <td>0.531036</td>\n",
       "      <td>0.016927</td>\n",
       "      <td>3</td>\n",
       "    </tr>\n",
       "    <tr>\n",
       "      <th>11</th>\n",
       "      <td>50.828467</td>\n",
       "      <td>1.226927</td>\n",
       "      <td>0.004471</td>\n",
       "      <td>0.000415</td>\n",
       "      <td>10</td>\n",
       "      <td>balanced</td>\n",
       "      <td>l2</td>\n",
       "      <td>liblinear</td>\n",
       "      <td>{'C': 10, 'class_weight': 'balanced', 'penalty...</td>\n",
       "      <td>0.515216</td>\n",
       "      <td>0.533369</td>\n",
       "      <td>0.556327</td>\n",
       "      <td>0.518697</td>\n",
       "      <td>0.530902</td>\n",
       "      <td>0.016183</td>\n",
       "      <td>4</td>\n",
       "    </tr>\n",
       "    <tr>\n",
       "      <th>7</th>\n",
       "      <td>51.828973</td>\n",
       "      <td>1.984817</td>\n",
       "      <td>0.004736</td>\n",
       "      <td>0.000383</td>\n",
       "      <td>1</td>\n",
       "      <td>balanced</td>\n",
       "      <td>l2</td>\n",
       "      <td>liblinear</td>\n",
       "      <td>{'C': 1, 'class_weight': 'balanced', 'penalty'...</td>\n",
       "      <td>0.515216</td>\n",
       "      <td>0.531767</td>\n",
       "      <td>0.553657</td>\n",
       "      <td>0.521368</td>\n",
       "      <td>0.530502</td>\n",
       "      <td>0.014619</td>\n",
       "      <td>5</td>\n",
       "    </tr>\n",
       "    <tr>\n",
       "      <th>13</th>\n",
       "      <td>47.941090</td>\n",
       "      <td>2.707076</td>\n",
       "      <td>0.004719</td>\n",
       "      <td>0.000448</td>\n",
       "      <td>15</td>\n",
       "      <td>balanced</td>\n",
       "      <td>l2</td>\n",
       "      <td>liblinear</td>\n",
       "      <td>{'C': 15, 'class_weight': 'balanced', 'penalty...</td>\n",
       "      <td>0.516284</td>\n",
       "      <td>0.535505</td>\n",
       "      <td>0.554191</td>\n",
       "      <td>0.516026</td>\n",
       "      <td>0.530501</td>\n",
       "      <td>0.015795</td>\n",
       "      <td>6</td>\n",
       "    </tr>\n",
       "    <tr>\n",
       "      <th>9</th>\n",
       "      <td>54.444333</td>\n",
       "      <td>3.042131</td>\n",
       "      <td>0.005599</td>\n",
       "      <td>0.001048</td>\n",
       "      <td>7</td>\n",
       "      <td>balanced</td>\n",
       "      <td>l2</td>\n",
       "      <td>liblinear</td>\n",
       "      <td>{'C': 7, 'class_weight': 'balanced', 'penalty'...</td>\n",
       "      <td>0.515750</td>\n",
       "      <td>0.528564</td>\n",
       "      <td>0.556327</td>\n",
       "      <td>0.517094</td>\n",
       "      <td>0.529434</td>\n",
       "      <td>0.016306</td>\n",
       "      <td>7</td>\n",
       "    </tr>\n",
       "    <tr>\n",
       "      <th>1</th>\n",
       "      <td>20.624824</td>\n",
       "      <td>1.828291</td>\n",
       "      <td>0.004367</td>\n",
       "      <td>0.000168</td>\n",
       "      <td>0.1</td>\n",
       "      <td>balanced</td>\n",
       "      <td>l2</td>\n",
       "      <td>liblinear</td>\n",
       "      <td>{'C': 0.1, 'class_weight': 'balanced', 'penalt...</td>\n",
       "      <td>0.507208</td>\n",
       "      <td>0.524826</td>\n",
       "      <td>0.553123</td>\n",
       "      <td>0.532051</td>\n",
       "      <td>0.529302</td>\n",
       "      <td>0.016456</td>\n",
       "      <td>8</td>\n",
       "    </tr>\n",
       "    <tr>\n",
       "      <th>3</th>\n",
       "      <td>44.650046</td>\n",
       "      <td>3.442787</td>\n",
       "      <td>0.004812</td>\n",
       "      <td>0.000486</td>\n",
       "      <td>0.5</td>\n",
       "      <td>balanced</td>\n",
       "      <td>l2</td>\n",
       "      <td>liblinear</td>\n",
       "      <td>{'C': 0.5, 'class_weight': 'balanced', 'penalt...</td>\n",
       "      <td>0.510411</td>\n",
       "      <td>0.532301</td>\n",
       "      <td>0.557395</td>\n",
       "      <td>0.514957</td>\n",
       "      <td>0.528766</td>\n",
       "      <td>0.018437</td>\n",
       "      <td>9</td>\n",
       "    </tr>\n",
       "    <tr>\n",
       "      <th>5</th>\n",
       "      <td>49.786807</td>\n",
       "      <td>4.478527</td>\n",
       "      <td>0.015125</td>\n",
       "      <td>0.006583</td>\n",
       "      <td>0.7</td>\n",
       "      <td>balanced</td>\n",
       "      <td>l2</td>\n",
       "      <td>liblinear</td>\n",
       "      <td>{'C': 0.7, 'class_weight': 'balanced', 'penalt...</td>\n",
       "      <td>0.513615</td>\n",
       "      <td>0.532301</td>\n",
       "      <td>0.552589</td>\n",
       "      <td>0.515491</td>\n",
       "      <td>0.528499</td>\n",
       "      <td>0.015697</td>\n",
       "      <td>10</td>\n",
       "    </tr>\n",
       "  </tbody>\n",
       "</table>\n",
       "</div>"
      ],
      "text/plain": [
       "    mean_fit_time  std_fit_time  mean_score_time  std_score_time param_C  \\\n",
       "2       13.429574      3.716243         0.008193        0.003015     0.5   \n",
       "6       23.079005      2.335466         0.011178        0.004238       1   \n",
       "4       16.339657      1.398755         0.005232        0.001057     0.7   \n",
       "11      50.828467      1.226927         0.004471        0.000415      10   \n",
       "7       51.828973      1.984817         0.004736        0.000383       1   \n",
       "13      47.941090      2.707076         0.004719        0.000448      15   \n",
       "9       54.444333      3.042131         0.005599        0.001048       7   \n",
       "1       20.624824      1.828291         0.004367        0.000168     0.1   \n",
       "3       44.650046      3.442787         0.004812        0.000486     0.5   \n",
       "5       49.786807      4.478527         0.015125        0.006583     0.7   \n",
       "\n",
       "   param_class_weight param_penalty param_solver  \\\n",
       "2            balanced            l1    liblinear   \n",
       "6            balanced            l1    liblinear   \n",
       "4            balanced            l1    liblinear   \n",
       "11           balanced            l2    liblinear   \n",
       "7            balanced            l2    liblinear   \n",
       "13           balanced            l2    liblinear   \n",
       "9            balanced            l2    liblinear   \n",
       "1            balanced            l2    liblinear   \n",
       "3            balanced            l2    liblinear   \n",
       "5            balanced            l2    liblinear   \n",
       "\n",
       "                                               params  split0_test_score  \\\n",
       "2   {'C': 0.5, 'class_weight': 'balanced', 'penalt...           0.510411   \n",
       "6   {'C': 1, 'class_weight': 'balanced', 'penalty'...           0.514148   \n",
       "4   {'C': 0.7, 'class_weight': 'balanced', 'penalt...           0.514682   \n",
       "11  {'C': 10, 'class_weight': 'balanced', 'penalty...           0.515216   \n",
       "7   {'C': 1, 'class_weight': 'balanced', 'penalty'...           0.515216   \n",
       "13  {'C': 15, 'class_weight': 'balanced', 'penalty...           0.516284   \n",
       "9   {'C': 7, 'class_weight': 'balanced', 'penalty'...           0.515750   \n",
       "1   {'C': 0.1, 'class_weight': 'balanced', 'penalt...           0.507208   \n",
       "3   {'C': 0.5, 'class_weight': 'balanced', 'penalt...           0.510411   \n",
       "5   {'C': 0.7, 'class_weight': 'balanced', 'penalt...           0.513615   \n",
       "\n",
       "    split1_test_score  split2_test_score  split3_test_score  mean_test_score  \\\n",
       "2            0.531767           0.556327           0.532585         0.532773   \n",
       "6            0.532301           0.560064           0.519765         0.531570   \n",
       "4            0.532835           0.557928           0.518697         0.531036   \n",
       "11           0.533369           0.556327           0.518697         0.530902   \n",
       "7            0.531767           0.553657           0.521368         0.530502   \n",
       "13           0.535505           0.554191           0.516026         0.530501   \n",
       "9            0.528564           0.556327           0.517094         0.529434   \n",
       "1            0.524826           0.553123           0.532051         0.529302   \n",
       "3            0.532301           0.557395           0.514957         0.528766   \n",
       "5            0.532301           0.552589           0.515491         0.528499   \n",
       "\n",
       "    std_test_score  rank_test_score  \n",
       "2         0.016247                1  \n",
       "6         0.017715                2  \n",
       "4         0.016927                3  \n",
       "11        0.016183                4  \n",
       "7         0.014619                5  \n",
       "13        0.015795                6  \n",
       "9         0.016306                7  \n",
       "1         0.016456                8  \n",
       "3         0.018437                9  \n",
       "5         0.015697               10  "
      ]
     },
     "execution_count": 179,
     "metadata": {},
     "output_type": "execute_result"
    }
   ],
   "source": [
    "results = pd.DataFrame(grid_cv_sent.cv_results_).sort_values(['rank_test_score'])\n",
    "results.head(10)"
   ]
  },
  {
   "cell_type": "code",
   "execution_count": 180,
   "metadata": {},
   "outputs": [
    {
     "data": {
      "text/plain": [
       "{'C': 0.5, 'class_weight': 'balanced', 'penalty': 'l1', 'solver': 'liblinear'}"
      ]
     },
     "execution_count": 180,
     "metadata": {},
     "output_type": "execute_result"
    }
   ],
   "source": [
    "# best score may lie between C=[0.1, 10], l1 or l2, need deeper search\n",
    "best_sent_wgt_params = results[results['param_class_weight'] == \"balanced\"].head(1)['params'].values[0]\n",
    "best_sent_wgt_params"
   ]
  },
  {
   "cell_type": "code",
   "execution_count": 199,
   "metadata": {},
   "outputs": [],
   "source": [
    "best_sent_logit_wgt = LogisticRegression(random_state=1, **best_sent_wgt_params)\n",
    "best_sent_logit_wgt.fit(x_mix_train, y_sent_train)\n",
    "best_sent_wgt_pred = best_sent_logit_wgt.predict(x_mix_test)\n"
   ]
  },
  {
   "cell_type": "code",
   "execution_count": 200,
   "metadata": {},
   "outputs": [
    {
     "name": "stdout",
     "output_type": "stream",
     "text": [
      "              precision    recall  f1-score   support\n",
      "\n",
      "    negative       0.52      0.48      0.50       779\n",
      "     neutral       0.60      0.71      0.65      1152\n",
      "    positive       0.46      0.33      0.39       566\n",
      "\n",
      "    accuracy                           0.55      2497\n",
      "   macro avg       0.53      0.51      0.51      2497\n",
      "weighted avg       0.54      0.55      0.54      2497\n",
      "\n"
     ]
    }
   ],
   "source": [
    "print(classification_report(y_sent_test, best_sent_wgt_pred, target_names=sentiments))"
   ]
  },
  {
   "cell_type": "markdown",
   "metadata": {},
   "source": [
    "### unweighted"
   ]
  },
  {
   "cell_type": "code",
   "execution_count": 173,
   "metadata": {},
   "outputs": [
    {
     "data": {
      "text/plain": [
       "{'C': 0.5, 'class_weight': None, 'penalty': 'l1', 'solver': 'liblinear'}"
      ]
     },
     "execution_count": 173,
     "metadata": {},
     "output_type": "execute_result"
    }
   ],
   "source": [
    "# best score may lie between C=[0.1, 10], l1 or l2, need deeper search\n",
    "best_sent_unwgt_params = results.head(1)['params'].values[0]\n",
    "best_sent_unwgt_params"
   ]
  },
  {
   "cell_type": "code",
   "execution_count": 174,
   "metadata": {},
   "outputs": [],
   "source": [
    "best_sent_logit_unwgt = LogisticRegression(random_state=1, **best_sent_unwgt_params)\n",
    "best_sent_logit_unwgt.fit(x_mix_train, y_sent_train)\n",
    "best_sent_unwgt_pred = best_sent_logit_unwgt.predict(x_mix_test)"
   ]
  },
  {
   "cell_type": "code",
   "execution_count": 177,
   "metadata": {},
   "outputs": [
    {
     "name": "stdout",
     "output_type": "stream",
     "text": [
      "              precision    recall  f1-score   support\n",
      "\n",
      "    negative       0.55      0.36      0.44       779\n",
      "     neutral       0.55      0.84      0.66      1152\n",
      "    positive       0.51      0.22      0.31       566\n",
      "\n",
      "    accuracy                           0.55      2497\n",
      "   macro avg       0.54      0.47      0.47      2497\n",
      "weighted avg       0.54      0.55      0.51      2497\n",
      "\n"
     ]
    }
   ],
   "source": [
    "print(classification_report(y_sent_test, best_sent_unwgt_pred, target_names=sentiments))"
   ]
  },
  {
   "cell_type": "markdown",
   "metadata": {},
   "source": [
    "## Try to solve the problem of always predicting the neurtral class\n",
    "\n",
    "Changing learning rate helps\n",
    "Added more layers"
   ]
  },
  {
   "cell_type": "code",
   "execution_count": 267,
   "metadata": {},
   "outputs": [],
   "source": [
    "from keras.layers import Dense, Dropout\n",
    "from keras.initializers import RandomUniform\n",
    "from keras.optimizers import Adam\n",
    "import tensorflow as tf"
   ]
  },
  {
   "cell_type": "code",
   "execution_count": 268,
   "metadata": {},
   "outputs": [],
   "source": [
    "## reference: https://www.dlology.com/blog/multi-class-classification-with-focal-loss-for-imbalanced-datasets/\n",
    "def focal_loss(gamma=2., alpha=4.):\n",
    "\n",
    "    gamma = float(gamma)\n",
    "    alpha = float(alpha)\n",
    "\n",
    "    def focal_loss_fixed(y_true, y_pred):\n",
    "        \"\"\"Focal loss for multi-classification\n",
    "        FL(p_t)=-alpha(1-p_t)^{gamma}ln(p_t)\n",
    "        Notice: y_pred is probability after softmax\n",
    "        gradient is d(Fl)/d(p_t) not d(Fl)/d(x) as described in paper\n",
    "        d(Fl)/d(p_t) * [p_t(1-p_t)] = d(Fl)/d(x)\n",
    "        Focal Loss for Dense Object Detection\n",
    "        https://arxiv.org/abs/1708.02002\n",
    "\n",
    "        Arguments:\n",
    "            y_true {tensor} -- ground truth labels, shape of [batch_size, num_cls]\n",
    "            y_pred {tensor} -- model's output, shape of [batch_size, num_cls]\n",
    "\n",
    "        Keyword Arguments:\n",
    "            gamma {float} -- (default: {2.0})\n",
    "            alpha {float} -- (default: {4.0})\n",
    "\n",
    "        Returns:\n",
    "            [tensor] -- loss.\n",
    "        \"\"\"\n",
    "        epsilon = 1.e-9\n",
    "        y_true = tf.convert_to_tensor(y_true, tf.float32)\n",
    "        y_pred = tf.convert_to_tensor(y_pred, tf.float32)\n",
    "\n",
    "        model_out = tf.add(y_pred, epsilon)\n",
    "        ce = tf.multiply(y_true, -tf.log(model_out))\n",
    "        weight = tf.multiply(y_true, tf.pow(tf.subtract(1., model_out), gamma))\n",
    "        fl = tf.multiply(alpha, tf.multiply(weight, ce))\n",
    "        reduced_fl = tf.reduce_max(fl, axis=1)\n",
    "        return tf.reduce_mean(reduced_fl)\n",
    "    return focal_loss_fixed"
   ]
  },
  {
   "cell_type": "code",
   "execution_count": 269,
   "metadata": {},
   "outputs": [],
   "source": [
    "nn_model3 = models.Sequential()\n",
    "nn_model3.add(Dense(64, activation='tanh', input_shape=(input_shape, ), kernel_constraint=min_max_norm(-3, 3), bias_constraint=unit_norm(),\\\n",
    "                    kernel_initializer=RandomUniform(minval=-0.1, maxval=+0.1)))\n",
    "nn_model3.add(Dense(32, activation='tanh', kernel_constraint=min_max_norm(-2, 2), bias_constraint=unit_norm()))\n",
    "nn_model3.add(Dense(16, activation='tanh'))\n",
    "nn_model3.add(Dropout(0.2))\n",
    "nn_model3.add(Dense(16, activation='tanh', kernel_constraint=min_max_norm(-3, 3), bias_constraint=unit_norm()))\n",
    "nn_model3.add(Dropout(0.2))\n",
    "nn_model3.add(Dense(7, activation='softmax'))\n",
    "\n",
    "optimizer = Adam(learning_rate=0.00001)\n",
    "nn_model3.compile(loss=focal_loss(alpha=1), optimizer='adam', metrics=['categorical_accuracy'])"
   ]
  },
  {
   "cell_type": "code",
   "execution_count": 270,
   "metadata": {},
   "outputs": [
    {
     "name": "stdout",
     "output_type": "stream",
     "text": [
      "WARNING:tensorflow:From /anaconda3/lib/python3.7/site-packages/tensorflow_core/python/ops/math_grad.py:1375: where (from tensorflow.python.ops.array_ops) is deprecated and will be removed in a future version.\n",
      "Instructions for updating:\n",
      "Use tf.where in 2.0, which has the same broadcast rule as np.where\n",
      "Epoch 00002: early stopping\n"
     ]
    }
   ],
   "source": [
    "es = EarlyStopping(monitor='val_loss', mode='min', verbose=1)\n",
    "history2 = nn_model3.fit(x_arr_train, y_1hot_train, epochs=15, batch_size=128, validation_split=0.2, verbose=0, callbacks=[es]) \n",
    "\n",
    "\n",
    "# history2 = nn_model3.fit(x_arr_train, y_1hot_train, epochs=15, batch_size=128, validation_split=0.2, verbose=0) #, callbacks=[es]\n"
   ]
  },
  {
   "cell_type": "code",
   "execution_count": 272,
   "metadata": {},
   "outputs": [
    {
     "data": {
      "image/png": "[encoded data removed]",
      "text/plain": [
       "<Figure size 432x288 with 1 Axes>"
      ]
     },
     "metadata": {
      "needs_background": "light"
     },
     "output_type": "display_data"
    }
   ],
   "source": [
    "loss = history2.history['loss']\n",
    "val_loss = history2.history['val_loss']\n",
    "\n",
    "epochs = range(1, len(loss) + 1)\n",
    "\n",
    "# \"bo\" is for \"blue dot\"\n",
    "plt.plot(epochs, loss, 'bo', label='Training loss')\n",
    "# b is for \"solid blue line\"\n",
    "plt.plot(epochs, val_loss, 'b', label='Validation loss')\n",
    "plt.title('Training and validation loss')\n",
    "plt.xlabel('Epochs')\n",
    "plt.ylabel('Loss')\n",
    "plt.legend()\n",
    "\n",
    "plt.show()"
   ]
  },
  {
   "cell_type": "code",
   "execution_count": 273,
   "metadata": {},
   "outputs": [
    {
     "data": {
      "image/png": "[encoded data removed]",
      "text/plain": [
       "<Figure size 432x288 with 1 Axes>"
      ]
     },
     "metadata": {
      "needs_background": "light"
     },
     "output_type": "display_data"
    }
   ],
   "source": [
    "acc = history2.history['categorical_accuracy']\n",
    "val_acc = history2.history['val_categorical_accuracy']\n",
    "\n",
    "plt.plot(epochs, acc, 'bo', label='Training acc')\n",
    "plt.plot(epochs, val_acc, 'b', label='Validation acc')\n",
    "plt.title('Training and validation accuracy')\n",
    "plt.xlabel('Epochs')\n",
    "plt.ylabel('Loss')\n",
    "plt.legend()\n",
    "\n",
    "plt.show()"
   ]
  },
  {
   "cell_type": "code",
   "execution_count": 274,
   "metadata": {},
   "outputs": [
    {
     "name": "stdout",
     "output_type": "stream",
     "text": [
      "              precision    recall  f1-score   support\n",
      "\n",
      "     neutral       0.46      1.00      0.63      1152\n",
      "    surprise       0.00      0.00      0.00       329\n",
      "        fear       0.00      0.00      0.00        57\n",
      "     sadness       0.00      0.00      0.00       160\n",
      "         joy       0.00      0.00      0.00       422\n",
      "     disgust       0.00      0.00      0.00        65\n",
      "       anger       0.00      0.00      0.00       312\n",
      "\n",
      "    accuracy                           0.46      2497\n",
      "   macro avg       0.07      0.14      0.09      2497\n",
      "weighted avg       0.21      0.46      0.29      2497\n",
      "\n"
     ]
    },
    {
     "name": "stderr",
     "output_type": "stream",
     "text": [
      "/anaconda3/lib/python3.7/site-packages/sklearn/metrics/_classification.py:1272: UndefinedMetricWarning: Precision and F-score are ill-defined and being set to 0.0 in labels with no predicted samples. Use `zero_division` parameter to control this behavior.\n",
      "  _warn_prf(average, modifier, msg_start, len(result))\n"
     ]
    }
   ],
   "source": [
    "y_nn_predict3 = nn_model3.predict(x_arr_test)\n",
    "print(classification_report(np.argmax(y_1hot_test, axis=1), np.argmax(y_nn_predict3, axis=1), target_names=emotions))"
   ]
  },
  {
   "cell_type": "markdown",
   "metadata": {},
   "source": [
    "## Oversampling"
   ]
  },
  {
   "cell_type": "code",
   "execution_count": 38,
   "metadata": {},
   "outputs": [
    {
     "data": {
      "text/plain": [
       "[{4: 1521, 1: 1076, 2: 411, 5: 406, 6: 997, 3: 723},\n",
       " {4: 1821, 1: 1376, 2: 711, 5: 706, 6: 1297, 3: 1023},\n",
       " {4: 2121, 1: 1676, 2: 1011, 5: 1006, 6: 1597, 3: 1323}]"
      ]
     },
     "execution_count": 38,
     "metadata": {},
     "output_type": "execute_result"
    }
   ],
   "source": [
    "label_counts = Counter(y_num_train)\n",
    "\n",
    "over_dicts = []\n",
    "for delta in [200, 500, 800]:\n",
    "    resample_dict = {l: ct + delta for l, ct in label_counts.items() if l != 0}\n",
    "#     resample_dict[0] -= delta\n",
    "    over_dicts.append(resample_dict)\n",
    "\n",
    "under_dicts = []\n",
    "for delta in [200, 500, 1000]:\n",
    "    resample_dict = {0: 2963 - delta}\n",
    "    under_dicts.append(resample_dict)\n",
    "    \n",
    "\n",
    "neutral_count = int(3557 * 5/6)\n",
    "\n",
    "Counter(y_num_train)\n",
    "over_dicts"
   ]
  },
  {
   "cell_type": "code",
   "execution_count": 41,
   "metadata": {},
   "outputs": [
    {
     "data": {
      "text/plain": [
       "{0: 4709, 1: 1405, 2: 468, 3: 883, 4: 1943, 5: 471, 6: 1309}"
      ]
     },
     "execution_count": 41,
     "metadata": {},
     "output_type": "execute_result"
    }
   ],
   "source": [
    "resample_dict"
   ]
  },
  {
   "cell_type": "code",
   "execution_count": 69,
   "metadata": {},
   "outputs": [
    {
     "name": "stdout",
     "output_type": "stream",
     "text": [
      "Counter({0: 3000, 4: 1943, 1: 1405, 6: 1309, 3: 883, 5: 471, 2: 468})\n"
     ]
    }
   ],
   "source": [
    "under = RandomUnderSampler(sampling_strategy={0: 3000})\n",
    "x_new_train, y_new_train = under.fit_resample(x_new_train, y_new_train)\n",
    "\n",
    "print(Counter(y_new_train))"
   ]
  },
  {
   "cell_type": "code",
   "execution_count": 92,
   "metadata": {},
   "outputs": [],
   "source": [
    "def wrappedSMOTE(label_counts=label_counts, delta=200, k=5):\n",
    "    \"\"\"wrapped SMOTE for pipline/gridsearch\"\"\"\n",
    "    resample_dict = {l: ct + delta for l, ct in label_counts.items()}\n",
    "    resample_dict[0] -= delta\n",
    "    smote = SMOTE(sampling_strategy=resample_dict, k_neighbors=k)\n",
    "    return smote\n"
   ]
  },
  {
   "cell_type": "code",
   "execution_count": 93,
   "metadata": {},
   "outputs": [],
   "source": [
    "def wrappedRUS(delta=200):\n",
    "    \"\"\"wrapped RandomUnderSampler for pipline/gridsearch\"\"\"\n",
    "    resample_dict = {0: 3557 - delta}\n",
    "    rus = RandomUnderSampler(sampling_strategy=resample_dict)\n",
    "    return rus"
   ]
  },
  {
   "cell_type": "code",
   "execution_count": 94,
   "metadata": {},
   "outputs": [
    {
     "name": "stdout",
     "output_type": "stream",
     "text": [
      "Counter({0: 3557, 4: 3321, 1: 2876, 6: 2797, 3: 2523, 2: 2211, 5: 2206})\n"
     ]
    }
   ],
   "source": [
    "temp= wrappedSMOTE(delta=2000)\n",
    "x_new_train, y_new_train = temp.fit_resample(x_mix_train, y_num_train)\n",
    "print(Counter(y_new_train))"
   ]
  },
  {
   "cell_type": "code",
   "execution_count": 23,
   "metadata": {},
   "outputs": [],
   "source": [
    "model = LogisticRegression(random_state=1)\n",
    "over = RandomOverSampler()\n",
    "under = RandomUnderSampler() # random\n",
    "pipe = imblearn.pipeline.Pipeline(steps=[('o', over), ('u', under), ('m', model)])\n",
    "\n",
    "# over.get_params().keys()"
   ]
  },
  {
   "cell_type": "code",
   "execution_count": 24,
   "metadata": {},
   "outputs": [],
   "source": [
    "from sklearn.model_selection import RepeatedStratifiedKFold\n",
    "from sklearn.model_selection import cross_val_score"
   ]
  },
  {
   "cell_type": "code",
   "execution_count": 25,
   "metadata": {
    "collapsed": true,
    "jupyter": {
     "outputs_hidden": true
    }
   },
   "outputs": [
    {
     "ename": "TerminatedWorkerError",
     "evalue": "A worker process managed by the executor was unexpectedly terminated. This could be caused by a segmentation fault while calling the function or by an excessive memory usage causing the Operating System to kill the worker. The exit codes of the workers are {SIGKILL(-9), SIGKILL(-9), SIGKILL(-9)}",
     "output_type": "error",
     "traceback": [
      "\u001b[0;31m---------------------------------------------------------------------------\u001b[0m",
      "\u001b[0;31mTerminatedWorkerError\u001b[0m                     Traceback (most recent call last)",
      "\u001b[0;32m<ipython-input-25-a7c45b0073f8>\u001b[0m in \u001b[0;36m<module>\u001b[0;34m\u001b[0m\n\u001b[1;32m      1\u001b[0m \u001b[0mcv\u001b[0m \u001b[0;34m=\u001b[0m \u001b[0mRepeatedStratifiedKFold\u001b[0m\u001b[0;34m(\u001b[0m\u001b[0mn_splits\u001b[0m\u001b[0;34m=\u001b[0m\u001b[0;36m10\u001b[0m\u001b[0;34m,\u001b[0m \u001b[0mn_repeats\u001b[0m\u001b[0;34m=\u001b[0m\u001b[0;36m3\u001b[0m\u001b[0;34m,\u001b[0m \u001b[0mrandom_state\u001b[0m\u001b[0;34m=\u001b[0m\u001b[0;36m1\u001b[0m\u001b[0;34m)\u001b[0m\u001b[0;34m\u001b[0m\u001b[0;34m\u001b[0m\u001b[0m\n\u001b[0;32m----> 2\u001b[0;31m \u001b[0mscores\u001b[0m \u001b[0;34m=\u001b[0m \u001b[0mcross_val_score\u001b[0m\u001b[0;34m(\u001b[0m\u001b[0mpipe\u001b[0m\u001b[0;34m,\u001b[0m \u001b[0mx_mix_train\u001b[0m\u001b[0;34m,\u001b[0m \u001b[0my_num_train\u001b[0m\u001b[0;34m,\u001b[0m \u001b[0mscoring\u001b[0m\u001b[0;34m=\u001b[0m\u001b[0;34m'f1_weighted'\u001b[0m\u001b[0;34m,\u001b[0m \u001b[0mcv\u001b[0m\u001b[0;34m=\u001b[0m\u001b[0mcv\u001b[0m\u001b[0;34m,\u001b[0m \u001b[0mn_jobs\u001b[0m\u001b[0;34m=\u001b[0m\u001b[0;34m-\u001b[0m\u001b[0;36m1\u001b[0m\u001b[0;34m)\u001b[0m\u001b[0;34m\u001b[0m\u001b[0;34m\u001b[0m\u001b[0m\n\u001b[0m\u001b[1;32m      3\u001b[0m \u001b[0mprint\u001b[0m\u001b[0;34m(\u001b[0m\u001b[0;34m'Mean f1_weighted: %.3f'\u001b[0m \u001b[0;34m%\u001b[0m \u001b[0mmean\u001b[0m\u001b[0;34m(\u001b[0m\u001b[0mscores\u001b[0m\u001b[0;34m)\u001b[0m\u001b[0;34m)\u001b[0m\u001b[0;34m\u001b[0m\u001b[0;34m\u001b[0m\u001b[0m\n",
      "\u001b[0;32m~/anaconda3/envs/speech_gen/lib/python3.8/site-packages/sklearn/model_selection/_validation.py\u001b[0m in \u001b[0;36mcross_val_score\u001b[0;34m(estimator, X, y, groups, scoring, cv, n_jobs, verbose, fit_params, pre_dispatch, error_score)\u001b[0m\n\u001b[1;32m    383\u001b[0m     \u001b[0mscorer\u001b[0m \u001b[0;34m=\u001b[0m \u001b[0mcheck_scoring\u001b[0m\u001b[0;34m(\u001b[0m\u001b[0mestimator\u001b[0m\u001b[0;34m,\u001b[0m \u001b[0mscoring\u001b[0m\u001b[0;34m=\u001b[0m\u001b[0mscoring\u001b[0m\u001b[0;34m)\u001b[0m\u001b[0;34m\u001b[0m\u001b[0;34m\u001b[0m\u001b[0m\n\u001b[1;32m    384\u001b[0m \u001b[0;34m\u001b[0m\u001b[0m\n\u001b[0;32m--> 385\u001b[0;31m     cv_results = cross_validate(estimator=estimator, X=X, y=y, groups=groups,\n\u001b[0m\u001b[1;32m    386\u001b[0m                                 \u001b[0mscoring\u001b[0m\u001b[0;34m=\u001b[0m\u001b[0;34m{\u001b[0m\u001b[0;34m'score'\u001b[0m\u001b[0;34m:\u001b[0m \u001b[0mscorer\u001b[0m\u001b[0;34m}\u001b[0m\u001b[0;34m,\u001b[0m \u001b[0mcv\u001b[0m\u001b[0;34m=\u001b[0m\u001b[0mcv\u001b[0m\u001b[0;34m,\u001b[0m\u001b[0;34m\u001b[0m\u001b[0;34m\u001b[0m\u001b[0m\n\u001b[1;32m    387\u001b[0m                                 \u001b[0mn_jobs\u001b[0m\u001b[0;34m=\u001b[0m\u001b[0mn_jobs\u001b[0m\u001b[0;34m,\u001b[0m \u001b[0mverbose\u001b[0m\u001b[0;34m=\u001b[0m\u001b[0mverbose\u001b[0m\u001b[0;34m,\u001b[0m\u001b[0;34m\u001b[0m\u001b[0;34m\u001b[0m\u001b[0m\n",
      "\u001b[0;32m~/anaconda3/envs/speech_gen/lib/python3.8/site-packages/sklearn/model_selection/_validation.py\u001b[0m in \u001b[0;36mcross_validate\u001b[0;34m(estimator, X, y, groups, scoring, cv, n_jobs, verbose, fit_params, pre_dispatch, return_train_score, return_estimator, error_score)\u001b[0m\n\u001b[1;32m    228\u001b[0m     parallel = Parallel(n_jobs=n_jobs, verbose=verbose,\n\u001b[1;32m    229\u001b[0m                         pre_dispatch=pre_dispatch)\n\u001b[0;32m--> 230\u001b[0;31m     scores = parallel(\n\u001b[0m\u001b[1;32m    231\u001b[0m         delayed(_fit_and_score)(\n\u001b[1;32m    232\u001b[0m             \u001b[0mclone\u001b[0m\u001b[0;34m(\u001b[0m\u001b[0mestimator\u001b[0m\u001b[0;34m)\u001b[0m\u001b[0;34m,\u001b[0m \u001b[0mX\u001b[0m\u001b[0;34m,\u001b[0m \u001b[0my\u001b[0m\u001b[0;34m,\u001b[0m \u001b[0mscorers\u001b[0m\u001b[0;34m,\u001b[0m \u001b[0mtrain\u001b[0m\u001b[0;34m,\u001b[0m \u001b[0mtest\u001b[0m\u001b[0;34m,\u001b[0m \u001b[0mverbose\u001b[0m\u001b[0;34m,\u001b[0m \u001b[0;32mNone\u001b[0m\u001b[0;34m,\u001b[0m\u001b[0;34m\u001b[0m\u001b[0;34m\u001b[0m\u001b[0m\n",
      "\u001b[0;32m~/anaconda3/envs/speech_gen/lib/python3.8/site-packages/joblib/parallel.py\u001b[0m in \u001b[0;36m__call__\u001b[0;34m(self, iterable)\u001b[0m\n\u001b[1;32m   1015\u001b[0m \u001b[0;34m\u001b[0m\u001b[0m\n\u001b[1;32m   1016\u001b[0m             \u001b[0;32mwith\u001b[0m \u001b[0mself\u001b[0m\u001b[0;34m.\u001b[0m\u001b[0m_backend\u001b[0m\u001b[0;34m.\u001b[0m\u001b[0mretrieval_context\u001b[0m\u001b[0;34m(\u001b[0m\u001b[0;34m)\u001b[0m\u001b[0;34m:\u001b[0m\u001b[0;34m\u001b[0m\u001b[0;34m\u001b[0m\u001b[0m\n\u001b[0;32m-> 1017\u001b[0;31m                 \u001b[0mself\u001b[0m\u001b[0;34m.\u001b[0m\u001b[0mretrieve\u001b[0m\u001b[0;34m(\u001b[0m\u001b[0;34m)\u001b[0m\u001b[0;34m\u001b[0m\u001b[0;34m\u001b[0m\u001b[0m\n\u001b[0m\u001b[1;32m   1018\u001b[0m             \u001b[0;31m# Make sure that we get a last message telling us we are done\u001b[0m\u001b[0;34m\u001b[0m\u001b[0;34m\u001b[0m\u001b[0;34m\u001b[0m\u001b[0m\n\u001b[1;32m   1019\u001b[0m             \u001b[0melapsed_time\u001b[0m \u001b[0;34m=\u001b[0m \u001b[0mtime\u001b[0m\u001b[0;34m.\u001b[0m\u001b[0mtime\u001b[0m\u001b[0;34m(\u001b[0m\u001b[0;34m)\u001b[0m \u001b[0;34m-\u001b[0m \u001b[0mself\u001b[0m\u001b[0;34m.\u001b[0m\u001b[0m_start_time\u001b[0m\u001b[0;34m\u001b[0m\u001b[0;34m\u001b[0m\u001b[0m\n",
      "\u001b[0;32m~/anaconda3/envs/speech_gen/lib/python3.8/site-packages/joblib/parallel.py\u001b[0m in \u001b[0;36mretrieve\u001b[0;34m(self)\u001b[0m\n\u001b[1;32m    907\u001b[0m             \u001b[0;32mtry\u001b[0m\u001b[0;34m:\u001b[0m\u001b[0;34m\u001b[0m\u001b[0;34m\u001b[0m\u001b[0m\n\u001b[1;32m    908\u001b[0m                 \u001b[0;32mif\u001b[0m \u001b[0mgetattr\u001b[0m\u001b[0;34m(\u001b[0m\u001b[0mself\u001b[0m\u001b[0;34m.\u001b[0m\u001b[0m_backend\u001b[0m\u001b[0;34m,\u001b[0m \u001b[0;34m'supports_timeout'\u001b[0m\u001b[0;34m,\u001b[0m \u001b[0;32mFalse\u001b[0m\u001b[0;34m)\u001b[0m\u001b[0;34m:\u001b[0m\u001b[0;34m\u001b[0m\u001b[0;34m\u001b[0m\u001b[0m\n\u001b[0;32m--> 909\u001b[0;31m                     \u001b[0mself\u001b[0m\u001b[0;34m.\u001b[0m\u001b[0m_output\u001b[0m\u001b[0;34m.\u001b[0m\u001b[0mextend\u001b[0m\u001b[0;34m(\u001b[0m\u001b[0mjob\u001b[0m\u001b[0;34m.\u001b[0m\u001b[0mget\u001b[0m\u001b[0;34m(\u001b[0m\u001b[0mtimeout\u001b[0m\u001b[0;34m=\u001b[0m\u001b[0mself\u001b[0m\u001b[0;34m.\u001b[0m\u001b[0mtimeout\u001b[0m\u001b[0;34m)\u001b[0m\u001b[0;34m)\u001b[0m\u001b[0;34m\u001b[0m\u001b[0;34m\u001b[0m\u001b[0m\n\u001b[0m\u001b[1;32m    910\u001b[0m                 \u001b[0;32melse\u001b[0m\u001b[0;34m:\u001b[0m\u001b[0;34m\u001b[0m\u001b[0;34m\u001b[0m\u001b[0m\n\u001b[1;32m    911\u001b[0m                     \u001b[0mself\u001b[0m\u001b[0;34m.\u001b[0m\u001b[0m_output\u001b[0m\u001b[0;34m.\u001b[0m\u001b[0mextend\u001b[0m\u001b[0;34m(\u001b[0m\u001b[0mjob\u001b[0m\u001b[0;34m.\u001b[0m\u001b[0mget\u001b[0m\u001b[0;34m(\u001b[0m\u001b[0;34m)\u001b[0m\u001b[0;34m)\u001b[0m\u001b[0;34m\u001b[0m\u001b[0;34m\u001b[0m\u001b[0m\n",
      "\u001b[0;32m~/anaconda3/envs/speech_gen/lib/python3.8/site-packages/joblib/_parallel_backends.py\u001b[0m in \u001b[0;36mwrap_future_result\u001b[0;34m(future, timeout)\u001b[0m\n\u001b[1;32m    560\u001b[0m         AsyncResults.get from multiprocessing.\"\"\"\n\u001b[1;32m    561\u001b[0m         \u001b[0;32mtry\u001b[0m\u001b[0;34m:\u001b[0m\u001b[0;34m\u001b[0m\u001b[0;34m\u001b[0m\u001b[0m\n\u001b[0;32m--> 562\u001b[0;31m             \u001b[0;32mreturn\u001b[0m \u001b[0mfuture\u001b[0m\u001b[0;34m.\u001b[0m\u001b[0mresult\u001b[0m\u001b[0;34m(\u001b[0m\u001b[0mtimeout\u001b[0m\u001b[0;34m=\u001b[0m\u001b[0mtimeout\u001b[0m\u001b[0;34m)\u001b[0m\u001b[0;34m\u001b[0m\u001b[0;34m\u001b[0m\u001b[0m\n\u001b[0m\u001b[1;32m    563\u001b[0m         \u001b[0;32mexcept\u001b[0m \u001b[0mLokyTimeoutError\u001b[0m\u001b[0;34m:\u001b[0m\u001b[0;34m\u001b[0m\u001b[0;34m\u001b[0m\u001b[0m\n\u001b[1;32m    564\u001b[0m             \u001b[0;32mraise\u001b[0m \u001b[0mTimeoutError\u001b[0m\u001b[0;34m(\u001b[0m\u001b[0;34m)\u001b[0m\u001b[0;34m\u001b[0m\u001b[0;34m\u001b[0m\u001b[0m\n",
      "\u001b[0;32m~/anaconda3/envs/speech_gen/lib/python3.8/concurrent/futures/_base.py\u001b[0m in \u001b[0;36mresult\u001b[0;34m(self, timeout)\u001b[0m\n\u001b[1;32m    437\u001b[0m                 \u001b[0;32mraise\u001b[0m \u001b[0mCancelledError\u001b[0m\u001b[0;34m(\u001b[0m\u001b[0;34m)\u001b[0m\u001b[0;34m\u001b[0m\u001b[0;34m\u001b[0m\u001b[0m\n\u001b[1;32m    438\u001b[0m             \u001b[0;32melif\u001b[0m \u001b[0mself\u001b[0m\u001b[0;34m.\u001b[0m\u001b[0m_state\u001b[0m \u001b[0;34m==\u001b[0m \u001b[0mFINISHED\u001b[0m\u001b[0;34m:\u001b[0m\u001b[0;34m\u001b[0m\u001b[0;34m\u001b[0m\u001b[0m\n\u001b[0;32m--> 439\u001b[0;31m                 \u001b[0;32mreturn\u001b[0m \u001b[0mself\u001b[0m\u001b[0;34m.\u001b[0m\u001b[0m__get_result\u001b[0m\u001b[0;34m(\u001b[0m\u001b[0;34m)\u001b[0m\u001b[0;34m\u001b[0m\u001b[0;34m\u001b[0m\u001b[0m\n\u001b[0m\u001b[1;32m    440\u001b[0m             \u001b[0;32melse\u001b[0m\u001b[0;34m:\u001b[0m\u001b[0;34m\u001b[0m\u001b[0;34m\u001b[0m\u001b[0m\n\u001b[1;32m    441\u001b[0m                 \u001b[0;32mraise\u001b[0m \u001b[0mTimeoutError\u001b[0m\u001b[0;34m(\u001b[0m\u001b[0;34m)\u001b[0m\u001b[0;34m\u001b[0m\u001b[0;34m\u001b[0m\u001b[0m\n",
      "\u001b[0;32m~/anaconda3/envs/speech_gen/lib/python3.8/concurrent/futures/_base.py\u001b[0m in \u001b[0;36m__get_result\u001b[0;34m(self)\u001b[0m\n\u001b[1;32m    386\u001b[0m     \u001b[0;32mdef\u001b[0m \u001b[0m__get_result\u001b[0m\u001b[0;34m(\u001b[0m\u001b[0mself\u001b[0m\u001b[0;34m)\u001b[0m\u001b[0;34m:\u001b[0m\u001b[0;34m\u001b[0m\u001b[0;34m\u001b[0m\u001b[0m\n\u001b[1;32m    387\u001b[0m         \u001b[0;32mif\u001b[0m \u001b[0mself\u001b[0m\u001b[0;34m.\u001b[0m\u001b[0m_exception\u001b[0m\u001b[0;34m:\u001b[0m\u001b[0;34m\u001b[0m\u001b[0;34m\u001b[0m\u001b[0m\n\u001b[0;32m--> 388\u001b[0;31m             \u001b[0;32mraise\u001b[0m \u001b[0mself\u001b[0m\u001b[0;34m.\u001b[0m\u001b[0m_exception\u001b[0m\u001b[0;34m\u001b[0m\u001b[0;34m\u001b[0m\u001b[0m\n\u001b[0m\u001b[1;32m    389\u001b[0m         \u001b[0;32melse\u001b[0m\u001b[0;34m:\u001b[0m\u001b[0;34m\u001b[0m\u001b[0;34m\u001b[0m\u001b[0m\n\u001b[1;32m    390\u001b[0m             \u001b[0;32mreturn\u001b[0m \u001b[0mself\u001b[0m\u001b[0;34m.\u001b[0m\u001b[0m_result\u001b[0m\u001b[0;34m\u001b[0m\u001b[0;34m\u001b[0m\u001b[0m\n",
      "\u001b[0;31mTerminatedWorkerError\u001b[0m: A worker process managed by the executor was unexpectedly terminated. This could be caused by a segmentation fault while calling the function or by an excessive memory usage causing the Operating System to kill the worker. The exit codes of the workers are {SIGKILL(-9), SIGKILL(-9), SIGKILL(-9)}"
     ]
    }
   ],
   "source": [
    "cv = RepeatedStratifiedKFold(n_splits=10, n_repeats=3, random_state=1)\n",
    "scores = cross_val_score(pipe, x_mix_train, y_num_train, scoring='f1_weighted', cv=cv, n_jobs=-1)\n",
    "print('Mean f1_weighted: %.3f' % mean(scores))"
   ]
  },
  {
   "cell_type": "code",
   "execution_count": 51,
   "metadata": {},
   "outputs": [
    {
     "data": {
      "text/plain": [
       "7491"
      ]
     },
     "execution_count": 51,
     "metadata": {},
     "output_type": "execute_result"
    }
   ],
   "source": [
    "sum(label_counts.values())"
   ]
  },
  {
   "cell_type": "code",
   "execution_count": 52,
   "metadata": {},
   "outputs": [
    {
     "data": {
      "text/plain": [
       "11497"
      ]
     },
     "execution_count": 52,
     "metadata": {},
     "output_type": "execute_result"
    }
   ],
   "source": [
    "sum(Counter(y_new_train).values())"
   ]
  },
  {
   "cell_type": "code",
   "execution_count": 38,
   "metadata": {
    "collapsed": true,
    "jupyter": {
     "outputs_hidden": true
    }
   },
   "outputs": [
    {
     "name": "stdout",
     "output_type": "stream",
     "text": [
      "Fitting 5 folds for each of 120 candidates, totalling 600 fits\n"
     ]
    },
    {
     "name": "stderr",
     "output_type": "stream",
     "text": [
      "[Parallel(n_jobs=32)]: Using backend LokyBackend with 32 concurrent workers.\n"
     ]
    },
    {
     "ename": "TerminatedWorkerError",
     "evalue": "A worker process managed by the executor was unexpectedly terminated. This could be caused by a segmentation fault while calling the function or by an excessive memory usage causing the Operating System to kill the worker. The exit codes of the workers are {SIGKILL(-9), SIGKILL(-9)}",
     "output_type": "error",
     "traceback": [
      "\u001b[0;31m---------------------------------------------------------------------------\u001b[0m",
      "\u001b[0;31mTerminatedWorkerError\u001b[0m                     Traceback (most recent call last)",
      "\u001b[0;32m<ipython-input-38-465dad0d8538>\u001b[0m in \u001b[0;36m<module>\u001b[0;34m\u001b[0m\n\u001b[1;32m      9\u001b[0m \u001b[0;34m\u001b[0m\u001b[0m\n\u001b[1;32m     10\u001b[0m \u001b[0;31m# Create grid search object\u001b[0m\u001b[0;34m\u001b[0m\u001b[0;34m\u001b[0m\u001b[0;34m\u001b[0m\u001b[0m\n\u001b[0;32m---> 11\u001b[0;31m \u001b[0mgrid_cv\u001b[0m \u001b[0;34m=\u001b[0m \u001b[0mGridSearchCV\u001b[0m\u001b[0;34m(\u001b[0m\u001b[0mpipe\u001b[0m\u001b[0;34m,\u001b[0m \u001b[0mparam_grid\u001b[0m \u001b[0;34m=\u001b[0m \u001b[0mparam_grid\u001b[0m\u001b[0;34m,\u001b[0m \u001b[0mscoring\u001b[0m\u001b[0;34m=\u001b[0m\u001b[0;34m\"f1_weighted\"\u001b[0m\u001b[0;34m,\u001b[0m \u001b[0mcv\u001b[0m \u001b[0;34m=\u001b[0m \u001b[0;36m5\u001b[0m\u001b[0;34m,\u001b[0m \u001b[0mverbose\u001b[0m\u001b[0;34m=\u001b[0m\u001b[0;36m2\u001b[0m\u001b[0;34m,\u001b[0m \u001b[0mn_jobs\u001b[0m\u001b[0;34m=\u001b[0m\u001b[0;36m32\u001b[0m\u001b[0;34m)\u001b[0m\u001b[0;34m.\u001b[0m\u001b[0mfit\u001b[0m\u001b[0;34m(\u001b[0m\u001b[0mx_mix_train\u001b[0m\u001b[0;34m,\u001b[0m \u001b[0my_num_train\u001b[0m\u001b[0;34m)\u001b[0m\u001b[0;34m\u001b[0m\u001b[0;34m\u001b[0m\u001b[0m\n\u001b[0m\u001b[1;32m     12\u001b[0m \u001b[0;34m\u001b[0m\u001b[0m\n\u001b[1;32m     13\u001b[0m \u001b[0mresults\u001b[0m \u001b[0;34m=\u001b[0m \u001b[0mpd\u001b[0m\u001b[0;34m.\u001b[0m\u001b[0mDataFrame\u001b[0m\u001b[0;34m(\u001b[0m\u001b[0mgrid_cv\u001b[0m\u001b[0;34m.\u001b[0m\u001b[0mcv_results_\u001b[0m\u001b[0;34m)\u001b[0m\u001b[0;34m.\u001b[0m\u001b[0msort_values\u001b[0m\u001b[0;34m(\u001b[0m\u001b[0;34m[\u001b[0m\u001b[0;34m'rank_test_score'\u001b[0m\u001b[0;34m]\u001b[0m\u001b[0;34m)\u001b[0m\u001b[0;34m\u001b[0m\u001b[0;34m\u001b[0m\u001b[0m\n",
      "\u001b[0;32m~/anaconda3/envs/speech_gen/lib/python3.8/site-packages/sklearn/model_selection/_search.py\u001b[0m in \u001b[0;36mfit\u001b[0;34m(self, X, y, groups, **fit_params)\u001b[0m\n\u001b[1;32m    708\u001b[0m                 \u001b[0;32mreturn\u001b[0m \u001b[0mresults\u001b[0m\u001b[0;34m\u001b[0m\u001b[0;34m\u001b[0m\u001b[0m\n\u001b[1;32m    709\u001b[0m \u001b[0;34m\u001b[0m\u001b[0m\n\u001b[0;32m--> 710\u001b[0;31m             \u001b[0mself\u001b[0m\u001b[0;34m.\u001b[0m\u001b[0m_run_search\u001b[0m\u001b[0;34m(\u001b[0m\u001b[0mevaluate_candidates\u001b[0m\u001b[0;34m)\u001b[0m\u001b[0;34m\u001b[0m\u001b[0;34m\u001b[0m\u001b[0m\n\u001b[0m\u001b[1;32m    711\u001b[0m \u001b[0;34m\u001b[0m\u001b[0m\n\u001b[1;32m    712\u001b[0m         \u001b[0;31m# For multi-metric evaluation, store the best_index_, best_params_ and\u001b[0m\u001b[0;34m\u001b[0m\u001b[0;34m\u001b[0m\u001b[0;34m\u001b[0m\u001b[0m\n",
      "\u001b[0;32m~/anaconda3/envs/speech_gen/lib/python3.8/site-packages/sklearn/model_selection/_search.py\u001b[0m in \u001b[0;36m_run_search\u001b[0;34m(self, evaluate_candidates)\u001b[0m\n\u001b[1;32m   1149\u001b[0m     \u001b[0;32mdef\u001b[0m \u001b[0m_run_search\u001b[0m\u001b[0;34m(\u001b[0m\u001b[0mself\u001b[0m\u001b[0;34m,\u001b[0m \u001b[0mevaluate_candidates\u001b[0m\u001b[0;34m)\u001b[0m\u001b[0;34m:\u001b[0m\u001b[0;34m\u001b[0m\u001b[0;34m\u001b[0m\u001b[0m\n\u001b[1;32m   1150\u001b[0m         \u001b[0;34m\"\"\"Search all candidates in param_grid\"\"\"\u001b[0m\u001b[0;34m\u001b[0m\u001b[0;34m\u001b[0m\u001b[0m\n\u001b[0;32m-> 1151\u001b[0;31m         \u001b[0mevaluate_candidates\u001b[0m\u001b[0;34m(\u001b[0m\u001b[0mParameterGrid\u001b[0m\u001b[0;34m(\u001b[0m\u001b[0mself\u001b[0m\u001b[0;34m.\u001b[0m\u001b[0mparam_grid\u001b[0m\u001b[0;34m)\u001b[0m\u001b[0;34m)\u001b[0m\u001b[0;34m\u001b[0m\u001b[0;34m\u001b[0m\u001b[0m\n\u001b[0m\u001b[1;32m   1152\u001b[0m \u001b[0;34m\u001b[0m\u001b[0m\n\u001b[1;32m   1153\u001b[0m \u001b[0;34m\u001b[0m\u001b[0m\n",
      "\u001b[0;32m~/anaconda3/envs/speech_gen/lib/python3.8/site-packages/sklearn/model_selection/_search.py\u001b[0m in \u001b[0;36mevaluate_candidates\u001b[0;34m(candidate_params)\u001b[0m\n\u001b[1;32m    680\u001b[0m                               n_splits, n_candidates, n_candidates * n_splits))\n\u001b[1;32m    681\u001b[0m \u001b[0;34m\u001b[0m\u001b[0m\n\u001b[0;32m--> 682\u001b[0;31m                 out = parallel(delayed(_fit_and_score)(clone(base_estimator),\n\u001b[0m\u001b[1;32m    683\u001b[0m                                                        \u001b[0mX\u001b[0m\u001b[0;34m,\u001b[0m \u001b[0my\u001b[0m\u001b[0;34m,\u001b[0m\u001b[0;34m\u001b[0m\u001b[0;34m\u001b[0m\u001b[0m\n\u001b[1;32m    684\u001b[0m                                                        \u001b[0mtrain\u001b[0m\u001b[0;34m=\u001b[0m\u001b[0mtrain\u001b[0m\u001b[0;34m,\u001b[0m \u001b[0mtest\u001b[0m\u001b[0;34m=\u001b[0m\u001b[0mtest\u001b[0m\u001b[0;34m,\u001b[0m\u001b[0;34m\u001b[0m\u001b[0;34m\u001b[0m\u001b[0m\n",
      "\u001b[0;32m~/anaconda3/envs/speech_gen/lib/python3.8/site-packages/joblib/parallel.py\u001b[0m in \u001b[0;36m__call__\u001b[0;34m(self, iterable)\u001b[0m\n\u001b[1;32m   1015\u001b[0m \u001b[0;34m\u001b[0m\u001b[0m\n\u001b[1;32m   1016\u001b[0m             \u001b[0;32mwith\u001b[0m \u001b[0mself\u001b[0m\u001b[0;34m.\u001b[0m\u001b[0m_backend\u001b[0m\u001b[0;34m.\u001b[0m\u001b[0mretrieval_context\u001b[0m\u001b[0;34m(\u001b[0m\u001b[0;34m)\u001b[0m\u001b[0;34m:\u001b[0m\u001b[0;34m\u001b[0m\u001b[0;34m\u001b[0m\u001b[0m\n\u001b[0;32m-> 1017\u001b[0;31m                 \u001b[0mself\u001b[0m\u001b[0;34m.\u001b[0m\u001b[0mretrieve\u001b[0m\u001b[0;34m(\u001b[0m\u001b[0;34m)\u001b[0m\u001b[0;34m\u001b[0m\u001b[0;34m\u001b[0m\u001b[0m\n\u001b[0m\u001b[1;32m   1018\u001b[0m             \u001b[0;31m# Make sure that we get a last message telling us we are done\u001b[0m\u001b[0;34m\u001b[0m\u001b[0;34m\u001b[0m\u001b[0;34m\u001b[0m\u001b[0m\n\u001b[1;32m   1019\u001b[0m             \u001b[0melapsed_time\u001b[0m \u001b[0;34m=\u001b[0m \u001b[0mtime\u001b[0m\u001b[0;34m.\u001b[0m\u001b[0mtime\u001b[0m\u001b[0;34m(\u001b[0m\u001b[0;34m)\u001b[0m \u001b[0;34m-\u001b[0m \u001b[0mself\u001b[0m\u001b[0;34m.\u001b[0m\u001b[0m_start_time\u001b[0m\u001b[0;34m\u001b[0m\u001b[0;34m\u001b[0m\u001b[0m\n",
      "\u001b[0;32m~/anaconda3/envs/speech_gen/lib/python3.8/site-packages/joblib/parallel.py\u001b[0m in \u001b[0;36mretrieve\u001b[0;34m(self)\u001b[0m\n\u001b[1;32m    907\u001b[0m             \u001b[0;32mtry\u001b[0m\u001b[0;34m:\u001b[0m\u001b[0;34m\u001b[0m\u001b[0;34m\u001b[0m\u001b[0m\n\u001b[1;32m    908\u001b[0m                 \u001b[0;32mif\u001b[0m \u001b[0mgetattr\u001b[0m\u001b[0;34m(\u001b[0m\u001b[0mself\u001b[0m\u001b[0;34m.\u001b[0m\u001b[0m_backend\u001b[0m\u001b[0;34m,\u001b[0m \u001b[0;34m'supports_timeout'\u001b[0m\u001b[0;34m,\u001b[0m \u001b[0;32mFalse\u001b[0m\u001b[0;34m)\u001b[0m\u001b[0;34m:\u001b[0m\u001b[0;34m\u001b[0m\u001b[0;34m\u001b[0m\u001b[0m\n\u001b[0;32m--> 909\u001b[0;31m                     \u001b[0mself\u001b[0m\u001b[0;34m.\u001b[0m\u001b[0m_output\u001b[0m\u001b[0;34m.\u001b[0m\u001b[0mextend\u001b[0m\u001b[0;34m(\u001b[0m\u001b[0mjob\u001b[0m\u001b[0;34m.\u001b[0m\u001b[0mget\u001b[0m\u001b[0;34m(\u001b[0m\u001b[0mtimeout\u001b[0m\u001b[0;34m=\u001b[0m\u001b[0mself\u001b[0m\u001b[0;34m.\u001b[0m\u001b[0mtimeout\u001b[0m\u001b[0;34m)\u001b[0m\u001b[0;34m)\u001b[0m\u001b[0;34m\u001b[0m\u001b[0;34m\u001b[0m\u001b[0m\n\u001b[0m\u001b[1;32m    910\u001b[0m                 \u001b[0;32melse\u001b[0m\u001b[0;34m:\u001b[0m\u001b[0;34m\u001b[0m\u001b[0;34m\u001b[0m\u001b[0m\n\u001b[1;32m    911\u001b[0m                     \u001b[0mself\u001b[0m\u001b[0;34m.\u001b[0m\u001b[0m_output\u001b[0m\u001b[0;34m.\u001b[0m\u001b[0mextend\u001b[0m\u001b[0;34m(\u001b[0m\u001b[0mjob\u001b[0m\u001b[0;34m.\u001b[0m\u001b[0mget\u001b[0m\u001b[0;34m(\u001b[0m\u001b[0;34m)\u001b[0m\u001b[0;34m)\u001b[0m\u001b[0;34m\u001b[0m\u001b[0;34m\u001b[0m\u001b[0m\n",
      "\u001b[0;32m~/anaconda3/envs/speech_gen/lib/python3.8/site-packages/joblib/_parallel_backends.py\u001b[0m in \u001b[0;36mwrap_future_result\u001b[0;34m(future, timeout)\u001b[0m\n\u001b[1;32m    560\u001b[0m         AsyncResults.get from multiprocessing.\"\"\"\n\u001b[1;32m    561\u001b[0m         \u001b[0;32mtry\u001b[0m\u001b[0;34m:\u001b[0m\u001b[0;34m\u001b[0m\u001b[0;34m\u001b[0m\u001b[0m\n\u001b[0;32m--> 562\u001b[0;31m             \u001b[0;32mreturn\u001b[0m \u001b[0mfuture\u001b[0m\u001b[0;34m.\u001b[0m\u001b[0mresult\u001b[0m\u001b[0;34m(\u001b[0m\u001b[0mtimeout\u001b[0m\u001b[0;34m=\u001b[0m\u001b[0mtimeout\u001b[0m\u001b[0;34m)\u001b[0m\u001b[0;34m\u001b[0m\u001b[0;34m\u001b[0m\u001b[0m\n\u001b[0m\u001b[1;32m    563\u001b[0m         \u001b[0;32mexcept\u001b[0m \u001b[0mLokyTimeoutError\u001b[0m\u001b[0;34m:\u001b[0m\u001b[0;34m\u001b[0m\u001b[0;34m\u001b[0m\u001b[0m\n\u001b[1;32m    564\u001b[0m             \u001b[0;32mraise\u001b[0m \u001b[0mTimeoutError\u001b[0m\u001b[0;34m(\u001b[0m\u001b[0;34m)\u001b[0m\u001b[0;34m\u001b[0m\u001b[0;34m\u001b[0m\u001b[0m\n",
      "\u001b[0;32m~/anaconda3/envs/speech_gen/lib/python3.8/concurrent/futures/_base.py\u001b[0m in \u001b[0;36mresult\u001b[0;34m(self, timeout)\u001b[0m\n\u001b[1;32m    437\u001b[0m                 \u001b[0;32mraise\u001b[0m \u001b[0mCancelledError\u001b[0m\u001b[0;34m(\u001b[0m\u001b[0;34m)\u001b[0m\u001b[0;34m\u001b[0m\u001b[0;34m\u001b[0m\u001b[0m\n\u001b[1;32m    438\u001b[0m             \u001b[0;32melif\u001b[0m \u001b[0mself\u001b[0m\u001b[0;34m.\u001b[0m\u001b[0m_state\u001b[0m \u001b[0;34m==\u001b[0m \u001b[0mFINISHED\u001b[0m\u001b[0;34m:\u001b[0m\u001b[0;34m\u001b[0m\u001b[0;34m\u001b[0m\u001b[0m\n\u001b[0;32m--> 439\u001b[0;31m                 \u001b[0;32mreturn\u001b[0m \u001b[0mself\u001b[0m\u001b[0;34m.\u001b[0m\u001b[0m__get_result\u001b[0m\u001b[0;34m(\u001b[0m\u001b[0;34m)\u001b[0m\u001b[0;34m\u001b[0m\u001b[0;34m\u001b[0m\u001b[0m\n\u001b[0m\u001b[1;32m    440\u001b[0m             \u001b[0;32melse\u001b[0m\u001b[0;34m:\u001b[0m\u001b[0;34m\u001b[0m\u001b[0;34m\u001b[0m\u001b[0m\n\u001b[1;32m    441\u001b[0m                 \u001b[0;32mraise\u001b[0m \u001b[0mTimeoutError\u001b[0m\u001b[0;34m(\u001b[0m\u001b[0;34m)\u001b[0m\u001b[0;34m\u001b[0m\u001b[0;34m\u001b[0m\u001b[0m\n",
      "\u001b[0;32m~/anaconda3/envs/speech_gen/lib/python3.8/concurrent/futures/_base.py\u001b[0m in \u001b[0;36m__get_result\u001b[0;34m(self)\u001b[0m\n\u001b[1;32m    386\u001b[0m     \u001b[0;32mdef\u001b[0m \u001b[0m__get_result\u001b[0m\u001b[0;34m(\u001b[0m\u001b[0mself\u001b[0m\u001b[0;34m)\u001b[0m\u001b[0;34m:\u001b[0m\u001b[0;34m\u001b[0m\u001b[0;34m\u001b[0m\u001b[0m\n\u001b[1;32m    387\u001b[0m         \u001b[0;32mif\u001b[0m \u001b[0mself\u001b[0m\u001b[0;34m.\u001b[0m\u001b[0m_exception\u001b[0m\u001b[0;34m:\u001b[0m\u001b[0;34m\u001b[0m\u001b[0;34m\u001b[0m\u001b[0m\n\u001b[0;32m--> 388\u001b[0;31m             \u001b[0;32mraise\u001b[0m \u001b[0mself\u001b[0m\u001b[0;34m.\u001b[0m\u001b[0m_exception\u001b[0m\u001b[0;34m\u001b[0m\u001b[0;34m\u001b[0m\u001b[0m\n\u001b[0m\u001b[1;32m    389\u001b[0m         \u001b[0;32melse\u001b[0m\u001b[0;34m:\u001b[0m\u001b[0;34m\u001b[0m\u001b[0;34m\u001b[0m\u001b[0m\n\u001b[1;32m    390\u001b[0m             \u001b[0;32mreturn\u001b[0m \u001b[0mself\u001b[0m\u001b[0;34m.\u001b[0m\u001b[0m_result\u001b[0m\u001b[0;34m\u001b[0m\u001b[0;34m\u001b[0m\u001b[0m\n",
      "\u001b[0;31mTerminatedWorkerError\u001b[0m: A worker process managed by the executor was unexpectedly terminated. This could be caused by a segmentation fault while calling the function or by an excessive memory usage causing the Operating System to kill the worker. The exit codes of the workers are {SIGKILL(-9), SIGKILL(-9)}"
     ]
    }
   ],
   "source": [
    "param_grid = {\n",
    "    'o__sampling_strategy': over_dicts,\n",
    "#     'o__k_neighbors': [3, 5, 7, 9],\n",
    "    'u__sampling_strategy': under_dicts,\n",
    "    'm__penalty' : ['l1', 'l2'],\n",
    "    'm__class_weight': ['balanced', None],\n",
    "    'm__C' : [1, 5, 10, 100, 1000],\n",
    "    'm__solver' : ['liblinear']}\n",
    "\n",
    "# Create grid search object\n",
    "grid_cv = GridSearchCV(pipe, param_grid = param_grid, scoring=\"f1_weighted\", cv = 5, verbose=2, n_jobs=32).fit(x_mix_train, y_num_train)\n",
    "\n",
    "results = pd.DataFrame(grid_cv.cv_results_).sort_values(['rank_test_score'])\n",
    "results.head(4)"
   ]
  },
  {
   "cell_type": "code",
   "execution_count": 33,
   "metadata": {},
   "outputs": [
    {
     "ename": "NameError",
     "evalue": "name 'grid_cv' is not defined",
     "output_type": "error",
     "traceback": [
      "\u001b[0;31m---------------------------------------------------------------------------\u001b[0m",
      "\u001b[0;31mNameError\u001b[0m                                 Traceback (most recent call last)",
      "\u001b[0;32m<ipython-input-33-f3761b7ac4fb>\u001b[0m in \u001b[0;36m<module>\u001b[0;34m\u001b[0m\n\u001b[0;32m----> 1\u001b[0;31m \u001b[0mgrid_cv\u001b[0m\u001b[0;34m\u001b[0m\u001b[0;34m\u001b[0m\u001b[0m\n\u001b[0m",
      "\u001b[0;31mNameError\u001b[0m: name 'grid_cv' is not defined"
     ]
    }
   ],
   "source": [
    "grid_cv"
   ]
  },
  {
   "cell_type": "code",
   "execution_count": 33,
   "metadata": {},
   "outputs": [],
   "source": [
    "temp=[\"anger\", \"disgust\", \"fear\", \"joy\", \"neutral\", \"sadness\", \"surprise\"]\n",
    "labels_ordered = [emo2int[x] for x in temp]"
   ]
  },
  {
   "cell_type": "code",
   "execution_count": 55,
   "metadata": {},
   "outputs": [
    {
     "name": "stdout",
     "output_type": "stream",
     "text": [
      "Counter({0: 2763, 4: 1821, 1: 1376, 6: 1297, 3: 1023, 2: 711, 5: 706})\n"
     ]
    }
   ],
   "source": [
    "# print(label_counts)\n",
    "# maj_count = label_counts[0]\n",
    "# delta = 200\n",
    "# resample_dict = {}\n",
    "# for l, ct in label_counts.items():\n",
    "# #     print(f\"{l}: {ct/maj_count: .2f}\")\n",
    "#     resample_dict[l] = ct + delta\n",
    "#     print(f\"{l}: {resample_dict[l] / maj_count: .2f}\")\n",
    "    \n",
    "# resample_dict[0] -= delta\n",
    "over = SMOTE(sampling_strategy=over_dicts[1], k_neighbors=10)\n",
    "under = RandomUnderSampler(sampling_strategy=under_dicts[0])\n",
    "x_new_train, y_new_train = over.fit_resample(x_mix_train, y_num_train)\n",
    "x_new_train, y_new_train = under.fit_resample(x_new_train, y_new_train)\n",
    "\n",
    "print(Counter(y_new_train))"
   ]
  },
  {
   "cell_type": "code",
   "execution_count": 56,
   "metadata": {},
   "outputs": [
    {
     "name": "stdout",
     "output_type": "stream",
     "text": [
      "Fitting 7 folds for each of 14 candidates, totalling 98 fits\n"
     ]
    },
    {
     "name": "stderr",
     "output_type": "stream",
     "text": [
      "[Parallel(n_jobs=-1)]: Using backend LokyBackend with 36 concurrent workers.\n",
      "[Parallel(n_jobs=-1)]: Done  77 out of  98 | elapsed:  3.4min remaining:   55.2s\n",
      "[Parallel(n_jobs=-1)]: Done  98 out of  98 | elapsed:  4.3min finished\n"
     ]
    }
   ],
   "source": [
    "param_grid = {'penalty' : ['l1', 'l2'],\n",
    "    'class_weight': [ None],\n",
    "    'C' : [1, 10, 15, 20, 50, 100, 200],\n",
    "    'solver' : ['liblinear']}\n",
    "\n",
    "# Create grid search object\n",
    "logit = LogisticRegression(random_state=1)\n",
    "grid_cv = GridSearchCV(logit, param_grid = param_grid, cv = 7, verbose=2, n_jobs=-1).fit(x_new_train, y_new_train)\n"
   ]
  },
  {
   "cell_type": "code",
   "execution_count": 48,
   "metadata": {
    "collapsed": true,
    "jupyter": {
     "outputs_hidden": true
    }
   },
   "outputs": [
    {
     "data": {
      "text/html": [
       "<div>\n",
       "<style scoped>\n",
       "    .dataframe tbody tr th:only-of-type {\n",
       "        vertical-align: middle;\n",
       "    }\n",
       "\n",
       "    .dataframe tbody tr th {\n",
       "        vertical-align: top;\n",
       "    }\n",
       "\n",
       "    .dataframe thead th {\n",
       "        text-align: right;\n",
       "    }\n",
       "</style>\n",
       "<table border=\"1\" class=\"dataframe\">\n",
       "  <thead>\n",
       "    <tr style=\"text-align: right;\">\n",
       "      <th></th>\n",
       "      <th>mean_fit_time</th>\n",
       "      <th>std_fit_time</th>\n",
       "      <th>mean_score_time</th>\n",
       "      <th>std_score_time</th>\n",
       "      <th>param_C</th>\n",
       "      <th>param_class_weight</th>\n",
       "      <th>param_penalty</th>\n",
       "      <th>param_solver</th>\n",
       "      <th>params</th>\n",
       "      <th>split0_test_score</th>\n",
       "      <th>split1_test_score</th>\n",
       "      <th>split2_test_score</th>\n",
       "      <th>split3_test_score</th>\n",
       "      <th>split4_test_score</th>\n",
       "      <th>split5_test_score</th>\n",
       "      <th>split6_test_score</th>\n",
       "      <th>mean_test_score</th>\n",
       "      <th>std_test_score</th>\n",
       "      <th>rank_test_score</th>\n",
       "    </tr>\n",
       "  </thead>\n",
       "  <tbody>\n",
       "    <tr>\n",
       "      <th>14</th>\n",
       "      <td>123.108476</td>\n",
       "      <td>16.871889</td>\n",
       "      <td>0.005504</td>\n",
       "      <td>0.000482</td>\n",
       "      <td>20</td>\n",
       "      <td>None</td>\n",
       "      <td>l1</td>\n",
       "      <td>liblinear</td>\n",
       "      <td>{'C': 20, 'class_weight': None, 'penalty': 'l1...</td>\n",
       "      <td>0.596398</td>\n",
       "      <td>0.580387</td>\n",
       "      <td>0.603069</td>\n",
       "      <td>0.607071</td>\n",
       "      <td>0.656438</td>\n",
       "      <td>0.742991</td>\n",
       "      <td>0.753004</td>\n",
       "      <td>0.648480</td>\n",
       "      <td>0.066598</td>\n",
       "      <td>1</td>\n",
       "    </tr>\n",
       "    <tr>\n",
       "      <th>10</th>\n",
       "      <td>103.822872</td>\n",
       "      <td>15.831743</td>\n",
       "      <td>0.005849</td>\n",
       "      <td>0.000767</td>\n",
       "      <td>5</td>\n",
       "      <td>None</td>\n",
       "      <td>l1</td>\n",
       "      <td>liblinear</td>\n",
       "      <td>{'C': 5, 'class_weight': None, 'penalty': 'l1'...</td>\n",
       "      <td>0.595730</td>\n",
       "      <td>0.591728</td>\n",
       "      <td>0.594396</td>\n",
       "      <td>0.609073</td>\n",
       "      <td>0.658439</td>\n",
       "      <td>0.734312</td>\n",
       "      <td>0.739653</td>\n",
       "      <td>0.646190</td>\n",
       "      <td>0.061206</td>\n",
       "      <td>2</td>\n",
       "    </tr>\n",
       "    <tr>\n",
       "      <th>22</th>\n",
       "      <td>137.591704</td>\n",
       "      <td>32.550447</td>\n",
       "      <td>0.009857</td>\n",
       "      <td>0.005638</td>\n",
       "      <td>100</td>\n",
       "      <td>None</td>\n",
       "      <td>l1</td>\n",
       "      <td>liblinear</td>\n",
       "      <td>{'C': 100, 'class_weight': None, 'penalty': 'l...</td>\n",
       "      <td>0.579053</td>\n",
       "      <td>0.574383</td>\n",
       "      <td>0.596398</td>\n",
       "      <td>0.602402</td>\n",
       "      <td>0.656438</td>\n",
       "      <td>0.744993</td>\n",
       "      <td>0.751669</td>\n",
       "      <td>0.643619</td>\n",
       "      <td>0.070718</td>\n",
       "      <td>3</td>\n",
       "    </tr>\n",
       "    <tr>\n",
       "      <th>18</th>\n",
       "      <td>133.427174</td>\n",
       "      <td>11.621387</td>\n",
       "      <td>0.008219</td>\n",
       "      <td>0.005144</td>\n",
       "      <td>50</td>\n",
       "      <td>None</td>\n",
       "      <td>l1</td>\n",
       "      <td>liblinear</td>\n",
       "      <td>{'C': 50, 'class_weight': None, 'penalty': 'l1...</td>\n",
       "      <td>0.579720</td>\n",
       "      <td>0.576384</td>\n",
       "      <td>0.598399</td>\n",
       "      <td>0.602402</td>\n",
       "      <td>0.652435</td>\n",
       "      <td>0.742323</td>\n",
       "      <td>0.749666</td>\n",
       "      <td>0.643047</td>\n",
       "      <td>0.069087</td>\n",
       "      <td>4</td>\n",
       "    </tr>\n",
       "    <tr>\n",
       "      <th>26</th>\n",
       "      <td>128.798480</td>\n",
       "      <td>14.023403</td>\n",
       "      <td>0.005232</td>\n",
       "      <td>0.000167</td>\n",
       "      <td>200</td>\n",
       "      <td>None</td>\n",
       "      <td>l1</td>\n",
       "      <td>liblinear</td>\n",
       "      <td>{'C': 200, 'class_weight': None, 'penalty': 'l...</td>\n",
       "      <td>0.573049</td>\n",
       "      <td>0.570380</td>\n",
       "      <td>0.594396</td>\n",
       "      <td>0.601067</td>\n",
       "      <td>0.654436</td>\n",
       "      <td>0.740988</td>\n",
       "      <td>0.757009</td>\n",
       "      <td>0.641618</td>\n",
       "      <td>0.072708</td>\n",
       "      <td>5</td>\n",
       "    </tr>\n",
       "    <tr>\n",
       "      <th>12</th>\n",
       "      <td>147.836307</td>\n",
       "      <td>37.810413</td>\n",
       "      <td>0.005285</td>\n",
       "      <td>0.000201</td>\n",
       "      <td>20</td>\n",
       "      <td>balanced</td>\n",
       "      <td>l1</td>\n",
       "      <td>liblinear</td>\n",
       "      <td>{'C': 20, 'class_weight': 'balanced', 'penalty...</td>\n",
       "      <td>0.574383</td>\n",
       "      <td>0.577718</td>\n",
       "      <td>0.585057</td>\n",
       "      <td>0.603736</td>\n",
       "      <td>0.641761</td>\n",
       "      <td>0.732977</td>\n",
       "      <td>0.749666</td>\n",
       "      <td>0.637900</td>\n",
       "      <td>0.068829</td>\n",
       "      <td>6</td>\n",
       "    </tr>\n",
       "    <tr>\n",
       "      <th>8</th>\n",
       "      <td>100.555070</td>\n",
       "      <td>18.467646</td>\n",
       "      <td>0.005412</td>\n",
       "      <td>0.000372</td>\n",
       "      <td>5</td>\n",
       "      <td>balanced</td>\n",
       "      <td>l1</td>\n",
       "      <td>liblinear</td>\n",
       "      <td>{'C': 5, 'class_weight': 'balanced', 'penalty'...</td>\n",
       "      <td>0.578386</td>\n",
       "      <td>0.570380</td>\n",
       "      <td>0.588392</td>\n",
       "      <td>0.605070</td>\n",
       "      <td>0.647098</td>\n",
       "      <td>0.726969</td>\n",
       "      <td>0.732977</td>\n",
       "      <td>0.635610</td>\n",
       "      <td>0.063976</td>\n",
       "      <td>7</td>\n",
       "    </tr>\n",
       "    <tr>\n",
       "      <th>30</th>\n",
       "      <td>127.165115</td>\n",
       "      <td>28.482574</td>\n",
       "      <td>0.004749</td>\n",
       "      <td>0.000070</td>\n",
       "      <td>1000</td>\n",
       "      <td>None</td>\n",
       "      <td>l1</td>\n",
       "      <td>liblinear</td>\n",
       "      <td>{'C': 1000, 'class_weight': None, 'penalty': '...</td>\n",
       "      <td>0.567712</td>\n",
       "      <td>0.561708</td>\n",
       "      <td>0.581054</td>\n",
       "      <td>0.594396</td>\n",
       "      <td>0.643095</td>\n",
       "      <td>0.742323</td>\n",
       "      <td>0.751001</td>\n",
       "      <td>0.634470</td>\n",
       "      <td>0.075116</td>\n",
       "      <td>8</td>\n",
       "    </tr>\n",
       "    <tr>\n",
       "      <th>16</th>\n",
       "      <td>161.973315</td>\n",
       "      <td>30.933308</td>\n",
       "      <td>0.005681</td>\n",
       "      <td>0.001075</td>\n",
       "      <td>50</td>\n",
       "      <td>balanced</td>\n",
       "      <td>l1</td>\n",
       "      <td>liblinear</td>\n",
       "      <td>{'C': 50, 'class_weight': 'balanced', 'penalty...</td>\n",
       "      <td>0.567712</td>\n",
       "      <td>0.569713</td>\n",
       "      <td>0.589726</td>\n",
       "      <td>0.598399</td>\n",
       "      <td>0.638426</td>\n",
       "      <td>0.730307</td>\n",
       "      <td>0.746996</td>\n",
       "      <td>0.634468</td>\n",
       "      <td>0.069504</td>\n",
       "      <td>9</td>\n",
       "    </tr>\n",
       "    <tr>\n",
       "      <th>20</th>\n",
       "      <td>170.430797</td>\n",
       "      <td>24.393236</td>\n",
       "      <td>0.005632</td>\n",
       "      <td>0.000925</td>\n",
       "      <td>100</td>\n",
       "      <td>balanced</td>\n",
       "      <td>l1</td>\n",
       "      <td>liblinear</td>\n",
       "      <td>{'C': 100, 'class_weight': 'balanced', 'penalt...</td>\n",
       "      <td>0.569046</td>\n",
       "      <td>0.558372</td>\n",
       "      <td>0.585057</td>\n",
       "      <td>0.604403</td>\n",
       "      <td>0.635090</td>\n",
       "      <td>0.736315</td>\n",
       "      <td>0.749666</td>\n",
       "      <td>0.633993</td>\n",
       "      <td>0.072760</td>\n",
       "      <td>10</td>\n",
       "    </tr>\n",
       "  </tbody>\n",
       "</table>\n",
       "</div>"
      ],
      "text/plain": [
       "    mean_fit_time  std_fit_time  mean_score_time  std_score_time param_C  \\\n",
       "14     123.108476     16.871889         0.005504        0.000482      20   \n",
       "10     103.822872     15.831743         0.005849        0.000767       5   \n",
       "22     137.591704     32.550447         0.009857        0.005638     100   \n",
       "18     133.427174     11.621387         0.008219        0.005144      50   \n",
       "26     128.798480     14.023403         0.005232        0.000167     200   \n",
       "12     147.836307     37.810413         0.005285        0.000201      20   \n",
       "8      100.555070     18.467646         0.005412        0.000372       5   \n",
       "30     127.165115     28.482574         0.004749        0.000070    1000   \n",
       "16     161.973315     30.933308         0.005681        0.001075      50   \n",
       "20     170.430797     24.393236         0.005632        0.000925     100   \n",
       "\n",
       "   param_class_weight param_penalty param_solver  \\\n",
       "14               None            l1    liblinear   \n",
       "10               None            l1    liblinear   \n",
       "22               None            l1    liblinear   \n",
       "18               None            l1    liblinear   \n",
       "26               None            l1    liblinear   \n",
       "12           balanced            l1    liblinear   \n",
       "8            balanced            l1    liblinear   \n",
       "30               None            l1    liblinear   \n",
       "16           balanced            l1    liblinear   \n",
       "20           balanced            l1    liblinear   \n",
       "\n",
       "                                               params  split0_test_score  \\\n",
       "14  {'C': 20, 'class_weight': None, 'penalty': 'l1...           0.596398   \n",
       "10  {'C': 5, 'class_weight': None, 'penalty': 'l1'...           0.595730   \n",
       "22  {'C': 100, 'class_weight': None, 'penalty': 'l...           0.579053   \n",
       "18  {'C': 50, 'class_weight': None, 'penalty': 'l1...           0.579720   \n",
       "26  {'C': 200, 'class_weight': None, 'penalty': 'l...           0.573049   \n",
       "12  {'C': 20, 'class_weight': 'balanced', 'penalty...           0.574383   \n",
       "8   {'C': 5, 'class_weight': 'balanced', 'penalty'...           0.578386   \n",
       "30  {'C': 1000, 'class_weight': None, 'penalty': '...           0.567712   \n",
       "16  {'C': 50, 'class_weight': 'balanced', 'penalty...           0.567712   \n",
       "20  {'C': 100, 'class_weight': 'balanced', 'penalt...           0.569046   \n",
       "\n",
       "    split1_test_score  split2_test_score  split3_test_score  \\\n",
       "14           0.580387           0.603069           0.607071   \n",
       "10           0.591728           0.594396           0.609073   \n",
       "22           0.574383           0.596398           0.602402   \n",
       "18           0.576384           0.598399           0.602402   \n",
       "26           0.570380           0.594396           0.601067   \n",
       "12           0.577718           0.585057           0.603736   \n",
       "8            0.570380           0.588392           0.605070   \n",
       "30           0.561708           0.581054           0.594396   \n",
       "16           0.569713           0.589726           0.598399   \n",
       "20           0.558372           0.585057           0.604403   \n",
       "\n",
       "    split4_test_score  split5_test_score  split6_test_score  mean_test_score  \\\n",
       "14           0.656438           0.742991           0.753004         0.648480   \n",
       "10           0.658439           0.734312           0.739653         0.646190   \n",
       "22           0.656438           0.744993           0.751669         0.643619   \n",
       "18           0.652435           0.742323           0.749666         0.643047   \n",
       "26           0.654436           0.740988           0.757009         0.641618   \n",
       "12           0.641761           0.732977           0.749666         0.637900   \n",
       "8            0.647098           0.726969           0.732977         0.635610   \n",
       "30           0.643095           0.742323           0.751001         0.634470   \n",
       "16           0.638426           0.730307           0.746996         0.634468   \n",
       "20           0.635090           0.736315           0.749666         0.633993   \n",
       "\n",
       "    std_test_score  rank_test_score  \n",
       "14        0.066598                1  \n",
       "10        0.061206                2  \n",
       "22        0.070718                3  \n",
       "18        0.069087                4  \n",
       "26        0.072708                5  \n",
       "12        0.068829                6  \n",
       "8         0.063976                7  \n",
       "30        0.075116                8  \n",
       "16        0.069504                9  \n",
       "20        0.072760               10  "
      ]
     },
     "execution_count": 48,
     "metadata": {},
     "output_type": "execute_result"
    }
   ],
   "source": [
    "results = pd.DataFrame(grid_cv.cv_results_).sort_values(['rank_test_score'])\n",
    "results.head(10)"
   ]
  },
  {
   "cell_type": "code",
   "execution_count": 43,
   "metadata": {},
   "outputs": [
    {
     "name": "stdout",
     "output_type": "stream",
     "text": [
      "              precision    recall  f1-score   support\n",
      "\n",
      "       anger       0.26      0.22      0.24       312\n",
      "     disgust       0.13      0.14      0.14        65\n",
      "        fear       0.06      0.11      0.08        57\n",
      "         joy       0.34      0.32      0.33       422\n",
      "     neutral       0.57      0.58      0.57      1152\n",
      "     sadness       0.15      0.15      0.15       160\n",
      "    surprise       0.32      0.30      0.31       329\n",
      "\n",
      "    accuracy                           0.41      2497\n",
      "   macro avg       0.26      0.26      0.26      2497\n",
      "weighted avg       0.41      0.41      0.41      2497\n",
      "\n"
     ]
    }
   ],
   "source": [
    "# logistic regression with oversampling\n",
    "best_logit = LogisticRegression(random_state=1, **grid_cv.best_params_)\n",
    "best_logit.fit(x_new_train, y_new_train)\n",
    "y_predict = best_logit.predict(x_mix_test)\n",
    "\n",
    "print(classification_report(y_num_test, y_predict, labels=labels_ordered, target_names=temp))"
   ]
  },
  {
   "cell_type": "code",
   "execution_count": 35,
   "metadata": {},
   "outputs": [
    {
     "data": {
      "text/plain": [
       "(9988, 1)"
      ]
     },
     "execution_count": 35,
     "metadata": {},
     "output_type": "execute_result"
    }
   ],
   "source": [
    "mapping_df.shape"
   ]
  },
  {
   "cell_type": "markdown",
   "metadata": {},
   "source": [
    "## using audio embeddings"
   ]
  },
  {
   "cell_type": "code",
   "execution_count": 36,
   "metadata": {},
   "outputs": [
    {
     "data": {
      "text/plain": [
       "(9000, 20)"
      ]
     },
     "execution_count": 36,
     "metadata": {},
     "output_type": "execute_result"
    }
   ],
   "source": [
    "audio_emb.shape"
   ]
  },
  {
   "cell_type": "code",
   "execution_count": 12,
   "metadata": {},
   "outputs": [
    {
     "data": {
      "text/html": [
       "<div>\n",
       "<style scoped>\n",
       "    .dataframe tbody tr th:only-of-type {\n",
       "        vertical-align: middle;\n",
       "    }\n",
       "\n",
       "    .dataframe tbody tr th {\n",
       "        vertical-align: top;\n",
       "    }\n",
       "\n",
       "    .dataframe thead th {\n",
       "        text-align: right;\n",
       "    }\n",
       "</style>\n",
       "<table border=\"1\" class=\"dataframe\">\n",
       "  <thead>\n",
       "    <tr style=\"text-align: right;\">\n",
       "      <th></th>\n",
       "      <th>0</th>\n",
       "      <th>1</th>\n",
       "      <th>2</th>\n",
       "      <th>3</th>\n",
       "      <th>4</th>\n",
       "      <th>5</th>\n",
       "      <th>6</th>\n",
       "      <th>7</th>\n",
       "      <th>8</th>\n",
       "      <th>9</th>\n",
       "      <th>10</th>\n",
       "      <th>11</th>\n",
       "      <th>12</th>\n",
       "      <th>13</th>\n",
       "      <th>14</th>\n",
       "      <th>15</th>\n",
       "      <th>16</th>\n",
       "      <th>17</th>\n",
       "      <th>18</th>\n",
       "      <th>19</th>\n",
       "    </tr>\n",
       "  </thead>\n",
       "  <tbody>\n",
       "    <tr>\n",
       "      <th>0</th>\n",
       "      <td>0.468404</td>\n",
       "      <td>0.278676</td>\n",
       "      <td>-0.466101</td>\n",
       "      <td>-0.841499</td>\n",
       "      <td>0.811462</td>\n",
       "      <td>0.994261</td>\n",
       "      <td>0.079472</td>\n",
       "      <td>0.331361</td>\n",
       "      <td>0.709990</td>\n",
       "      <td>-0.652272</td>\n",
       "      <td>0.534986</td>\n",
       "      <td>-0.043683</td>\n",
       "      <td>0.237591</td>\n",
       "      <td>-0.517976</td>\n",
       "      <td>-0.125858</td>\n",
       "      <td>-0.664146</td>\n",
       "      <td>-0.092333</td>\n",
       "      <td>0.472566</td>\n",
       "      <td>-0.217704</td>\n",
       "      <td>-1.215915</td>\n",
       "    </tr>\n",
       "    <tr>\n",
       "      <th>1</th>\n",
       "      <td>0.393439</td>\n",
       "      <td>-0.049780</td>\n",
       "      <td>0.540950</td>\n",
       "      <td>0.341101</td>\n",
       "      <td>-1.450056</td>\n",
       "      <td>-0.316093</td>\n",
       "      <td>0.223109</td>\n",
       "      <td>-0.665428</td>\n",
       "      <td>-0.001696</td>\n",
       "      <td>-0.214290</td>\n",
       "      <td>-0.177799</td>\n",
       "      <td>2.145403</td>\n",
       "      <td>-1.066256</td>\n",
       "      <td>1.891518</td>\n",
       "      <td>0.460961</td>\n",
       "      <td>-2.707002</td>\n",
       "      <td>1.432687</td>\n",
       "      <td>1.104046</td>\n",
       "      <td>-0.708277</td>\n",
       "      <td>0.283212</td>\n",
       "    </tr>\n",
       "    <tr>\n",
       "      <th>2</th>\n",
       "      <td>0.242229</td>\n",
       "      <td>-0.049403</td>\n",
       "      <td>0.381951</td>\n",
       "      <td>-0.164425</td>\n",
       "      <td>-2.974038</td>\n",
       "      <td>0.140854</td>\n",
       "      <td>1.391142</td>\n",
       "      <td>-1.324422</td>\n",
       "      <td>1.446847</td>\n",
       "      <td>0.098883</td>\n",
       "      <td>-0.528462</td>\n",
       "      <td>3.522814</td>\n",
       "      <td>-1.228283</td>\n",
       "      <td>1.477336</td>\n",
       "      <td>0.621532</td>\n",
       "      <td>-2.735992</td>\n",
       "      <td>0.292453</td>\n",
       "      <td>-0.049170</td>\n",
       "      <td>-1.240625</td>\n",
       "      <td>0.957958</td>\n",
       "    </tr>\n",
       "    <tr>\n",
       "      <th>3</th>\n",
       "      <td>0.236312</td>\n",
       "      <td>-0.058175</td>\n",
       "      <td>0.145887</td>\n",
       "      <td>-0.038939</td>\n",
       "      <td>-0.915901</td>\n",
       "      <td>-0.452194</td>\n",
       "      <td>0.519279</td>\n",
       "      <td>-0.432044</td>\n",
       "      <td>0.827844</td>\n",
       "      <td>0.061658</td>\n",
       "      <td>-0.133397</td>\n",
       "      <td>1.377155</td>\n",
       "      <td>-0.490001</td>\n",
       "      <td>0.785380</td>\n",
       "      <td>-0.090981</td>\n",
       "      <td>-1.176765</td>\n",
       "      <td>0.576154</td>\n",
       "      <td>0.372343</td>\n",
       "      <td>-0.720053</td>\n",
       "      <td>0.481285</td>\n",
       "    </tr>\n",
       "    <tr>\n",
       "      <th>4</th>\n",
       "      <td>0.494084</td>\n",
       "      <td>-0.414193</td>\n",
       "      <td>0.686100</td>\n",
       "      <td>-0.079510</td>\n",
       "      <td>-2.225597</td>\n",
       "      <td>0.112894</td>\n",
       "      <td>0.940339</td>\n",
       "      <td>-1.034066</td>\n",
       "      <td>0.878203</td>\n",
       "      <td>-0.171336</td>\n",
       "      <td>-0.101157</td>\n",
       "      <td>2.875808</td>\n",
       "      <td>-0.771293</td>\n",
       "      <td>1.821688</td>\n",
       "      <td>0.622958</td>\n",
       "      <td>-2.121955</td>\n",
       "      <td>1.127253</td>\n",
       "      <td>1.203245</td>\n",
       "      <td>-0.917203</td>\n",
       "      <td>0.686002</td>\n",
       "    </tr>\n",
       "    <tr>\n",
       "      <th>...</th>\n",
       "      <td>...</td>\n",
       "      <td>...</td>\n",
       "      <td>...</td>\n",
       "      <td>...</td>\n",
       "      <td>...</td>\n",
       "      <td>...</td>\n",
       "      <td>...</td>\n",
       "      <td>...</td>\n",
       "      <td>...</td>\n",
       "      <td>...</td>\n",
       "      <td>...</td>\n",
       "      <td>...</td>\n",
       "      <td>...</td>\n",
       "      <td>...</td>\n",
       "      <td>...</td>\n",
       "      <td>...</td>\n",
       "      <td>...</td>\n",
       "      <td>...</td>\n",
       "      <td>...</td>\n",
       "      <td>...</td>\n",
       "    </tr>\n",
       "    <tr>\n",
       "      <th>9984</th>\n",
       "      <td>0.317646</td>\n",
       "      <td>0.127494</td>\n",
       "      <td>0.561333</td>\n",
       "      <td>-0.170620</td>\n",
       "      <td>-2.089635</td>\n",
       "      <td>-0.319585</td>\n",
       "      <td>0.702855</td>\n",
       "      <td>-0.999539</td>\n",
       "      <td>1.182079</td>\n",
       "      <td>0.222808</td>\n",
       "      <td>-0.081520</td>\n",
       "      <td>2.877434</td>\n",
       "      <td>-0.913109</td>\n",
       "      <td>1.734860</td>\n",
       "      <td>-0.157258</td>\n",
       "      <td>-2.513618</td>\n",
       "      <td>0.939858</td>\n",
       "      <td>1.602317</td>\n",
       "      <td>-1.390440</td>\n",
       "      <td>0.395372</td>\n",
       "    </tr>\n",
       "    <tr>\n",
       "      <th>9985</th>\n",
       "      <td>-0.254540</td>\n",
       "      <td>0.392315</td>\n",
       "      <td>2.296835</td>\n",
       "      <td>-1.325808</td>\n",
       "      <td>-3.301410</td>\n",
       "      <td>-0.205515</td>\n",
       "      <td>2.201517</td>\n",
       "      <td>-1.735718</td>\n",
       "      <td>2.608117</td>\n",
       "      <td>0.042434</td>\n",
       "      <td>-1.344730</td>\n",
       "      <td>4.906795</td>\n",
       "      <td>-0.918109</td>\n",
       "      <td>0.927062</td>\n",
       "      <td>1.368234</td>\n",
       "      <td>-2.642496</td>\n",
       "      <td>-0.844671</td>\n",
       "      <td>0.537211</td>\n",
       "      <td>-1.962808</td>\n",
       "      <td>0.413894</td>\n",
       "    </tr>\n",
       "    <tr>\n",
       "      <th>9986</th>\n",
       "      <td>-0.025878</td>\n",
       "      <td>-0.096097</td>\n",
       "      <td>0.010346</td>\n",
       "      <td>0.005652</td>\n",
       "      <td>-0.669789</td>\n",
       "      <td>-0.851164</td>\n",
       "      <td>0.641215</td>\n",
       "      <td>-0.100471</td>\n",
       "      <td>0.936295</td>\n",
       "      <td>0.300127</td>\n",
       "      <td>-0.186234</td>\n",
       "      <td>1.266441</td>\n",
       "      <td>-0.496933</td>\n",
       "      <td>0.685078</td>\n",
       "      <td>-0.470907</td>\n",
       "      <td>-0.906288</td>\n",
       "      <td>0.549094</td>\n",
       "      <td>0.835844</td>\n",
       "      <td>-0.940960</td>\n",
       "      <td>0.552636</td>\n",
       "    </tr>\n",
       "    <tr>\n",
       "      <th>9987</th>\n",
       "      <td>0.229676</td>\n",
       "      <td>0.241477</td>\n",
       "      <td>1.348317</td>\n",
       "      <td>-0.423532</td>\n",
       "      <td>-2.928809</td>\n",
       "      <td>0.004402</td>\n",
       "      <td>1.284401</td>\n",
       "      <td>-1.472378</td>\n",
       "      <td>1.175798</td>\n",
       "      <td>-0.138858</td>\n",
       "      <td>-0.212625</td>\n",
       "      <td>3.868988</td>\n",
       "      <td>-1.018544</td>\n",
       "      <td>1.744546</td>\n",
       "      <td>1.180914</td>\n",
       "      <td>-2.500556</td>\n",
       "      <td>0.760446</td>\n",
       "      <td>1.459516</td>\n",
       "      <td>-1.314147</td>\n",
       "      <td>0.297955</td>\n",
       "    </tr>\n",
       "    <tr>\n",
       "      <th>9988</th>\n",
       "      <td>0.173511</td>\n",
       "      <td>0.080043</td>\n",
       "      <td>0.614881</td>\n",
       "      <td>0.174859</td>\n",
       "      <td>-1.877890</td>\n",
       "      <td>-0.434028</td>\n",
       "      <td>0.575739</td>\n",
       "      <td>-0.719124</td>\n",
       "      <td>1.013039</td>\n",
       "      <td>0.037704</td>\n",
       "      <td>-0.062410</td>\n",
       "      <td>2.350066</td>\n",
       "      <td>-0.875354</td>\n",
       "      <td>1.180253</td>\n",
       "      <td>0.016741</td>\n",
       "      <td>-1.993272</td>\n",
       "      <td>0.762353</td>\n",
       "      <td>1.421206</td>\n",
       "      <td>-1.124411</td>\n",
       "      <td>0.320727</td>\n",
       "    </tr>\n",
       "  </tbody>\n",
       "</table>\n",
       "<p>9000 rows × 20 columns</p>\n",
       "</div>"
      ],
      "text/plain": [
       "             0         1         2         3         4         5         6  \\\n",
       "0     0.468404  0.278676 -0.466101 -0.841499  0.811462  0.994261  0.079472   \n",
       "1     0.393439 -0.049780  0.540950  0.341101 -1.450056 -0.316093  0.223109   \n",
       "2     0.242229 -0.049403  0.381951 -0.164425 -2.974038  0.140854  1.391142   \n",
       "3     0.236312 -0.058175  0.145887 -0.038939 -0.915901 -0.452194  0.519279   \n",
       "4     0.494084 -0.414193  0.686100 -0.079510 -2.225597  0.112894  0.940339   \n",
       "...        ...       ...       ...       ...       ...       ...       ...   \n",
       "9984  0.317646  0.127494  0.561333 -0.170620 -2.089635 -0.319585  0.702855   \n",
       "9985 -0.254540  0.392315  2.296835 -1.325808 -3.301410 -0.205515  2.201517   \n",
       "9986 -0.025878 -0.096097  0.010346  0.005652 -0.669789 -0.851164  0.641215   \n",
       "9987  0.229676  0.241477  1.348317 -0.423532 -2.928809  0.004402  1.284401   \n",
       "9988  0.173511  0.080043  0.614881  0.174859 -1.877890 -0.434028  0.575739   \n",
       "\n",
       "             7         8         9        10        11        12        13  \\\n",
       "0     0.331361  0.709990 -0.652272  0.534986 -0.043683  0.237591 -0.517976   \n",
       "1    -0.665428 -0.001696 -0.214290 -0.177799  2.145403 -1.066256  1.891518   \n",
       "2    -1.324422  1.446847  0.098883 -0.528462  3.522814 -1.228283  1.477336   \n",
       "3    -0.432044  0.827844  0.061658 -0.133397  1.377155 -0.490001  0.785380   \n",
       "4    -1.034066  0.878203 -0.171336 -0.101157  2.875808 -0.771293  1.821688   \n",
       "...        ...       ...       ...       ...       ...       ...       ...   \n",
       "9984 -0.999539  1.182079  0.222808 -0.081520  2.877434 -0.913109  1.734860   \n",
       "9985 -1.735718  2.608117  0.042434 -1.344730  4.906795 -0.918109  0.927062   \n",
       "9986 -0.100471  0.936295  0.300127 -0.186234  1.266441 -0.496933  0.685078   \n",
       "9987 -1.472378  1.175798 -0.138858 -0.212625  3.868988 -1.018544  1.744546   \n",
       "9988 -0.719124  1.013039  0.037704 -0.062410  2.350066 -0.875354  1.180253   \n",
       "\n",
       "            14        15        16        17        18        19  \n",
       "0    -0.125858 -0.664146 -0.092333  0.472566 -0.217704 -1.215915  \n",
       "1     0.460961 -2.707002  1.432687  1.104046 -0.708277  0.283212  \n",
       "2     0.621532 -2.735992  0.292453 -0.049170 -1.240625  0.957958  \n",
       "3    -0.090981 -1.176765  0.576154  0.372343 -0.720053  0.481285  \n",
       "4     0.622958 -2.121955  1.127253  1.203245 -0.917203  0.686002  \n",
       "...        ...       ...       ...       ...       ...       ...  \n",
       "9984 -0.157258 -2.513618  0.939858  1.602317 -1.390440  0.395372  \n",
       "9985  1.368234 -2.642496 -0.844671  0.537211 -1.962808  0.413894  \n",
       "9986 -0.470907 -0.906288  0.549094  0.835844 -0.940960  0.552636  \n",
       "9987  1.180914 -2.500556  0.760446  1.459516 -1.314147  0.297955  \n",
       "9988  0.016741 -1.993272  0.762353  1.421206 -1.124411  0.320727  \n",
       "\n",
       "[9000 rows x 20 columns]"
      ]
     },
     "execution_count": 12,
     "metadata": {},
     "output_type": "execute_result"
    }
   ],
   "source": [
    "audio_emb_raw = pd.read_csv(\"../data/audio_embeddings.csv\", index_col=0)\n",
    "\n",
    "mapping_df = train_df[[\"Dialogue_ID\", \"Utterance_ID\"]].copy()\n",
    "mapping_df['name'] = mapping_df.apply(lambda x: f\"dia{x['Dialogue_ID']}_utt{x['Utterance_ID']}\", axis=1)\n",
    "mapping_df = mapping_df.drop(columns=[\"Dialogue_ID\", \"Utterance_ID\"])\n",
    "mapping_df.head()\n",
    "\n",
    "audio_emb = pd.merge(mapping_df, audio_emb_raw, left_on=\"name\", right_index=True, how=\"inner\")\n",
    "audio_emb = audio_emb.drop(columns=['name'])\n",
    "audio_emb"
   ]
  },
  {
   "cell_type": "code",
   "execution_count": 13,
   "metadata": {},
   "outputs": [
    {
     "data": {
      "text/plain": [
       "(9000, 20)"
      ]
     },
     "execution_count": 13,
     "metadata": {},
     "output_type": "execute_result"
    }
   ],
   "source": [
    "audio_emb_raw.shape"
   ]
  },
  {
   "cell_type": "code",
   "execution_count": 46,
   "metadata": {},
   "outputs": [
    {
     "data": {
      "text/html": [
       "<div>\n",
       "<style scoped>\n",
       "    .dataframe tbody tr th:only-of-type {\n",
       "        vertical-align: middle;\n",
       "    }\n",
       "\n",
       "    .dataframe tbody tr th {\n",
       "        vertical-align: top;\n",
       "    }\n",
       "\n",
       "    .dataframe thead th {\n",
       "        text-align: right;\n",
       "    }\n",
       "</style>\n",
       "<table border=\"1\" class=\"dataframe\">\n",
       "  <thead>\n",
       "    <tr style=\"text-align: right;\">\n",
       "      <th></th>\n",
       "      <th>name</th>\n",
       "      <th>0</th>\n",
       "      <th>1</th>\n",
       "      <th>2</th>\n",
       "      <th>3</th>\n",
       "      <th>4</th>\n",
       "      <th>5</th>\n",
       "      <th>6</th>\n",
       "      <th>7</th>\n",
       "      <th>8</th>\n",
       "      <th>...</th>\n",
       "      <th>10</th>\n",
       "      <th>11</th>\n",
       "      <th>12</th>\n",
       "      <th>13</th>\n",
       "      <th>14</th>\n",
       "      <th>15</th>\n",
       "      <th>16</th>\n",
       "      <th>17</th>\n",
       "      <th>18</th>\n",
       "      <th>19</th>\n",
       "    </tr>\n",
       "  </thead>\n",
       "  <tbody>\n",
       "    <tr>\n",
       "      <th>5</th>\n",
       "      <td>dia0_utt5</td>\n",
       "      <td>NaN</td>\n",
       "      <td>NaN</td>\n",
       "      <td>NaN</td>\n",
       "      <td>NaN</td>\n",
       "      <td>NaN</td>\n",
       "      <td>NaN</td>\n",
       "      <td>NaN</td>\n",
       "      <td>NaN</td>\n",
       "      <td>NaN</td>\n",
       "      <td>...</td>\n",
       "      <td>NaN</td>\n",
       "      <td>NaN</td>\n",
       "      <td>NaN</td>\n",
       "      <td>NaN</td>\n",
       "      <td>NaN</td>\n",
       "      <td>NaN</td>\n",
       "      <td>NaN</td>\n",
       "      <td>NaN</td>\n",
       "      <td>NaN</td>\n",
       "      <td>NaN</td>\n",
       "    </tr>\n",
       "    <tr>\n",
       "      <th>7</th>\n",
       "      <td>dia0_utt7</td>\n",
       "      <td>NaN</td>\n",
       "      <td>NaN</td>\n",
       "      <td>NaN</td>\n",
       "      <td>NaN</td>\n",
       "      <td>NaN</td>\n",
       "      <td>NaN</td>\n",
       "      <td>NaN</td>\n",
       "      <td>NaN</td>\n",
       "      <td>NaN</td>\n",
       "      <td>...</td>\n",
       "      <td>NaN</td>\n",
       "      <td>NaN</td>\n",
       "      <td>NaN</td>\n",
       "      <td>NaN</td>\n",
       "      <td>NaN</td>\n",
       "      <td>NaN</td>\n",
       "      <td>NaN</td>\n",
       "      <td>NaN</td>\n",
       "      <td>NaN</td>\n",
       "      <td>NaN</td>\n",
       "    </tr>\n",
       "    <tr>\n",
       "      <th>25</th>\n",
       "      <td>dia2_utt4</td>\n",
       "      <td>NaN</td>\n",
       "      <td>NaN</td>\n",
       "      <td>NaN</td>\n",
       "      <td>NaN</td>\n",
       "      <td>NaN</td>\n",
       "      <td>NaN</td>\n",
       "      <td>NaN</td>\n",
       "      <td>NaN</td>\n",
       "      <td>NaN</td>\n",
       "      <td>...</td>\n",
       "      <td>NaN</td>\n",
       "      <td>NaN</td>\n",
       "      <td>NaN</td>\n",
       "      <td>NaN</td>\n",
       "      <td>NaN</td>\n",
       "      <td>NaN</td>\n",
       "      <td>NaN</td>\n",
       "      <td>NaN</td>\n",
       "      <td>NaN</td>\n",
       "      <td>NaN</td>\n",
       "    </tr>\n",
       "    <tr>\n",
       "      <th>40</th>\n",
       "      <td>dia3_utt6</td>\n",
       "      <td>NaN</td>\n",
       "      <td>NaN</td>\n",
       "      <td>NaN</td>\n",
       "      <td>NaN</td>\n",
       "      <td>NaN</td>\n",
       "      <td>NaN</td>\n",
       "      <td>NaN</td>\n",
       "      <td>NaN</td>\n",
       "      <td>NaN</td>\n",
       "      <td>...</td>\n",
       "      <td>NaN</td>\n",
       "      <td>NaN</td>\n",
       "      <td>NaN</td>\n",
       "      <td>NaN</td>\n",
       "      <td>NaN</td>\n",
       "      <td>NaN</td>\n",
       "      <td>NaN</td>\n",
       "      <td>NaN</td>\n",
       "      <td>NaN</td>\n",
       "      <td>NaN</td>\n",
       "    </tr>\n",
       "    <tr>\n",
       "      <th>58</th>\n",
       "      <td>dia5_utt0</td>\n",
       "      <td>NaN</td>\n",
       "      <td>NaN</td>\n",
       "      <td>NaN</td>\n",
       "      <td>NaN</td>\n",
       "      <td>NaN</td>\n",
       "      <td>NaN</td>\n",
       "      <td>NaN</td>\n",
       "      <td>NaN</td>\n",
       "      <td>NaN</td>\n",
       "      <td>...</td>\n",
       "      <td>NaN</td>\n",
       "      <td>NaN</td>\n",
       "      <td>NaN</td>\n",
       "      <td>NaN</td>\n",
       "      <td>NaN</td>\n",
       "      <td>NaN</td>\n",
       "      <td>NaN</td>\n",
       "      <td>NaN</td>\n",
       "      <td>NaN</td>\n",
       "      <td>NaN</td>\n",
       "    </tr>\n",
       "    <tr>\n",
       "      <th>...</th>\n",
       "      <td>...</td>\n",
       "      <td>...</td>\n",
       "      <td>...</td>\n",
       "      <td>...</td>\n",
       "      <td>...</td>\n",
       "      <td>...</td>\n",
       "      <td>...</td>\n",
       "      <td>...</td>\n",
       "      <td>...</td>\n",
       "      <td>...</td>\n",
       "      <td>...</td>\n",
       "      <td>...</td>\n",
       "      <td>...</td>\n",
       "      <td>...</td>\n",
       "      <td>...</td>\n",
       "      <td>...</td>\n",
       "      <td>...</td>\n",
       "      <td>...</td>\n",
       "      <td>...</td>\n",
       "      <td>...</td>\n",
       "      <td>...</td>\n",
       "    </tr>\n",
       "    <tr>\n",
       "      <th>9936</th>\n",
       "      <td>dia1034_utt0</td>\n",
       "      <td>NaN</td>\n",
       "      <td>NaN</td>\n",
       "      <td>NaN</td>\n",
       "      <td>NaN</td>\n",
       "      <td>NaN</td>\n",
       "      <td>NaN</td>\n",
       "      <td>NaN</td>\n",
       "      <td>NaN</td>\n",
       "      <td>NaN</td>\n",
       "      <td>...</td>\n",
       "      <td>NaN</td>\n",
       "      <td>NaN</td>\n",
       "      <td>NaN</td>\n",
       "      <td>NaN</td>\n",
       "      <td>NaN</td>\n",
       "      <td>NaN</td>\n",
       "      <td>NaN</td>\n",
       "      <td>NaN</td>\n",
       "      <td>NaN</td>\n",
       "      <td>NaN</td>\n",
       "    </tr>\n",
       "    <tr>\n",
       "      <th>9945</th>\n",
       "      <td>dia1035_utt6</td>\n",
       "      <td>NaN</td>\n",
       "      <td>NaN</td>\n",
       "      <td>NaN</td>\n",
       "      <td>NaN</td>\n",
       "      <td>NaN</td>\n",
       "      <td>NaN</td>\n",
       "      <td>NaN</td>\n",
       "      <td>NaN</td>\n",
       "      <td>NaN</td>\n",
       "      <td>...</td>\n",
       "      <td>NaN</td>\n",
       "      <td>NaN</td>\n",
       "      <td>NaN</td>\n",
       "      <td>NaN</td>\n",
       "      <td>NaN</td>\n",
       "      <td>NaN</td>\n",
       "      <td>NaN</td>\n",
       "      <td>NaN</td>\n",
       "      <td>NaN</td>\n",
       "      <td>NaN</td>\n",
       "    </tr>\n",
       "    <tr>\n",
       "      <th>9955</th>\n",
       "      <td>dia1036_utt9</td>\n",
       "      <td>NaN</td>\n",
       "      <td>NaN</td>\n",
       "      <td>NaN</td>\n",
       "      <td>NaN</td>\n",
       "      <td>NaN</td>\n",
       "      <td>NaN</td>\n",
       "      <td>NaN</td>\n",
       "      <td>NaN</td>\n",
       "      <td>NaN</td>\n",
       "      <td>...</td>\n",
       "      <td>NaN</td>\n",
       "      <td>NaN</td>\n",
       "      <td>NaN</td>\n",
       "      <td>NaN</td>\n",
       "      <td>NaN</td>\n",
       "      <td>NaN</td>\n",
       "      <td>NaN</td>\n",
       "      <td>NaN</td>\n",
       "      <td>NaN</td>\n",
       "      <td>NaN</td>\n",
       "    </tr>\n",
       "    <tr>\n",
       "      <th>9966</th>\n",
       "      <td>dia1036_utt20</td>\n",
       "      <td>NaN</td>\n",
       "      <td>NaN</td>\n",
       "      <td>NaN</td>\n",
       "      <td>NaN</td>\n",
       "      <td>NaN</td>\n",
       "      <td>NaN</td>\n",
       "      <td>NaN</td>\n",
       "      <td>NaN</td>\n",
       "      <td>NaN</td>\n",
       "      <td>...</td>\n",
       "      <td>NaN</td>\n",
       "      <td>NaN</td>\n",
       "      <td>NaN</td>\n",
       "      <td>NaN</td>\n",
       "      <td>NaN</td>\n",
       "      <td>NaN</td>\n",
       "      <td>NaN</td>\n",
       "      <td>NaN</td>\n",
       "      <td>NaN</td>\n",
       "      <td>NaN</td>\n",
       "    </tr>\n",
       "    <tr>\n",
       "      <th>9982</th>\n",
       "      <td>dia1038_utt12</td>\n",
       "      <td>NaN</td>\n",
       "      <td>NaN</td>\n",
       "      <td>NaN</td>\n",
       "      <td>NaN</td>\n",
       "      <td>NaN</td>\n",
       "      <td>NaN</td>\n",
       "      <td>NaN</td>\n",
       "      <td>NaN</td>\n",
       "      <td>NaN</td>\n",
       "      <td>...</td>\n",
       "      <td>NaN</td>\n",
       "      <td>NaN</td>\n",
       "      <td>NaN</td>\n",
       "      <td>NaN</td>\n",
       "      <td>NaN</td>\n",
       "      <td>NaN</td>\n",
       "      <td>NaN</td>\n",
       "      <td>NaN</td>\n",
       "      <td>NaN</td>\n",
       "      <td>NaN</td>\n",
       "    </tr>\n",
       "  </tbody>\n",
       "</table>\n",
       "<p>988 rows × 21 columns</p>\n",
       "</div>"
      ],
      "text/plain": [
       "               name   0   1   2   3   4   5   6   7   8  ...  10  11  12  13  \\\n",
       "5         dia0_utt5 NaN NaN NaN NaN NaN NaN NaN NaN NaN  ... NaN NaN NaN NaN   \n",
       "7         dia0_utt7 NaN NaN NaN NaN NaN NaN NaN NaN NaN  ... NaN NaN NaN NaN   \n",
       "25        dia2_utt4 NaN NaN NaN NaN NaN NaN NaN NaN NaN  ... NaN NaN NaN NaN   \n",
       "40        dia3_utt6 NaN NaN NaN NaN NaN NaN NaN NaN NaN  ... NaN NaN NaN NaN   \n",
       "58        dia5_utt0 NaN NaN NaN NaN NaN NaN NaN NaN NaN  ... NaN NaN NaN NaN   \n",
       "...             ...  ..  ..  ..  ..  ..  ..  ..  ..  ..  ...  ..  ..  ..  ..   \n",
       "9936   dia1034_utt0 NaN NaN NaN NaN NaN NaN NaN NaN NaN  ... NaN NaN NaN NaN   \n",
       "9945   dia1035_utt6 NaN NaN NaN NaN NaN NaN NaN NaN NaN  ... NaN NaN NaN NaN   \n",
       "9955   dia1036_utt9 NaN NaN NaN NaN NaN NaN NaN NaN NaN  ... NaN NaN NaN NaN   \n",
       "9966  dia1036_utt20 NaN NaN NaN NaN NaN NaN NaN NaN NaN  ... NaN NaN NaN NaN   \n",
       "9982  dia1038_utt12 NaN NaN NaN NaN NaN NaN NaN NaN NaN  ... NaN NaN NaN NaN   \n",
       "\n",
       "      14  15  16  17  18  19  \n",
       "5    NaN NaN NaN NaN NaN NaN  \n",
       "7    NaN NaN NaN NaN NaN NaN  \n",
       "25   NaN NaN NaN NaN NaN NaN  \n",
       "40   NaN NaN NaN NaN NaN NaN  \n",
       "58   NaN NaN NaN NaN NaN NaN  \n",
       "...   ..  ..  ..  ..  ..  ..  \n",
       "9936 NaN NaN NaN NaN NaN NaN  \n",
       "9945 NaN NaN NaN NaN NaN NaN  \n",
       "9955 NaN NaN NaN NaN NaN NaN  \n",
       "9966 NaN NaN NaN NaN NaN NaN  \n",
       "9982 NaN NaN NaN NaN NaN NaN  \n",
       "\n",
       "[988 rows x 21 columns]"
      ]
     },
     "execution_count": 46,
     "metadata": {},
     "output_type": "execute_result"
    }
   ],
   "source": [
    "audio_emb[audio_emb.isna().any(axis=1)]"
   ]
  },
  {
   "cell_type": "code",
   "execution_count": 23,
   "metadata": {},
   "outputs": [],
   "source": [
    "train_subset = pd.merge(x_txt_train.to_frame(), audio_emb, left_index=True, right_index=True, how='inner').drop(columns=['cleaned_Utterance'])\n",
    "test_subset = pd.merge(x_txt_test.to_frame(), audio_emb, left_index=True, right_index=True).drop(columns=['cleaned_Utterance'])"
   ]
  },
  {
   "cell_type": "code",
   "execution_count": 72,
   "metadata": {},
   "outputs": [
    {
     "data": {
      "text/html": [
       "<div>\n",
       "<style scoped>\n",
       "    .dataframe tbody tr th:only-of-type {\n",
       "        vertical-align: middle;\n",
       "    }\n",
       "\n",
       "    .dataframe tbody tr th {\n",
       "        vertical-align: top;\n",
       "    }\n",
       "\n",
       "    .dataframe thead th {\n",
       "        text-align: right;\n",
       "    }\n",
       "</style>\n",
       "<table border=\"1\" class=\"dataframe\">\n",
       "  <thead>\n",
       "    <tr style=\"text-align: right;\">\n",
       "      <th></th>\n",
       "      <th>0</th>\n",
       "      <th>1</th>\n",
       "      <th>2</th>\n",
       "      <th>3</th>\n",
       "      <th>4</th>\n",
       "      <th>5</th>\n",
       "      <th>6</th>\n",
       "      <th>7</th>\n",
       "      <th>8</th>\n",
       "      <th>9</th>\n",
       "      <th>10</th>\n",
       "      <th>11</th>\n",
       "      <th>12</th>\n",
       "      <th>13</th>\n",
       "      <th>14</th>\n",
       "      <th>15</th>\n",
       "      <th>16</th>\n",
       "      <th>17</th>\n",
       "      <th>18</th>\n",
       "      <th>19</th>\n",
       "    </tr>\n",
       "  </thead>\n",
       "  <tbody>\n",
       "    <tr>\n",
       "      <th>2022</th>\n",
       "      <td>0.380136</td>\n",
       "      <td>0.013557</td>\n",
       "      <td>0.444868</td>\n",
       "      <td>-0.159154</td>\n",
       "      <td>-1.882184</td>\n",
       "      <td>-0.540239</td>\n",
       "      <td>0.408776</td>\n",
       "      <td>-1.003661</td>\n",
       "      <td>0.658224</td>\n",
       "      <td>-0.132428</td>\n",
       "      <td>-0.003633</td>\n",
       "      <td>2.374494</td>\n",
       "      <td>-0.924737</td>\n",
       "      <td>1.911677</td>\n",
       "      <td>0.182614</td>\n",
       "      <td>-2.683055</td>\n",
       "      <td>1.372901</td>\n",
       "      <td>1.415666</td>\n",
       "      <td>-1.037116</td>\n",
       "      <td>0.627431</td>\n",
       "    </tr>\n",
       "    <tr>\n",
       "      <th>9873</th>\n",
       "      <td>0.289691</td>\n",
       "      <td>-0.109464</td>\n",
       "      <td>-0.062073</td>\n",
       "      <td>0.069794</td>\n",
       "      <td>-0.060432</td>\n",
       "      <td>-0.338151</td>\n",
       "      <td>0.501673</td>\n",
       "      <td>0.022923</td>\n",
       "      <td>1.027111</td>\n",
       "      <td>-0.157100</td>\n",
       "      <td>0.306545</td>\n",
       "      <td>0.721678</td>\n",
       "      <td>0.282060</td>\n",
       "      <td>1.033581</td>\n",
       "      <td>-0.337916</td>\n",
       "      <td>-1.303151</td>\n",
       "      <td>0.790982</td>\n",
       "      <td>1.671680</td>\n",
       "      <td>-0.667830</td>\n",
       "      <td>0.188300</td>\n",
       "    </tr>\n",
       "    <tr>\n",
       "      <th>2542</th>\n",
       "      <td>0.051725</td>\n",
       "      <td>0.014099</td>\n",
       "      <td>-0.670242</td>\n",
       "      <td>0.301025</td>\n",
       "      <td>0.911384</td>\n",
       "      <td>-0.825443</td>\n",
       "      <td>-0.268050</td>\n",
       "      <td>0.684835</td>\n",
       "      <td>0.127059</td>\n",
       "      <td>0.184599</td>\n",
       "      <td>0.328975</td>\n",
       "      <td>-0.417977</td>\n",
       "      <td>0.437139</td>\n",
       "      <td>0.252209</td>\n",
       "      <td>-0.898743</td>\n",
       "      <td>-0.021114</td>\n",
       "      <td>0.432363</td>\n",
       "      <td>0.385303</td>\n",
       "      <td>0.062679</td>\n",
       "      <td>0.707053</td>\n",
       "    </tr>\n",
       "    <tr>\n",
       "      <th>2732</th>\n",
       "      <td>0.184398</td>\n",
       "      <td>-0.174997</td>\n",
       "      <td>1.742006</td>\n",
       "      <td>-0.606104</td>\n",
       "      <td>-2.578461</td>\n",
       "      <td>-0.553388</td>\n",
       "      <td>1.377012</td>\n",
       "      <td>-1.053009</td>\n",
       "      <td>1.777836</td>\n",
       "      <td>-0.157670</td>\n",
       "      <td>-0.558999</td>\n",
       "      <td>3.678346</td>\n",
       "      <td>-0.997593</td>\n",
       "      <td>1.036072</td>\n",
       "      <td>0.981599</td>\n",
       "      <td>-1.818053</td>\n",
       "      <td>0.708083</td>\n",
       "      <td>1.311199</td>\n",
       "      <td>-1.387904</td>\n",
       "      <td>0.121383</td>\n",
       "    </tr>\n",
       "    <tr>\n",
       "      <th>8653</th>\n",
       "      <td>0.273693</td>\n",
       "      <td>0.029989</td>\n",
       "      <td>-0.293199</td>\n",
       "      <td>0.162781</td>\n",
       "      <td>0.058210</td>\n",
       "      <td>-0.401742</td>\n",
       "      <td>-0.079954</td>\n",
       "      <td>0.093336</td>\n",
       "      <td>0.364464</td>\n",
       "      <td>-0.062191</td>\n",
       "      <td>0.248690</td>\n",
       "      <td>0.318145</td>\n",
       "      <td>-0.248417</td>\n",
       "      <td>0.583351</td>\n",
       "      <td>-0.554918</td>\n",
       "      <td>-0.944436</td>\n",
       "      <td>0.633883</td>\n",
       "      <td>1.261529</td>\n",
       "      <td>-0.604498</td>\n",
       "      <td>0.177346</td>\n",
       "    </tr>\n",
       "    <tr>\n",
       "      <th>...</th>\n",
       "      <td>...</td>\n",
       "      <td>...</td>\n",
       "      <td>...</td>\n",
       "      <td>...</td>\n",
       "      <td>...</td>\n",
       "      <td>...</td>\n",
       "      <td>...</td>\n",
       "      <td>...</td>\n",
       "      <td>...</td>\n",
       "      <td>...</td>\n",
       "      <td>...</td>\n",
       "      <td>...</td>\n",
       "      <td>...</td>\n",
       "      <td>...</td>\n",
       "      <td>...</td>\n",
       "      <td>...</td>\n",
       "      <td>...</td>\n",
       "      <td>...</td>\n",
       "      <td>...</td>\n",
       "      <td>...</td>\n",
       "    </tr>\n",
       "    <tr>\n",
       "      <th>5734</th>\n",
       "      <td>0.426053</td>\n",
       "      <td>0.128535</td>\n",
       "      <td>0.595150</td>\n",
       "      <td>0.171173</td>\n",
       "      <td>-1.627591</td>\n",
       "      <td>-0.138677</td>\n",
       "      <td>0.623442</td>\n",
       "      <td>-0.846837</td>\n",
       "      <td>0.867146</td>\n",
       "      <td>0.161239</td>\n",
       "      <td>0.045224</td>\n",
       "      <td>2.244308</td>\n",
       "      <td>-0.722979</td>\n",
       "      <td>1.328255</td>\n",
       "      <td>0.217344</td>\n",
       "      <td>-1.890015</td>\n",
       "      <td>0.727113</td>\n",
       "      <td>1.181411</td>\n",
       "      <td>-0.963641</td>\n",
       "      <td>0.026678</td>\n",
       "    </tr>\n",
       "    <tr>\n",
       "      <th>5191</th>\n",
       "      <td>0.235136</td>\n",
       "      <td>-0.023087</td>\n",
       "      <td>0.553511</td>\n",
       "      <td>-0.039840</td>\n",
       "      <td>-1.806681</td>\n",
       "      <td>-0.424436</td>\n",
       "      <td>0.561687</td>\n",
       "      <td>-1.063671</td>\n",
       "      <td>1.194095</td>\n",
       "      <td>-0.208619</td>\n",
       "      <td>-0.022236</td>\n",
       "      <td>2.639043</td>\n",
       "      <td>-0.603684</td>\n",
       "      <td>1.461889</td>\n",
       "      <td>0.264556</td>\n",
       "      <td>-2.185811</td>\n",
       "      <td>1.075058</td>\n",
       "      <td>1.943642</td>\n",
       "      <td>-1.133654</td>\n",
       "      <td>0.504604</td>\n",
       "    </tr>\n",
       "    <tr>\n",
       "      <th>5390</th>\n",
       "      <td>0.026033</td>\n",
       "      <td>0.291060</td>\n",
       "      <td>0.101757</td>\n",
       "      <td>0.485716</td>\n",
       "      <td>-0.959205</td>\n",
       "      <td>-0.201362</td>\n",
       "      <td>0.306136</td>\n",
       "      <td>-0.233086</td>\n",
       "      <td>0.614675</td>\n",
       "      <td>0.130512</td>\n",
       "      <td>-0.109402</td>\n",
       "      <td>1.650035</td>\n",
       "      <td>-0.616668</td>\n",
       "      <td>1.207558</td>\n",
       "      <td>0.079381</td>\n",
       "      <td>-1.866822</td>\n",
       "      <td>0.954838</td>\n",
       "      <td>1.295008</td>\n",
       "      <td>-0.491225</td>\n",
       "      <td>0.109172</td>\n",
       "    </tr>\n",
       "    <tr>\n",
       "      <th>860</th>\n",
       "      <td>0.340456</td>\n",
       "      <td>0.124504</td>\n",
       "      <td>0.706386</td>\n",
       "      <td>-0.039325</td>\n",
       "      <td>-1.869652</td>\n",
       "      <td>-0.090968</td>\n",
       "      <td>0.572494</td>\n",
       "      <td>-1.036518</td>\n",
       "      <td>0.431760</td>\n",
       "      <td>-0.094413</td>\n",
       "      <td>-0.080917</td>\n",
       "      <td>2.288663</td>\n",
       "      <td>-0.692704</td>\n",
       "      <td>1.438392</td>\n",
       "      <td>0.551767</td>\n",
       "      <td>-2.188156</td>\n",
       "      <td>0.981590</td>\n",
       "      <td>1.238949</td>\n",
       "      <td>-0.646491</td>\n",
       "      <td>0.325857</td>\n",
       "    </tr>\n",
       "    <tr>\n",
       "      <th>7270</th>\n",
       "      <td>0.326294</td>\n",
       "      <td>-0.023210</td>\n",
       "      <td>0.230602</td>\n",
       "      <td>0.160822</td>\n",
       "      <td>-0.692147</td>\n",
       "      <td>-0.475622</td>\n",
       "      <td>0.472906</td>\n",
       "      <td>-0.318113</td>\n",
       "      <td>0.846760</td>\n",
       "      <td>0.004811</td>\n",
       "      <td>0.154257</td>\n",
       "      <td>1.800183</td>\n",
       "      <td>-0.254384</td>\n",
       "      <td>1.268652</td>\n",
       "      <td>-0.368574</td>\n",
       "      <td>-1.756184</td>\n",
       "      <td>0.992500</td>\n",
       "      <td>1.569076</td>\n",
       "      <td>-0.922587</td>\n",
       "      <td>0.317353</td>\n",
       "    </tr>\n",
       "  </tbody>\n",
       "</table>\n",
       "<p>6735 rows × 20 columns</p>\n",
       "</div>"
      ],
      "text/plain": [
       "             0         1         2         3         4         5         6  \\\n",
       "2022  0.380136  0.013557  0.444868 -0.159154 -1.882184 -0.540239  0.408776   \n",
       "9873  0.289691 -0.109464 -0.062073  0.069794 -0.060432 -0.338151  0.501673   \n",
       "2542  0.051725  0.014099 -0.670242  0.301025  0.911384 -0.825443 -0.268050   \n",
       "2732  0.184398 -0.174997  1.742006 -0.606104 -2.578461 -0.553388  1.377012   \n",
       "8653  0.273693  0.029989 -0.293199  0.162781  0.058210 -0.401742 -0.079954   \n",
       "...        ...       ...       ...       ...       ...       ...       ...   \n",
       "5734  0.426053  0.128535  0.595150  0.171173 -1.627591 -0.138677  0.623442   \n",
       "5191  0.235136 -0.023087  0.553511 -0.039840 -1.806681 -0.424436  0.561687   \n",
       "5390  0.026033  0.291060  0.101757  0.485716 -0.959205 -0.201362  0.306136   \n",
       "860   0.340456  0.124504  0.706386 -0.039325 -1.869652 -0.090968  0.572494   \n",
       "7270  0.326294 -0.023210  0.230602  0.160822 -0.692147 -0.475622  0.472906   \n",
       "\n",
       "             7         8         9        10        11        12        13  \\\n",
       "2022 -1.003661  0.658224 -0.132428 -0.003633  2.374494 -0.924737  1.911677   \n",
       "9873  0.022923  1.027111 -0.157100  0.306545  0.721678  0.282060  1.033581   \n",
       "2542  0.684835  0.127059  0.184599  0.328975 -0.417977  0.437139  0.252209   \n",
       "2732 -1.053009  1.777836 -0.157670 -0.558999  3.678346 -0.997593  1.036072   \n",
       "8653  0.093336  0.364464 -0.062191  0.248690  0.318145 -0.248417  0.583351   \n",
       "...        ...       ...       ...       ...       ...       ...       ...   \n",
       "5734 -0.846837  0.867146  0.161239  0.045224  2.244308 -0.722979  1.328255   \n",
       "5191 -1.063671  1.194095 -0.208619 -0.022236  2.639043 -0.603684  1.461889   \n",
       "5390 -0.233086  0.614675  0.130512 -0.109402  1.650035 -0.616668  1.207558   \n",
       "860  -1.036518  0.431760 -0.094413 -0.080917  2.288663 -0.692704  1.438392   \n",
       "7270 -0.318113  0.846760  0.004811  0.154257  1.800183 -0.254384  1.268652   \n",
       "\n",
       "            14        15        16        17        18        19  \n",
       "2022  0.182614 -2.683055  1.372901  1.415666 -1.037116  0.627431  \n",
       "9873 -0.337916 -1.303151  0.790982  1.671680 -0.667830  0.188300  \n",
       "2542 -0.898743 -0.021114  0.432363  0.385303  0.062679  0.707053  \n",
       "2732  0.981599 -1.818053  0.708083  1.311199 -1.387904  0.121383  \n",
       "8653 -0.554918 -0.944436  0.633883  1.261529 -0.604498  0.177346  \n",
       "...        ...       ...       ...       ...       ...       ...  \n",
       "5734  0.217344 -1.890015  0.727113  1.181411 -0.963641  0.026678  \n",
       "5191  0.264556 -2.185811  1.075058  1.943642 -1.133654  0.504604  \n",
       "5390  0.079381 -1.866822  0.954838  1.295008 -0.491225  0.109172  \n",
       "860   0.551767 -2.188156  0.981590  1.238949 -0.646491  0.325857  \n",
       "7270 -0.368574 -1.756184  0.992500  1.569076 -0.922587  0.317353  \n",
       "\n",
       "[6735 rows x 20 columns]"
      ]
     },
     "execution_count": 72,
     "metadata": {},
     "output_type": "execute_result"
    }
   ],
   "source": [
    "train_subset"
   ]
  },
  {
   "cell_type": "code",
   "execution_count": 24,
   "metadata": {},
   "outputs": [],
   "source": [
    "x_txt_train_subcounts = count_vect.transform(x_txt_train.loc[train_subset.index])\n",
    "x_txt_test_subcounts = count_vect.transform(x_txt_test.loc[test_subset.index])\n",
    "\n",
    "audio_emb_train = train_subset.values\n",
    "audio_emb_test = test_subset.values\n",
    "\n",
    "x_mix_em_train = np.hstack((x_txt_train_subcounts.toarray(), audio_emb_train))\n",
    "x_mix_em_test = np.hstack((x_txt_test_subcounts.toarray(), audio_emb_test))\n",
    "\n",
    "y_num_train_sub = np.array(y)[train_subset.index]\n",
    "y_num_test_sub = np.array(y)[test_subset.index]"
   ]
  },
  {
   "cell_type": "code",
   "execution_count": 44,
   "metadata": {},
   "outputs": [],
   "source": [
    "y_sent_train_sub = train_df['sentiment_int'][train_subset.index].values\n",
    "y_sent_test_sub = train_df['sentiment_int'][test_subset.index].values"
   ]
  },
  {
   "cell_type": "code",
   "execution_count": 39,
   "metadata": {},
   "outputs": [
    {
     "name": "stdout",
     "output_type": "stream",
     "text": [
      "Counter({0: 2763, 4: 1821, 1: 1376, 6: 1297, 3: 1023, 2: 711, 5: 706})\n"
     ]
    }
   ],
   "source": [
    "over = SMOTE(sampling_strategy=over_dicts[1], k_neighbors=10)\n",
    "under = RandomUnderSampler(sampling_strategy=under_dicts[0])\n",
    "x_new_train, y_new_train = over.fit_resample(x_mix_em_train, y_num_train_sub)\n",
    "x_new_train, y_new_train = under.fit_resample(x_new_train, y_new_train)\n",
    "\n",
    "print(Counter(y_new_train))"
   ]
  },
  {
   "cell_type": "code",
   "execution_count": 30,
   "metadata": {},
   "outputs": [
    {
     "name": "stdout",
     "output_type": "stream",
     "text": [
      "Fitting 5 folds for each of 14 candidates, totalling 70 fits\n"
     ]
    },
    {
     "name": "stderr",
     "output_type": "stream",
     "text": [
      "[Parallel(n_jobs=1)]: Using backend SequentialBackend with 1 concurrent workers.\n",
      "[Parallel(n_jobs=1)]: Done  70 out of  70 | elapsed:  1.2min finished\n"
     ]
    }
   ],
   "source": [
    "param_grid = {'penalty' : ['l1', 'l2'],\n",
    "    'class_weight': [ \"balanced\"],\n",
    "    'C' : [0.001, 0.01, 0.05, 0.1, 1, 1.5, 10],\n",
    "    'solver' : ['liblinear']}\n",
    "\n",
    "# Create grid search object\n",
    "logit = LogisticRegression(random_state=1)\n",
    "grid_cv = GridSearchCV(logit, param_grid = param_grid, cv = 5, verbose=1, n_jobs=2).fit(x_mix_em_train, y_num_train_sub)\n"
   ]
  },
  {
   "cell_type": "code",
   "execution_count": 31,
   "metadata": {},
   "outputs": [
    {
     "data": {
      "text/html": [
       "<div>\n",
       "<style scoped>\n",
       "    .dataframe tbody tr th:only-of-type {\n",
       "        vertical-align: middle;\n",
       "    }\n",
       "\n",
       "    .dataframe tbody tr th {\n",
       "        vertical-align: top;\n",
       "    }\n",
       "\n",
       "    .dataframe thead th {\n",
       "        text-align: right;\n",
       "    }\n",
       "</style>\n",
       "<table border=\"1\" class=\"dataframe\">\n",
       "  <thead>\n",
       "    <tr style=\"text-align: right;\">\n",
       "      <th></th>\n",
       "      <th>mean_fit_time</th>\n",
       "      <th>std_fit_time</th>\n",
       "      <th>mean_score_time</th>\n",
       "      <th>std_score_time</th>\n",
       "      <th>param_C</th>\n",
       "      <th>param_class_weight</th>\n",
       "      <th>param_penalty</th>\n",
       "      <th>param_solver</th>\n",
       "      <th>params</th>\n",
       "      <th>split0_test_score</th>\n",
       "      <th>split1_test_score</th>\n",
       "      <th>split2_test_score</th>\n",
       "      <th>split3_test_score</th>\n",
       "      <th>split4_test_score</th>\n",
       "      <th>mean_test_score</th>\n",
       "      <th>std_test_score</th>\n",
       "      <th>rank_test_score</th>\n",
       "    </tr>\n",
       "  </thead>\n",
       "  <tbody>\n",
       "    <tr>\n",
       "      <th>3</th>\n",
       "      <td>0.420623</td>\n",
       "      <td>0.011446</td>\n",
       "      <td>0.011500</td>\n",
       "      <td>0.000323</td>\n",
       "      <td>0.01</td>\n",
       "      <td>balanced</td>\n",
       "      <td>l2</td>\n",
       "      <td>liblinear</td>\n",
       "      <td>{'C': 0.01, 'class_weight': 'balanced', 'penal...</td>\n",
       "      <td>0.493671</td>\n",
       "      <td>0.485480</td>\n",
       "      <td>0.491437</td>\n",
       "      <td>0.486225</td>\n",
       "      <td>0.476900</td>\n",
       "      <td>0.486743</td>\n",
       "      <td>0.005810</td>\n",
       "      <td>1</td>\n",
       "    </tr>\n",
       "    <tr>\n",
       "      <th>4</th>\n",
       "      <td>0.396929</td>\n",
       "      <td>0.020152</td>\n",
       "      <td>0.011497</td>\n",
       "      <td>0.000603</td>\n",
       "      <td>0.05</td>\n",
       "      <td>balanced</td>\n",
       "      <td>l1</td>\n",
       "      <td>liblinear</td>\n",
       "      <td>{'C': 0.05, 'class_weight': 'balanced', 'penal...</td>\n",
       "      <td>0.481757</td>\n",
       "      <td>0.486225</td>\n",
       "      <td>0.494415</td>\n",
       "      <td>0.495905</td>\n",
       "      <td>0.472429</td>\n",
       "      <td>0.486146</td>\n",
       "      <td>0.008614</td>\n",
       "      <td>2</td>\n",
       "    </tr>\n",
       "    <tr>\n",
       "      <th>2</th>\n",
       "      <td>0.373426</td>\n",
       "      <td>0.003378</td>\n",
       "      <td>0.012251</td>\n",
       "      <td>0.002064</td>\n",
       "      <td>0.01</td>\n",
       "      <td>balanced</td>\n",
       "      <td>l1</td>\n",
       "      <td>liblinear</td>\n",
       "      <td>{'C': 0.01, 'class_weight': 'balanced', 'penal...</td>\n",
       "      <td>0.478779</td>\n",
       "      <td>0.478779</td>\n",
       "      <td>0.478779</td>\n",
       "      <td>0.477290</td>\n",
       "      <td>0.478390</td>\n",
       "      <td>0.478403</td>\n",
       "      <td>0.000577</td>\n",
       "      <td>3</td>\n",
       "    </tr>\n",
       "    <tr>\n",
       "      <th>1</th>\n",
       "      <td>0.368820</td>\n",
       "      <td>0.004761</td>\n",
       "      <td>0.011669</td>\n",
       "      <td>0.000686</td>\n",
       "      <td>0.001</td>\n",
       "      <td>balanced</td>\n",
       "      <td>l2</td>\n",
       "      <td>liblinear</td>\n",
       "      <td>{'C': 0.001, 'class_weight': 'balanced', 'pena...</td>\n",
       "      <td>0.476545</td>\n",
       "      <td>0.475800</td>\n",
       "      <td>0.474311</td>\n",
       "      <td>0.466865</td>\n",
       "      <td>0.474665</td>\n",
       "      <td>0.473637</td>\n",
       "      <td>0.003479</td>\n",
       "      <td>4</td>\n",
       "    </tr>\n",
       "    <tr>\n",
       "      <th>5</th>\n",
       "      <td>0.599049</td>\n",
       "      <td>0.115255</td>\n",
       "      <td>0.012418</td>\n",
       "      <td>0.001011</td>\n",
       "      <td>0.05</td>\n",
       "      <td>balanced</td>\n",
       "      <td>l2</td>\n",
       "      <td>liblinear</td>\n",
       "      <td>{'C': 0.05, 'class_weight': 'balanced', 'penal...</td>\n",
       "      <td>0.483246</td>\n",
       "      <td>0.465376</td>\n",
       "      <td>0.479523</td>\n",
       "      <td>0.481757</td>\n",
       "      <td>0.451565</td>\n",
       "      <td>0.472294</td>\n",
       "      <td>0.012160</td>\n",
       "      <td>5</td>\n",
       "    </tr>\n",
       "  </tbody>\n",
       "</table>\n",
       "</div>"
      ],
      "text/plain": [
       "   mean_fit_time  std_fit_time  mean_score_time  std_score_time param_C  \\\n",
       "3       0.420623      0.011446         0.011500        0.000323    0.01   \n",
       "4       0.396929      0.020152         0.011497        0.000603    0.05   \n",
       "2       0.373426      0.003378         0.012251        0.002064    0.01   \n",
       "1       0.368820      0.004761         0.011669        0.000686   0.001   \n",
       "5       0.599049      0.115255         0.012418        0.001011    0.05   \n",
       "\n",
       "  param_class_weight param_penalty param_solver  \\\n",
       "3           balanced            l2    liblinear   \n",
       "4           balanced            l1    liblinear   \n",
       "2           balanced            l1    liblinear   \n",
       "1           balanced            l2    liblinear   \n",
       "5           balanced            l2    liblinear   \n",
       "\n",
       "                                              params  split0_test_score  \\\n",
       "3  {'C': 0.01, 'class_weight': 'balanced', 'penal...           0.493671   \n",
       "4  {'C': 0.05, 'class_weight': 'balanced', 'penal...           0.481757   \n",
       "2  {'C': 0.01, 'class_weight': 'balanced', 'penal...           0.478779   \n",
       "1  {'C': 0.001, 'class_weight': 'balanced', 'pena...           0.476545   \n",
       "5  {'C': 0.05, 'class_weight': 'balanced', 'penal...           0.483246   \n",
       "\n",
       "   split1_test_score  split2_test_score  split3_test_score  split4_test_score  \\\n",
       "3           0.485480           0.491437           0.486225           0.476900   \n",
       "4           0.486225           0.494415           0.495905           0.472429   \n",
       "2           0.478779           0.478779           0.477290           0.478390   \n",
       "1           0.475800           0.474311           0.466865           0.474665   \n",
       "5           0.465376           0.479523           0.481757           0.451565   \n",
       "\n",
       "   mean_test_score  std_test_score  rank_test_score  \n",
       "3         0.486743        0.005810                1  \n",
       "4         0.486146        0.008614                2  \n",
       "2         0.478403        0.000577                3  \n",
       "1         0.473637        0.003479                4  \n",
       "5         0.472294        0.012160                5  "
      ]
     },
     "metadata": {},
     "output_type": "display_data"
    },
    {
     "data": {
      "text/plain": [
       "{'C': 0.01, 'class_weight': 'balanced', 'penalty': 'l2', 'solver': 'liblinear'}"
      ]
     },
     "execution_count": 31,
     "metadata": {},
     "output_type": "execute_result"
    }
   ],
   "source": [
    "results = pd.DataFrame(grid_cv.cv_results_).sort_values(['rank_test_score'])\n",
    "display(results.head(5))\n",
    "grid_cv.best_params_"
   ]
  },
  {
   "cell_type": "code",
   "execution_count": 34,
   "metadata": {},
   "outputs": [
    {
     "name": "stdout",
     "output_type": "stream",
     "text": [
      "              precision    recall  f1-score   support\n",
      "\n",
      "       anger       0.11      0.00      0.01       283\n",
      "     disgust       0.10      0.03      0.05        60\n",
      "        fear       0.04      0.02      0.03        51\n",
      "         joy       0.49      0.08      0.14       382\n",
      "     neutral       0.49      0.91      0.63      1058\n",
      "     sadness       0.29      0.12      0.17       147\n",
      "    surprise       0.49      0.19      0.27       304\n",
      "\n",
      "    accuracy                           0.47      2285\n",
      "   macro avg       0.29      0.19      0.19      2285\n",
      "weighted avg       0.41      0.47      0.37      2285\n",
      "\n"
     ]
    }
   ],
   "source": [
    "logit = LogisticRegression(random_state=1, **grid_cv.best_params_)\n",
    "# logit.fit(x_new_train, y_new_train)\n",
    "logit.fit(x_mix_em_train, y_num_train_sub)\n",
    "y_predict = logit.predict(x_mix_em_test)\n",
    "\n",
    "print(classification_report(y_num_test_sub, y_predict, labels=labels_ordered, target_names=temp))"
   ]
  },
  {
   "cell_type": "code",
   "execution_count": 46,
   "metadata": {},
   "outputs": [
    {
     "name": "stdout",
     "output_type": "stream",
     "text": [
      "Fitting 5 folds for each of 16 candidates, totalling 80 fits\n"
     ]
    },
    {
     "name": "stderr",
     "output_type": "stream",
     "text": [
      "[Parallel(n_jobs=2)]: Using backend LokyBackend with 2 concurrent workers.\n",
      "[Parallel(n_jobs=2)]: Done  46 tasks      | elapsed:   20.5s\n",
      "[Parallel(n_jobs=2)]: Done  80 out of  80 | elapsed:   48.1s finished\n"
     ]
    },
    {
     "data": {
      "text/html": [
       "<div>\n",
       "<style scoped>\n",
       "    .dataframe tbody tr th:only-of-type {\n",
       "        vertical-align: middle;\n",
       "    }\n",
       "\n",
       "    .dataframe tbody tr th {\n",
       "        vertical-align: top;\n",
       "    }\n",
       "\n",
       "    .dataframe thead th {\n",
       "        text-align: right;\n",
       "    }\n",
       "</style>\n",
       "<table border=\"1\" class=\"dataframe\">\n",
       "  <thead>\n",
       "    <tr style=\"text-align: right;\">\n",
       "      <th></th>\n",
       "      <th>mean_fit_time</th>\n",
       "      <th>std_fit_time</th>\n",
       "      <th>mean_score_time</th>\n",
       "      <th>std_score_time</th>\n",
       "      <th>param_C</th>\n",
       "      <th>param_class_weight</th>\n",
       "      <th>param_penalty</th>\n",
       "      <th>param_solver</th>\n",
       "      <th>params</th>\n",
       "      <th>split0_test_score</th>\n",
       "      <th>split1_test_score</th>\n",
       "      <th>split2_test_score</th>\n",
       "      <th>split3_test_score</th>\n",
       "      <th>split4_test_score</th>\n",
       "      <th>mean_test_score</th>\n",
       "      <th>std_test_score</th>\n",
       "      <th>rank_test_score</th>\n",
       "    </tr>\n",
       "  </thead>\n",
       "  <tbody>\n",
       "    <tr>\n",
       "      <th>11</th>\n",
       "      <td>0.777507</td>\n",
       "      <td>0.052047</td>\n",
       "      <td>0.014830</td>\n",
       "      <td>0.001822</td>\n",
       "      <td>0.15</td>\n",
       "      <td>balanced</td>\n",
       "      <td>l2</td>\n",
       "      <td>liblinear</td>\n",
       "      <td>{'C': 0.15, 'class_weight': 'balanced', 'penal...</td>\n",
       "      <td>0.524944</td>\n",
       "      <td>0.522710</td>\n",
       "      <td>0.542815</td>\n",
       "      <td>0.542815</td>\n",
       "      <td>0.500745</td>\n",
       "      <td>0.526806</td>\n",
       "      <td>0.015569</td>\n",
       "      <td>1</td>\n",
       "    </tr>\n",
       "    <tr>\n",
       "      <th>7</th>\n",
       "      <td>0.824573</td>\n",
       "      <td>0.112009</td>\n",
       "      <td>0.016188</td>\n",
       "      <td>0.002244</td>\n",
       "      <td>0.09</td>\n",
       "      <td>balanced</td>\n",
       "      <td>l2</td>\n",
       "      <td>liblinear</td>\n",
       "      <td>{'C': 0.09, 'class_weight': 'balanced', 'penal...</td>\n",
       "      <td>0.530156</td>\n",
       "      <td>0.519732</td>\n",
       "      <td>0.534624</td>\n",
       "      <td>0.545793</td>\n",
       "      <td>0.502981</td>\n",
       "      <td>0.526657</td>\n",
       "      <td>0.014494</td>\n",
       "      <td>2</td>\n",
       "    </tr>\n",
       "    <tr>\n",
       "      <th>9</th>\n",
       "      <td>0.697143</td>\n",
       "      <td>0.027280</td>\n",
       "      <td>0.013988</td>\n",
       "      <td>0.001231</td>\n",
       "      <td>0.1</td>\n",
       "      <td>balanced</td>\n",
       "      <td>l2</td>\n",
       "      <td>liblinear</td>\n",
       "      <td>{'C': 0.1, 'class_weight': 'balanced', 'penalt...</td>\n",
       "      <td>0.528667</td>\n",
       "      <td>0.517498</td>\n",
       "      <td>0.536113</td>\n",
       "      <td>0.548771</td>\n",
       "      <td>0.500745</td>\n",
       "      <td>0.526359</td>\n",
       "      <td>0.016355</td>\n",
       "      <td>3</td>\n",
       "    </tr>\n",
       "    <tr>\n",
       "      <th>5</th>\n",
       "      <td>0.824714</td>\n",
       "      <td>0.050353</td>\n",
       "      <td>0.016092</td>\n",
       "      <td>0.001253</td>\n",
       "      <td>0.06</td>\n",
       "      <td>balanced</td>\n",
       "      <td>l2</td>\n",
       "      <td>liblinear</td>\n",
       "      <td>{'C': 0.06, 'class_weight': 'balanced', 'penal...</td>\n",
       "      <td>0.528667</td>\n",
       "      <td>0.510797</td>\n",
       "      <td>0.532390</td>\n",
       "      <td>0.539836</td>\n",
       "      <td>0.499255</td>\n",
       "      <td>0.522189</td>\n",
       "      <td>0.014921</td>\n",
       "      <td>4</td>\n",
       "    </tr>\n",
       "    <tr>\n",
       "      <th>12</th>\n",
       "      <td>2.321064</td>\n",
       "      <td>0.392403</td>\n",
       "      <td>0.023663</td>\n",
       "      <td>0.008375</td>\n",
       "      <td>1.5</td>\n",
       "      <td>balanced</td>\n",
       "      <td>l1</td>\n",
       "      <td>liblinear</td>\n",
       "      <td>{'C': 1.5, 'class_weight': 'balanced', 'penalt...</td>\n",
       "      <td>0.517498</td>\n",
       "      <td>0.526433</td>\n",
       "      <td>0.538347</td>\n",
       "      <td>0.521221</td>\n",
       "      <td>0.488077</td>\n",
       "      <td>0.518315</td>\n",
       "      <td>0.016677</td>\n",
       "      <td>5</td>\n",
       "    </tr>\n",
       "  </tbody>\n",
       "</table>\n",
       "</div>"
      ],
      "text/plain": [
       "    mean_fit_time  std_fit_time  mean_score_time  std_score_time param_C  \\\n",
       "11       0.777507      0.052047         0.014830        0.001822    0.15   \n",
       "7        0.824573      0.112009         0.016188        0.002244    0.09   \n",
       "9        0.697143      0.027280         0.013988        0.001231     0.1   \n",
       "5        0.824714      0.050353         0.016092        0.001253    0.06   \n",
       "12       2.321064      0.392403         0.023663        0.008375     1.5   \n",
       "\n",
       "   param_class_weight param_penalty param_solver  \\\n",
       "11           balanced            l2    liblinear   \n",
       "7            balanced            l2    liblinear   \n",
       "9            balanced            l2    liblinear   \n",
       "5            balanced            l2    liblinear   \n",
       "12           balanced            l1    liblinear   \n",
       "\n",
       "                                               params  split0_test_score  \\\n",
       "11  {'C': 0.15, 'class_weight': 'balanced', 'penal...           0.524944   \n",
       "7   {'C': 0.09, 'class_weight': 'balanced', 'penal...           0.530156   \n",
       "9   {'C': 0.1, 'class_weight': 'balanced', 'penalt...           0.528667   \n",
       "5   {'C': 0.06, 'class_weight': 'balanced', 'penal...           0.528667   \n",
       "12  {'C': 1.5, 'class_weight': 'balanced', 'penalt...           0.517498   \n",
       "\n",
       "    split1_test_score  split2_test_score  split3_test_score  \\\n",
       "11           0.522710           0.542815           0.542815   \n",
       "7            0.519732           0.534624           0.545793   \n",
       "9            0.517498           0.536113           0.548771   \n",
       "5            0.510797           0.532390           0.539836   \n",
       "12           0.526433           0.538347           0.521221   \n",
       "\n",
       "    split4_test_score  mean_test_score  std_test_score  rank_test_score  \n",
       "11           0.500745         0.526806        0.015569                1  \n",
       "7            0.502981         0.526657        0.014494                2  \n",
       "9            0.500745         0.526359        0.016355                3  \n",
       "5            0.499255         0.522189        0.014921                4  \n",
       "12           0.488077         0.518315        0.016677                5  "
      ]
     },
     "metadata": {},
     "output_type": "display_data"
    },
    {
     "data": {
      "text/plain": [
       "{'C': 0.01, 'class_weight': 'balanced', 'penalty': 'l2', 'solver': 'liblinear'}"
      ]
     },
     "execution_count": 46,
     "metadata": {},
     "output_type": "execute_result"
    }
   ],
   "source": [
    "param_grid = {'penalty' : ['l1', 'l2'],\n",
    "    'class_weight': [ \"balanced\"],\n",
    "    'C' : [0.001, 0.01, 0.06, 0.09, 0.1, 0.15, 1.5, 10],\n",
    "    'solver' : ['liblinear']}\n",
    "\n",
    "# Create grid search object\n",
    "logit = LogisticRegression(random_state=1)\n",
    "grid_cv_sent = GridSearchCV(logit, param_grid = param_grid, cv = 5, verbose=1, n_jobs=2).fit(x_mix_em_train, y_sent_train_sub)\n",
    "\n",
    "results = pd.DataFrame(grid_cv_sent.cv_results_).sort_values(['rank_test_score'])\n",
    "display(results.head(5))\n",
    "grid_cv.best_params_"
   ]
  },
  {
   "cell_type": "code",
   "execution_count": 51,
   "metadata": {},
   "outputs": [
    {
     "name": "stdout",
     "output_type": "stream",
     "text": [
      "              precision    recall  f1-score   support\n",
      "\n",
      "    negative       0.47      0.37      0.42       711\n",
      "     neutral       0.55      0.70      0.62      1058\n",
      "    positive       0.43      0.32      0.36       516\n",
      "\n",
      "    accuracy                           0.51      2285\n",
      "   macro avg       0.48      0.46      0.47      2285\n",
      "weighted avg       0.50      0.51      0.50      2285\n",
      "\n"
     ]
    }
   ],
   "source": [
    "\n",
    "logit_sent = LogisticRegression(random_state=1, **grid_cv_sent.best_params_)\n",
    "# logit.fit(x_new_train, y_new_train)\n",
    "logit_sent.fit(x_mix_em_train, y_sent_train_sub)\n",
    "y_predict_sent = logit_sent.predict(x_mix_em_test)\n",
    "\n",
    "print(classification_report(y_sent_test_sub, y_predict_sent, target_names=sentiments))"
   ]
  },
  {
   "cell_type": "code",
   "execution_count": null,
   "metadata": {},
   "outputs": [],
   "source": []
  }
 ],
 "metadata": {
  "kernelspec": {
   "display_name": "Python 3",
   "language": "python",
   "name": "python3"
  },
  "language_info": {
   "codemirror_mode": {
    "name": "ipython",
    "version": 3
   },
   "file_extension": ".py",
   "mimetype": "text/x-python",
   "name": "python",
   "nbconvert_exporter": "python",
   "pygments_lexer": "ipython3",
   "version": "3.7.6"
  }
 },
 "nbformat": 4,
 "nbformat_minor": 4
}
